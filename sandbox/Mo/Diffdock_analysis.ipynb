{
  "cells": [
    {
      "cell_type": "markdown",
      "metadata": {
        "id": "Ij8Js0uoSJ0P"
      },
      "source": [
        "# Setup"
      ]
    },
    {
      "cell_type": "code",
      "execution_count": null,
      "metadata": {
        "colab": {
          "base_uri": "https://localhost:8080/"
        },
        "id": "3SEkvxHyUQ12",
        "outputId": "f14173a7-78c0-491e-a7e5-7e14206765d2"
      },
      "outputs": [
        {
          "name": "stdout",
          "output_type": "stream",
          "text": [
            "⏬ Downloading https://github.com/conda-forge/miniforge/releases/download/23.1.0-1/Mambaforge-23.1.0-1-Linux-x86_64.sh...\n",
            "📦 Installing...\n",
            "📌 Adjusting configuration...\n",
            "🩹 Patching environment...\n",
            "⏲ Done in 0:00:18\n",
            "🔁 Restarting kernel...\n"
          ]
        }
      ],
      "source": [
        "!pip install -q condacolab\n",
        "import condacolab\n",
        "condacolab.install()"
      ]
    },
    {
      "cell_type": "code",
      "execution_count": null,
      "metadata": {
        "id": "1XKZv1tJUU18"
      },
      "outputs": [],
      "source": [
        "!git clone https://github.com/cch1999/posecheck.git\n",
        "!conda install -c mx reduce\n",
        "!pip install -e /content/posecheck/\n",
        "!pip install -r /content/posecheck/requirements.txt\n",
        "!conda install -c conda-forge openbabel"
      ]
    },
    {
      "cell_type": "code",
      "execution_count": null,
      "metadata": {
        "colab": {
          "base_uri": "https://localhost:8080/"
        },
        "id": "j0zpLs_nermh",
        "outputId": "5afcb2cd-203a-4b0e-ff77-34a4e5c3226f"
      },
      "outputs": [
        {
          "name": "stdout",
          "output_type": "stream",
          "text": [
            "Mounted at /content/gdrive\n"
          ]
        }
      ],
      "source": [
        "from google.colab import drive\n",
        "drive.mount('/content/gdrive')\n",
        "\n",
        "import sys\n",
        "sys.path.insert(0,'/content/posecheck/')"
      ]
    },
    {
      "cell_type": "code",
      "execution_count": null,
      "metadata": {
        "id": "0LCau7WxeoB4"
      },
      "outputs": [],
      "source": [
        "from posecheck import PoseCheck\n",
        "import pandas as pd\n",
        "import numpy as np\n",
        "import matplotlib.pyplot as plt\n",
        "import scipy\n",
        "import os"
      ]
    },
    {
      "cell_type": "markdown",
      "metadata": {
        "id": "W7ZXjjEgSSmu"
      },
      "source": [
        "# Analysis of DiffDock"
      ]
    },
    {
      "cell_type": "markdown",
      "metadata": {
        "id": "MrjvVoB8Sawd"
      },
      "source": [
        "## Set up of data pipelines"
      ]
    },
    {
      "cell_type": "code",
      "execution_count": null,
      "metadata": {
        "colab": {
          "base_uri": "https://localhost:8080/",
          "height": 439
        },
        "id": "1lRU0HhPIMUW",
        "outputId": "0492a923-62e4-4b1b-ebd2-9503a817dc09"
      },
      "outputs": [
        {
          "data": {
            "text/html": [
              "\n",
              "  <div id=\"df-48562505-c3e8-4606-919e-a54b438fcf69\" class=\"colab-df-container\">\n",
              "    <div>\n",
              "<style scoped>\n",
              "    .dataframe tbody tr th:only-of-type {\n",
              "        vertical-align: middle;\n",
              "    }\n",
              "\n",
              "    .dataframe tbody tr th {\n",
              "        vertical-align: top;\n",
              "    }\n",
              "\n",
              "    .dataframe thead th {\n",
              "        text-align: right;\n",
              "    }\n",
              "</style>\n",
              "<table border=\"1\" class=\"dataframe\">\n",
              "  <thead>\n",
              "    <tr style=\"text-align: right;\">\n",
              "      <th></th>\n",
              "      <th>complex_name</th>\n",
              "      <th>protein_path</th>\n",
              "      <th>ligand_description</th>\n",
              "      <th>Predicted_Mol_path</th>\n",
              "      <th>1</th>\n",
              "      <th>2</th>\n",
              "      <th>3</th>\n",
              "      <th>4</th>\n",
              "      <th>5</th>\n",
              "      <th>6</th>\n",
              "      <th>7</th>\n",
              "      <th>8</th>\n",
              "      <th>9</th>\n",
              "      <th>10</th>\n",
              "    </tr>\n",
              "  </thead>\n",
              "  <tbody>\n",
              "    <tr>\n",
              "      <th>0</th>\n",
              "      <td>0</td>\n",
              "      <td>NA</td>\n",
              "      <td>data/PDBBind_processed/6qqw/6qqw_ligand.mol2</td>\n",
              "      <td>NA</td>\n",
              "      <td>1</td>\n",
              "      <td>1</td>\n",
              "      <td>1</td>\n",
              "      <td>1</td>\n",
              "      <td>1</td>\n",
              "      <td>1</td>\n",
              "      <td>1</td>\n",
              "      <td>1</td>\n",
              "      <td>1</td>\n",
              "      <td>1</td>\n",
              "    </tr>\n",
              "    <tr>\n",
              "      <th>1</th>\n",
              "      <td>1</td>\n",
              "      <td>NA</td>\n",
              "      <td>data/PDBBind_processed/6d08/6d08_ligand.sdf</td>\n",
              "      <td>NA</td>\n",
              "      <td>1</td>\n",
              "      <td>1</td>\n",
              "      <td>1</td>\n",
              "      <td>1</td>\n",
              "      <td>1</td>\n",
              "      <td>1</td>\n",
              "      <td>1</td>\n",
              "      <td>1</td>\n",
              "      <td>1</td>\n",
              "      <td>1</td>\n",
              "    </tr>\n",
              "    <tr>\n",
              "      <th>2</th>\n",
              "      <td>2</td>\n",
              "      <td>NA</td>\n",
              "      <td>data/PDBBind_processed/6jap/6jap_ligand.sdf</td>\n",
              "      <td>NA</td>\n",
              "      <td>1</td>\n",
              "      <td>1</td>\n",
              "      <td>1</td>\n",
              "      <td>1</td>\n",
              "      <td>1</td>\n",
              "      <td>1</td>\n",
              "      <td>1</td>\n",
              "      <td>1</td>\n",
              "      <td>1</td>\n",
              "      <td>1</td>\n",
              "    </tr>\n",
              "    <tr>\n",
              "      <th>3</th>\n",
              "      <td>3</td>\n",
              "      <td>NA</td>\n",
              "      <td>data/PDBBind_processed/6np2/6np2_ligand.sdf</td>\n",
              "      <td>NA</td>\n",
              "      <td>1</td>\n",
              "      <td>1</td>\n",
              "      <td>1</td>\n",
              "      <td>1</td>\n",
              "      <td>1</td>\n",
              "      <td>1</td>\n",
              "      <td>1</td>\n",
              "      <td>1</td>\n",
              "      <td>1</td>\n",
              "      <td>1</td>\n",
              "    </tr>\n",
              "    <tr>\n",
              "      <th>4</th>\n",
              "      <td>4</td>\n",
              "      <td>NA</td>\n",
              "      <td>data/PDBBind_processed/6uvp/6uvp_ligand.sdf</td>\n",
              "      <td>NA</td>\n",
              "      <td>1</td>\n",
              "      <td>1</td>\n",
              "      <td>1</td>\n",
              "      <td>1</td>\n",
              "      <td>1</td>\n",
              "      <td>1</td>\n",
              "      <td>1</td>\n",
              "      <td>1</td>\n",
              "      <td>1</td>\n",
              "      <td>1</td>\n",
              "    </tr>\n",
              "    <tr>\n",
              "      <th>...</th>\n",
              "      <td>...</td>\n",
              "      <td>...</td>\n",
              "      <td>...</td>\n",
              "      <td>...</td>\n",
              "      <td>...</td>\n",
              "      <td>...</td>\n",
              "      <td>...</td>\n",
              "      <td>...</td>\n",
              "      <td>...</td>\n",
              "      <td>...</td>\n",
              "      <td>...</td>\n",
              "      <td>...</td>\n",
              "      <td>...</td>\n",
              "      <td>...</td>\n",
              "    </tr>\n",
              "    <tr>\n",
              "      <th>358</th>\n",
              "      <td>358</td>\n",
              "      <td>NA</td>\n",
              "      <td>data/PDBBind_processed/6pya/6pya_ligand.mol2</td>\n",
              "      <td>NA</td>\n",
              "      <td>1</td>\n",
              "      <td>1</td>\n",
              "      <td>1</td>\n",
              "      <td>1</td>\n",
              "      <td>1</td>\n",
              "      <td>1</td>\n",
              "      <td>1</td>\n",
              "      <td>1</td>\n",
              "      <td>1</td>\n",
              "      <td>1</td>\n",
              "    </tr>\n",
              "    <tr>\n",
              "      <th>359</th>\n",
              "      <td>359</td>\n",
              "      <td>NA</td>\n",
              "      <td>data/PDBBind_processed/6ffe/6ffe_ligand.sdf</td>\n",
              "      <td>NA</td>\n",
              "      <td>1</td>\n",
              "      <td>1</td>\n",
              "      <td>1</td>\n",
              "      <td>1</td>\n",
              "      <td>1</td>\n",
              "      <td>1</td>\n",
              "      <td>1</td>\n",
              "      <td>1</td>\n",
              "      <td>1</td>\n",
              "      <td>1</td>\n",
              "    </tr>\n",
              "    <tr>\n",
              "      <th>360</th>\n",
              "      <td>360</td>\n",
              "      <td>NA</td>\n",
              "      <td>data/PDBBind_processed/6d3x/6d3x_ligand.sdf</td>\n",
              "      <td>NA</td>\n",
              "      <td>1</td>\n",
              "      <td>1</td>\n",
              "      <td>1</td>\n",
              "      <td>1</td>\n",
              "      <td>1</td>\n",
              "      <td>1</td>\n",
              "      <td>1</td>\n",
              "      <td>1</td>\n",
              "      <td>1</td>\n",
              "      <td>1</td>\n",
              "    </tr>\n",
              "    <tr>\n",
              "      <th>361</th>\n",
              "      <td>361</td>\n",
              "      <td>NA</td>\n",
              "      <td>data/PDBBind_processed/6gj8/6gj8_ligand.mol2</td>\n",
              "      <td>NA</td>\n",
              "      <td>1</td>\n",
              "      <td>1</td>\n",
              "      <td>1</td>\n",
              "      <td>1</td>\n",
              "      <td>1</td>\n",
              "      <td>1</td>\n",
              "      <td>1</td>\n",
              "      <td>1</td>\n",
              "      <td>1</td>\n",
              "      <td>1</td>\n",
              "    </tr>\n",
              "    <tr>\n",
              "      <th>362</th>\n",
              "      <td>362</td>\n",
              "      <td>NA</td>\n",
              "      <td>data/PDBBind_processed/6mo2/6mo2_ligand.mol2</td>\n",
              "      <td>NA</td>\n",
              "      <td>1</td>\n",
              "      <td>1</td>\n",
              "      <td>1</td>\n",
              "      <td>1</td>\n",
              "      <td>1</td>\n",
              "      <td>1</td>\n",
              "      <td>1</td>\n",
              "      <td>1</td>\n",
              "      <td>1</td>\n",
              "      <td>1</td>\n",
              "    </tr>\n",
              "  </tbody>\n",
              "</table>\n",
              "<p>363 rows × 14 columns</p>\n",
              "</div>\n",
              "    <div class=\"colab-df-buttons\">\n",
              "\n",
              "  <div class=\"colab-df-container\">\n",
              "    <button class=\"colab-df-convert\" onclick=\"convertToInteractive('df-48562505-c3e8-4606-919e-a54b438fcf69')\"\n",
              "            title=\"Convert this dataframe to an interactive table.\"\n",
              "            style=\"display:none;\">\n",
              "\n",
              "  <svg xmlns=\"http://www.w3.org/2000/svg\" height=\"24px\" viewBox=\"0 -960 960 960\">\n",
              "    <path d=\"M120-120v-720h720v720H120Zm60-500h600v-160H180v160Zm220 220h160v-160H400v160Zm0 220h160v-160H400v160ZM180-400h160v-160H180v160Zm440 0h160v-160H620v160ZM180-180h160v-160H180v160Zm440 0h160v-160H620v160Z\"/>\n",
              "  </svg>\n",
              "    </button>\n",
              "\n",
              "  <style>\n",
              "    .colab-df-container {\n",
              "      display:flex;\n",
              "      gap: 12px;\n",
              "    }\n",
              "\n",
              "    .colab-df-convert {\n",
              "      background-color: #E8F0FE;\n",
              "      border: none;\n",
              "      border-radius: 50%;\n",
              "      cursor: pointer;\n",
              "      display: none;\n",
              "      fill: #1967D2;\n",
              "      height: 32px;\n",
              "      padding: 0 0 0 0;\n",
              "      width: 32px;\n",
              "    }\n",
              "\n",
              "    .colab-df-convert:hover {\n",
              "      background-color: #E2EBFA;\n",
              "      box-shadow: 0px 1px 2px rgba(60, 64, 67, 0.3), 0px 1px 3px 1px rgba(60, 64, 67, 0.15);\n",
              "      fill: #174EA6;\n",
              "    }\n",
              "\n",
              "    .colab-df-buttons div {\n",
              "      margin-bottom: 4px;\n",
              "    }\n",
              "\n",
              "    [theme=dark] .colab-df-convert {\n",
              "      background-color: #3B4455;\n",
              "      fill: #D2E3FC;\n",
              "    }\n",
              "\n",
              "    [theme=dark] .colab-df-convert:hover {\n",
              "      background-color: #434B5C;\n",
              "      box-shadow: 0px 1px 3px 1px rgba(0, 0, 0, 0.15);\n",
              "      filter: drop-shadow(0px 1px 2px rgba(0, 0, 0, 0.3));\n",
              "      fill: #FFFFFF;\n",
              "    }\n",
              "  </style>\n",
              "\n",
              "    <script>\n",
              "      const buttonEl =\n",
              "        document.querySelector('#df-48562505-c3e8-4606-919e-a54b438fcf69 button.colab-df-convert');\n",
              "      buttonEl.style.display =\n",
              "        google.colab.kernel.accessAllowed ? 'block' : 'none';\n",
              "\n",
              "      async function convertToInteractive(key) {\n",
              "        const element = document.querySelector('#df-48562505-c3e8-4606-919e-a54b438fcf69');\n",
              "        const dataTable =\n",
              "          await google.colab.kernel.invokeFunction('convertToInteractive',\n",
              "                                                    [key], {});\n",
              "        if (!dataTable) return;\n",
              "\n",
              "        const docLinkHtml = 'Like what you see? Visit the ' +\n",
              "          '<a target=\"_blank\" href=https://colab.research.google.com/notebooks/data_table.ipynb>data table notebook</a>'\n",
              "          + ' to learn more about interactive tables.';\n",
              "        element.innerHTML = '';\n",
              "        dataTable['output_type'] = 'display_data';\n",
              "        await google.colab.output.renderOutput(dataTable, element);\n",
              "        const docLink = document.createElement('div');\n",
              "        docLink.innerHTML = docLinkHtml;\n",
              "        element.appendChild(docLink);\n",
              "      }\n",
              "    </script>\n",
              "  </div>\n",
              "\n",
              "\n",
              "<div id=\"df-7ab53b8b-9edf-4caa-afc6-a9b6bbb34381\">\n",
              "  <button class=\"colab-df-quickchart\" onclick=\"quickchart('df-7ab53b8b-9edf-4caa-afc6-a9b6bbb34381')\"\n",
              "            title=\"Suggest charts\"\n",
              "            style=\"display:none;\">\n",
              "\n",
              "<svg xmlns=\"http://www.w3.org/2000/svg\" height=\"24px\"viewBox=\"0 0 24 24\"\n",
              "     width=\"24px\">\n",
              "    <g>\n",
              "        <path d=\"M19 3H5c-1.1 0-2 .9-2 2v14c0 1.1.9 2 2 2h14c1.1 0 2-.9 2-2V5c0-1.1-.9-2-2-2zM9 17H7v-7h2v7zm4 0h-2V7h2v10zm4 0h-2v-4h2v4z\"/>\n",
              "    </g>\n",
              "</svg>\n",
              "  </button>\n",
              "\n",
              "<style>\n",
              "  .colab-df-quickchart {\n",
              "      --bg-color: #E8F0FE;\n",
              "      --fill-color: #1967D2;\n",
              "      --hover-bg-color: #E2EBFA;\n",
              "      --hover-fill-color: #174EA6;\n",
              "      --disabled-fill-color: #AAA;\n",
              "      --disabled-bg-color: #DDD;\n",
              "  }\n",
              "\n",
              "  [theme=dark] .colab-df-quickchart {\n",
              "      --bg-color: #3B4455;\n",
              "      --fill-color: #D2E3FC;\n",
              "      --hover-bg-color: #434B5C;\n",
              "      --hover-fill-color: #FFFFFF;\n",
              "      --disabled-bg-color: #3B4455;\n",
              "      --disabled-fill-color: #666;\n",
              "  }\n",
              "\n",
              "  .colab-df-quickchart {\n",
              "    background-color: var(--bg-color);\n",
              "    border: none;\n",
              "    border-radius: 50%;\n",
              "    cursor: pointer;\n",
              "    display: none;\n",
              "    fill: var(--fill-color);\n",
              "    height: 32px;\n",
              "    padding: 0;\n",
              "    width: 32px;\n",
              "  }\n",
              "\n",
              "  .colab-df-quickchart:hover {\n",
              "    background-color: var(--hover-bg-color);\n",
              "    box-shadow: 0 1px 2px rgba(60, 64, 67, 0.3), 0 1px 3px 1px rgba(60, 64, 67, 0.15);\n",
              "    fill: var(--button-hover-fill-color);\n",
              "  }\n",
              "\n",
              "  .colab-df-quickchart-complete:disabled,\n",
              "  .colab-df-quickchart-complete:disabled:hover {\n",
              "    background-color: var(--disabled-bg-color);\n",
              "    fill: var(--disabled-fill-color);\n",
              "    box-shadow: none;\n",
              "  }\n",
              "\n",
              "  .colab-df-spinner {\n",
              "    border: 2px solid var(--fill-color);\n",
              "    border-color: transparent;\n",
              "    border-bottom-color: var(--fill-color);\n",
              "    animation:\n",
              "      spin 1s steps(1) infinite;\n",
              "  }\n",
              "\n",
              "  @keyframes spin {\n",
              "    0% {\n",
              "      border-color: transparent;\n",
              "      border-bottom-color: var(--fill-color);\n",
              "      border-left-color: var(--fill-color);\n",
              "    }\n",
              "    20% {\n",
              "      border-color: transparent;\n",
              "      border-left-color: var(--fill-color);\n",
              "      border-top-color: var(--fill-color);\n",
              "    }\n",
              "    30% {\n",
              "      border-color: transparent;\n",
              "      border-left-color: var(--fill-color);\n",
              "      border-top-color: var(--fill-color);\n",
              "      border-right-color: var(--fill-color);\n",
              "    }\n",
              "    40% {\n",
              "      border-color: transparent;\n",
              "      border-right-color: var(--fill-color);\n",
              "      border-top-color: var(--fill-color);\n",
              "    }\n",
              "    60% {\n",
              "      border-color: transparent;\n",
              "      border-right-color: var(--fill-color);\n",
              "    }\n",
              "    80% {\n",
              "      border-color: transparent;\n",
              "      border-right-color: var(--fill-color);\n",
              "      border-bottom-color: var(--fill-color);\n",
              "    }\n",
              "    90% {\n",
              "      border-color: transparent;\n",
              "      border-bottom-color: var(--fill-color);\n",
              "    }\n",
              "  }\n",
              "</style>\n",
              "\n",
              "  <script>\n",
              "    async function quickchart(key) {\n",
              "      const quickchartButtonEl =\n",
              "        document.querySelector('#' + key + ' button');\n",
              "      quickchartButtonEl.disabled = true;  // To prevent multiple clicks.\n",
              "      quickchartButtonEl.classList.add('colab-df-spinner');\n",
              "      try {\n",
              "        const charts = await google.colab.kernel.invokeFunction(\n",
              "            'suggestCharts', [key], {});\n",
              "      } catch (error) {\n",
              "        console.error('Error during call to suggestCharts:', error);\n",
              "      }\n",
              "      quickchartButtonEl.classList.remove('colab-df-spinner');\n",
              "      quickchartButtonEl.classList.add('colab-df-quickchart-complete');\n",
              "    }\n",
              "    (() => {\n",
              "      let quickchartButtonEl =\n",
              "        document.querySelector('#df-7ab53b8b-9edf-4caa-afc6-a9b6bbb34381 button');\n",
              "      quickchartButtonEl.style.display =\n",
              "        google.colab.kernel.accessAllowed ? 'block' : 'none';\n",
              "    })();\n",
              "  </script>\n",
              "</div>\n",
              "    </div>\n",
              "  </div>\n"
            ],
            "text/plain": [
              "     complex_name protein_path                            ligand_description  \\\n",
              "0               0           NA  data/PDBBind_processed/6qqw/6qqw_ligand.mol2   \n",
              "1               1           NA   data/PDBBind_processed/6d08/6d08_ligand.sdf   \n",
              "2               2           NA   data/PDBBind_processed/6jap/6jap_ligand.sdf   \n",
              "3               3           NA   data/PDBBind_processed/6np2/6np2_ligand.sdf   \n",
              "4               4           NA   data/PDBBind_processed/6uvp/6uvp_ligand.sdf   \n",
              "..            ...          ...                                           ...   \n",
              "358           358           NA  data/PDBBind_processed/6pya/6pya_ligand.mol2   \n",
              "359           359           NA   data/PDBBind_processed/6ffe/6ffe_ligand.sdf   \n",
              "360           360           NA   data/PDBBind_processed/6d3x/6d3x_ligand.sdf   \n",
              "361           361           NA  data/PDBBind_processed/6gj8/6gj8_ligand.mol2   \n",
              "362           362           NA  data/PDBBind_processed/6mo2/6mo2_ligand.mol2   \n",
              "\n",
              "    Predicted_Mol_path  1  2  3  4  5  6  7  8  9 10  \n",
              "0                   NA  1  1  1  1  1  1  1  1  1  1  \n",
              "1                   NA  1  1  1  1  1  1  1  1  1  1  \n",
              "2                   NA  1  1  1  1  1  1  1  1  1  1  \n",
              "3                   NA  1  1  1  1  1  1  1  1  1  1  \n",
              "4                   NA  1  1  1  1  1  1  1  1  1  1  \n",
              "..                 ... .. .. .. .. .. .. .. .. .. ..  \n",
              "358                 NA  1  1  1  1  1  1  1  1  1  1  \n",
              "359                 NA  1  1  1  1  1  1  1  1  1  1  \n",
              "360                 NA  1  1  1  1  1  1  1  1  1  1  \n",
              "361                 NA  1  1  1  1  1  1  1  1  1  1  \n",
              "362                 NA  1  1  1  1  1  1  1  1  1  1  \n",
              "\n",
              "[363 rows x 14 columns]"
            ]
          },
          "execution_count": 4,
          "metadata": {},
          "output_type": "execute_result"
        }
      ],
      "source": [
        "import pandas as pd\n",
        "\n",
        "df = pd.read_csv('/content/testset_csv.csv')\n",
        "del df['protein_sequence']\n",
        "df['Predicted_Mol_path'] = \"NA\"\n",
        "df['protein_path'] = 'NA'\n",
        "df['1'] = '1'\n",
        "df['2'] = '1'\n",
        "df['3'] = '1'\n",
        "df['4'] = '1'\n",
        "df['5'] = '1'\n",
        "df['6'] = '1'\n",
        "df['7'] = '1'\n",
        "df['8'] = '1'\n",
        "df['9'] = '1'\n",
        "df['10'] = '1'\n",
        "df"
      ]
    },
    {
      "cell_type": "code",
      "execution_count": null,
      "metadata": {
        "colab": {
          "base_uri": "https://localhost:8080/"
        },
        "id": "OeK1wCuPI4-D",
        "outputId": "f2cd9df5-22dd-48d7-dfd7-af939365e09e"
      },
      "outputs": [
        {
          "name": "stdout",
          "output_type": "stream",
          "text": [
            "['6qqw', '6d08', '6jap', '6np2', '6uvp', '6oxq', '6jsn', '6hzb', '6qrc', '6oio', '6jag', '6moa', '6hld', '6i9a', '6e4c', '6g24', '6jb4', '6s55', '6seo', '6dyz', '5zk5', '6jid', '5ze6', '6qlu', '6a6k', '6qgf', '6e3z', '6te6', '6pka', '6g2o', '6jsf', '5zxk', '6qxd', '6n97', '6jt3', '6qtr', '6oy1', '6n96', '6qzh', '6qqz', '6qmt', '6ibx', '6hmt', '5zk7', '6k3l', '6cjs', '6n9l', '6ibz', '6ott', '6gge', '6hot', '6e3p', '6md6', '6hlb', '6fe5', '6uwp', '6npp', '6g2f', '6mo7', '6bqd', '6nsv', '6i76', '6n53', '6g2c', '6eeb', '6n0m', '6uvy', '6ovz', '6olx', '6v5l', '6hhg', '5zcu', '6dz2', '6mjq', '6efk', '6s9w', '6gdy', '6kqi', '6ueg', '6oxt', '6oy0', '6qr7', '6i41', '6cyg', '6qmr', '6g27', '6ggb', '6g3c', '6n4e', '6fcj', '6quv', '6iql', '6i74', '6qr4', '6rnu', '6jib', '6izq', '6qw8', '6qto', '6qrd', '6hza', '6e5s', '6dz3', '6e6w', '6cyh', '5zlf', '6om4', '6gga', '6pgp', '6qqv', '6qtq', '6gj6', '6os5', '6s07', '6i77', '6hhj', '6ahs', '6oxx', '6mjj', '6hor', '6jb0', '6i68', '6pz4', '6mhb', '6uim', '6jsg', '6i78', '6oxy', '6gbw', '6mo0', '6ggf', '6qge', '6cjr', '6oxp', '6d07', '6i63', '6ten', '6uii', '6qlr', '6sen', '6oxv', '6g2b', '5zr3', '6kjf', '6qr9', '6g9f', '6e6v', '5zk9', '6pnn', '6nri', '6uwv', '6ooz', '6npi', '6oip', '6miv', '6s57', '6p8x', '6hoq', '6qts', '6ggd', '6pnm', '6oy2', '6oi8', '6mhd', '6agt', '6i5p', '6hhr', '6p8z', '6c85', '6g5u', '6j06', '6qsz', '6jbb', '6hhp', '6np5', '6nlj', '6qlp', '6n94', '6e13', '6qls', '6uil', '6st3', '6n92', '6s56', '6hzd', '6uhv', '6k05', '6q36', '6ic0', '6hhi', '6e3m', '6qtx', '6jse', '5zjy', '6o3y', '6rpg', '6rr0', '6gzy', '6qlt', '6ufo', '6o0h', '6o3x', '5zjz', '6i8t', '6ooy', '6oiq', '6od6', '6nrh', '6qra', '6hhh', '6m7h', '6ufn', '6qr0', '6o5u', '6h14', '6jwa', '6ny0', '6jan', '6ftf', '6oxw', '6jon', '6cf7', '6rtn', '6jsz', '6o9c', '6mo8', '6qln', '6qqu', '6i66', '6mja', '6gwe', '6d3z', '6oxr', '6r4k', '6hle', '6h9v', '6hou', '6nv9', '6py0', '6qlq', '6nv7', '6n4b', '6jaq', '6i8m', '6dz0', '6oxs', '6k2n', '6cjj', '6ffg', '6a73', '6qqt', '6a1c', '6oxu', '6qre', '6qtw', '6np4', '6hv2', '6n55', '6e3o', '6kjd', '6sfc', '6qi7', '6hzc', '6k04', '6op0', '6q38', '6n8x', '6np3', '6uvv', '6pgo', '6jbe', '6i75', '6qqq', '6i62', '6j9y', '6g29', '6h7d', '6mo9', '6jao', '6jmf', '6hmy', '6qfe', '5zml', '6i65', '6e7m', '6i61', '6rz6', '6qtm', '6qlo', '6oie', '6miy', '6nrf', '6gj5', '6jad', '6mj4', '6h12', '6d3y', '6qr2', '6qxa', '6o9b', '6ckl', '6oir', '6d40', '6e6j', '6i7a', '6g25', '6oin', '6jam', '6oxz', '6hop', '6rot', '6uhu', '6mji', '6nrj', '6nt2', '6op9', '6pno', '6e4v', '6k1s', '6a87', '6oim', '6cjp', '6pyb', '6h13', '6qrf', '6mhc', '6j9w', '6nrg', '6fff', '6n93', '6jut', '6g2e', '6nd3', '6os6', '6dql', '6inz', '6i67', '6quw', '6qwi', '6npm', '6i64', '6e3n', '6qrg', '6nxz', '6iby', '6gj7', '6qr3', '6qr1', '6s9x', '6q4q', '6hbn', '6nw3', '6tel', '6p8y', '6d5w', '6t6a', '6o5g', '6r7d', '6pya', '6ffe', '6d3x', '6gj8', '6mo2']\n"
          ]
        }
      ],
      "source": [
        "mylist = []\n",
        "for i in range(363):\n",
        "  mylist.append(df['ligand_description'].iloc[i].split('/')[2])\n",
        "\n",
        "print(mylist)"
      ]
    },
    {
      "cell_type": "code",
      "execution_count": null,
      "metadata": {
        "id": "XBpIYw6VCOWf"
      },
      "outputs": [],
      "source": [
        "import os\n",
        "directory = '/content/gdrive/MyDrive/Protein_data/user_predictions_testset/'\n",
        "predicted_ligand = []\n",
        "for filename in os.listdir(directory):\n",
        "  if 'index' in filename:\n",
        "    f = os.path.join(directory, filename)\n",
        "    #print(filename)\n",
        "    for filename2 in os.listdir(f):\n",
        "      if \"rank1.sdf\" in filename2:\n",
        "        g = os.path.join(f, filename2)\n",
        "        #print(filename[5:8])\n",
        "        predicted_ligand.append((filename[5:8],g))\n",
        "        #print(g)"
      ]
    },
    {
      "cell_type": "code",
      "execution_count": null,
      "metadata": {
        "id": "LoFLUDbYRQDO"
      },
      "outputs": [],
      "source": [
        "for item in predicted_ligand:\n",
        "  for i in range(363):\n",
        "    if item[0][-1].isdigit():\n",
        "      index = int(item[0])\n",
        "    elif item[0][-2].isdigit():\n",
        "      index = int(item[0][:2])\n",
        "    else:\n",
        "      index = int(item[0][0])\n",
        "    if index == df['complex_name'].iloc[i]:\n",
        "      df['Predicted_Mol_path'].iloc[i] = item[1]"
      ]
    },
    {
      "cell_type": "code",
      "execution_count": null,
      "metadata": {
        "id": "nYkh9ngGI647"
      },
      "outputs": [],
      "source": [
        "\n",
        "rootdir2 = '/content/gdrive/MyDrive/Protein_data/inference_output'\n",
        "\n",
        "reference_proteins = []\n",
        "for filename in os.listdir(rootdir2):\n",
        "  if filename in mylist:\n",
        "    f = os.path.join(rootdir2, filename)\n",
        "    #print(filename)\n",
        "\n",
        "    for filename2 in os.listdir(f):\n",
        "      if \"protein\" in filename2:\n",
        "        g = os.path.join(f, filename2)\n",
        "        reference_proteins.append((filename,g))"
      ]
    },
    {
      "cell_type": "code",
      "execution_count": null,
      "metadata": {
        "id": "dgUQkzaAv-ba"
      },
      "outputs": [],
      "source": [
        "for item in reference_proteins:\n",
        "  for i in range(363):\n",
        "    if item[0] == df['ligand_description'].iloc[i].split('/')[2]:\n",
        "      df['protein_path'].iloc[i] = item[1]"
      ]
    },
    {
      "cell_type": "code",
      "execution_count": null,
      "metadata": {
        "colab": {
          "base_uri": "https://localhost:8080/",
          "height": 439
        },
        "id": "11gXIS_9NvlJ",
        "outputId": "4969796a-7e7c-49cc-b325-73a42c410106"
      },
      "outputs": [
        {
          "data": {
            "text/html": [
              "\n",
              "  <div id=\"df-60ee572b-d35a-4aaf-9c15-921af9a4d533\" class=\"colab-df-container\">\n",
              "    <div>\n",
              "<style scoped>\n",
              "    .dataframe tbody tr th:only-of-type {\n",
              "        vertical-align: middle;\n",
              "    }\n",
              "\n",
              "    .dataframe tbody tr th {\n",
              "        vertical-align: top;\n",
              "    }\n",
              "\n",
              "    .dataframe thead th {\n",
              "        text-align: right;\n",
              "    }\n",
              "</style>\n",
              "<table border=\"1\" class=\"dataframe\">\n",
              "  <thead>\n",
              "    <tr style=\"text-align: right;\">\n",
              "      <th></th>\n",
              "      <th>complex_name</th>\n",
              "      <th>protein_path</th>\n",
              "      <th>ligand_description</th>\n",
              "      <th>Predicted_Mol_path</th>\n",
              "      <th>1</th>\n",
              "      <th>2</th>\n",
              "      <th>3</th>\n",
              "      <th>4</th>\n",
              "      <th>5</th>\n",
              "      <th>6</th>\n",
              "      <th>7</th>\n",
              "      <th>8</th>\n",
              "      <th>9</th>\n",
              "      <th>10</th>\n",
              "    </tr>\n",
              "  </thead>\n",
              "  <tbody>\n",
              "    <tr>\n",
              "      <th>0</th>\n",
              "      <td>0</td>\n",
              "      <td>/content/gdrive/MyDrive/Protein_data/inference...</td>\n",
              "      <td>data/PDBBind_processed/6qqw/6qqw_ligand.mol2</td>\n",
              "      <td>/content/gdrive/MyDrive/Protein_data/user_pred...</td>\n",
              "      <td>1</td>\n",
              "      <td>1</td>\n",
              "      <td>1</td>\n",
              "      <td>1</td>\n",
              "      <td>1</td>\n",
              "      <td>1</td>\n",
              "      <td>1</td>\n",
              "      <td>1</td>\n",
              "      <td>1</td>\n",
              "      <td>1</td>\n",
              "    </tr>\n",
              "    <tr>\n",
              "      <th>1</th>\n",
              "      <td>1</td>\n",
              "      <td>/content/gdrive/MyDrive/Protein_data/inference...</td>\n",
              "      <td>data/PDBBind_processed/6d08/6d08_ligand.sdf</td>\n",
              "      <td>/content/gdrive/MyDrive/Protein_data/user_pred...</td>\n",
              "      <td>1</td>\n",
              "      <td>1</td>\n",
              "      <td>1</td>\n",
              "      <td>1</td>\n",
              "      <td>1</td>\n",
              "      <td>1</td>\n",
              "      <td>1</td>\n",
              "      <td>1</td>\n",
              "      <td>1</td>\n",
              "      <td>1</td>\n",
              "    </tr>\n",
              "    <tr>\n",
              "      <th>2</th>\n",
              "      <td>2</td>\n",
              "      <td>/content/gdrive/MyDrive/Protein_data/inference...</td>\n",
              "      <td>data/PDBBind_processed/6jap/6jap_ligand.sdf</td>\n",
              "      <td>/content/gdrive/MyDrive/Protein_data/user_pred...</td>\n",
              "      <td>1</td>\n",
              "      <td>1</td>\n",
              "      <td>1</td>\n",
              "      <td>1</td>\n",
              "      <td>1</td>\n",
              "      <td>1</td>\n",
              "      <td>1</td>\n",
              "      <td>1</td>\n",
              "      <td>1</td>\n",
              "      <td>1</td>\n",
              "    </tr>\n",
              "    <tr>\n",
              "      <th>3</th>\n",
              "      <td>3</td>\n",
              "      <td>/content/gdrive/MyDrive/Protein_data/inference...</td>\n",
              "      <td>data/PDBBind_processed/6np2/6np2_ligand.sdf</td>\n",
              "      <td>/content/gdrive/MyDrive/Protein_data/user_pred...</td>\n",
              "      <td>1</td>\n",
              "      <td>1</td>\n",
              "      <td>1</td>\n",
              "      <td>1</td>\n",
              "      <td>1</td>\n",
              "      <td>1</td>\n",
              "      <td>1</td>\n",
              "      <td>1</td>\n",
              "      <td>1</td>\n",
              "      <td>1</td>\n",
              "    </tr>\n",
              "    <tr>\n",
              "      <th>4</th>\n",
              "      <td>4</td>\n",
              "      <td>/content/gdrive/MyDrive/Protein_data/inference...</td>\n",
              "      <td>data/PDBBind_processed/6uvp/6uvp_ligand.sdf</td>\n",
              "      <td>/content/gdrive/MyDrive/Protein_data/user_pred...</td>\n",
              "      <td>1</td>\n",
              "      <td>1</td>\n",
              "      <td>1</td>\n",
              "      <td>1</td>\n",
              "      <td>1</td>\n",
              "      <td>1</td>\n",
              "      <td>1</td>\n",
              "      <td>1</td>\n",
              "      <td>1</td>\n",
              "      <td>1</td>\n",
              "    </tr>\n",
              "    <tr>\n",
              "      <th>...</th>\n",
              "      <td>...</td>\n",
              "      <td>...</td>\n",
              "      <td>...</td>\n",
              "      <td>...</td>\n",
              "      <td>...</td>\n",
              "      <td>...</td>\n",
              "      <td>...</td>\n",
              "      <td>...</td>\n",
              "      <td>...</td>\n",
              "      <td>...</td>\n",
              "      <td>...</td>\n",
              "      <td>...</td>\n",
              "      <td>...</td>\n",
              "      <td>...</td>\n",
              "    </tr>\n",
              "    <tr>\n",
              "      <th>358</th>\n",
              "      <td>358</td>\n",
              "      <td>/content/gdrive/MyDrive/Protein_data/inference...</td>\n",
              "      <td>data/PDBBind_processed/6pya/6pya_ligand.mol2</td>\n",
              "      <td>/content/gdrive/MyDrive/Protein_data/user_pred...</td>\n",
              "      <td>1</td>\n",
              "      <td>1</td>\n",
              "      <td>1</td>\n",
              "      <td>1</td>\n",
              "      <td>1</td>\n",
              "      <td>1</td>\n",
              "      <td>1</td>\n",
              "      <td>1</td>\n",
              "      <td>1</td>\n",
              "      <td>1</td>\n",
              "    </tr>\n",
              "    <tr>\n",
              "      <th>359</th>\n",
              "      <td>359</td>\n",
              "      <td>/content/gdrive/MyDrive/Protein_data/inference...</td>\n",
              "      <td>data/PDBBind_processed/6ffe/6ffe_ligand.sdf</td>\n",
              "      <td>/content/gdrive/MyDrive/Protein_data/user_pred...</td>\n",
              "      <td>1</td>\n",
              "      <td>1</td>\n",
              "      <td>1</td>\n",
              "      <td>1</td>\n",
              "      <td>1</td>\n",
              "      <td>1</td>\n",
              "      <td>1</td>\n",
              "      <td>1</td>\n",
              "      <td>1</td>\n",
              "      <td>1</td>\n",
              "    </tr>\n",
              "    <tr>\n",
              "      <th>360</th>\n",
              "      <td>360</td>\n",
              "      <td>/content/gdrive/MyDrive/Protein_data/inference...</td>\n",
              "      <td>data/PDBBind_processed/6d3x/6d3x_ligand.sdf</td>\n",
              "      <td>/content/gdrive/MyDrive/Protein_data/user_pred...</td>\n",
              "      <td>1</td>\n",
              "      <td>1</td>\n",
              "      <td>1</td>\n",
              "      <td>1</td>\n",
              "      <td>1</td>\n",
              "      <td>1</td>\n",
              "      <td>1</td>\n",
              "      <td>1</td>\n",
              "      <td>1</td>\n",
              "      <td>1</td>\n",
              "    </tr>\n",
              "    <tr>\n",
              "      <th>361</th>\n",
              "      <td>361</td>\n",
              "      <td>/content/gdrive/MyDrive/Protein_data/inference...</td>\n",
              "      <td>data/PDBBind_processed/6gj8/6gj8_ligand.mol2</td>\n",
              "      <td>/content/gdrive/MyDrive/Protein_data/user_pred...</td>\n",
              "      <td>1</td>\n",
              "      <td>1</td>\n",
              "      <td>1</td>\n",
              "      <td>1</td>\n",
              "      <td>1</td>\n",
              "      <td>1</td>\n",
              "      <td>1</td>\n",
              "      <td>1</td>\n",
              "      <td>1</td>\n",
              "      <td>1</td>\n",
              "    </tr>\n",
              "    <tr>\n",
              "      <th>362</th>\n",
              "      <td>362</td>\n",
              "      <td>/content/gdrive/MyDrive/Protein_data/inference...</td>\n",
              "      <td>data/PDBBind_processed/6mo2/6mo2_ligand.mol2</td>\n",
              "      <td>/content/gdrive/MyDrive/Protein_data/user_pred...</td>\n",
              "      <td>1</td>\n",
              "      <td>1</td>\n",
              "      <td>1</td>\n",
              "      <td>1</td>\n",
              "      <td>1</td>\n",
              "      <td>1</td>\n",
              "      <td>1</td>\n",
              "      <td>1</td>\n",
              "      <td>1</td>\n",
              "      <td>1</td>\n",
              "    </tr>\n",
              "  </tbody>\n",
              "</table>\n",
              "<p>363 rows × 14 columns</p>\n",
              "</div>\n",
              "    <div class=\"colab-df-buttons\">\n",
              "\n",
              "  <div class=\"colab-df-container\">\n",
              "    <button class=\"colab-df-convert\" onclick=\"convertToInteractive('df-60ee572b-d35a-4aaf-9c15-921af9a4d533')\"\n",
              "            title=\"Convert this dataframe to an interactive table.\"\n",
              "            style=\"display:none;\">\n",
              "\n",
              "  <svg xmlns=\"http://www.w3.org/2000/svg\" height=\"24px\" viewBox=\"0 -960 960 960\">\n",
              "    <path d=\"M120-120v-720h720v720H120Zm60-500h600v-160H180v160Zm220 220h160v-160H400v160Zm0 220h160v-160H400v160ZM180-400h160v-160H180v160Zm440 0h160v-160H620v160ZM180-180h160v-160H180v160Zm440 0h160v-160H620v160Z\"/>\n",
              "  </svg>\n",
              "    </button>\n",
              "\n",
              "  <style>\n",
              "    .colab-df-container {\n",
              "      display:flex;\n",
              "      gap: 12px;\n",
              "    }\n",
              "\n",
              "    .colab-df-convert {\n",
              "      background-color: #E8F0FE;\n",
              "      border: none;\n",
              "      border-radius: 50%;\n",
              "      cursor: pointer;\n",
              "      display: none;\n",
              "      fill: #1967D2;\n",
              "      height: 32px;\n",
              "      padding: 0 0 0 0;\n",
              "      width: 32px;\n",
              "    }\n",
              "\n",
              "    .colab-df-convert:hover {\n",
              "      background-color: #E2EBFA;\n",
              "      box-shadow: 0px 1px 2px rgba(60, 64, 67, 0.3), 0px 1px 3px 1px rgba(60, 64, 67, 0.15);\n",
              "      fill: #174EA6;\n",
              "    }\n",
              "\n",
              "    .colab-df-buttons div {\n",
              "      margin-bottom: 4px;\n",
              "    }\n",
              "\n",
              "    [theme=dark] .colab-df-convert {\n",
              "      background-color: #3B4455;\n",
              "      fill: #D2E3FC;\n",
              "    }\n",
              "\n",
              "    [theme=dark] .colab-df-convert:hover {\n",
              "      background-color: #434B5C;\n",
              "      box-shadow: 0px 1px 3px 1px rgba(0, 0, 0, 0.15);\n",
              "      filter: drop-shadow(0px 1px 2px rgba(0, 0, 0, 0.3));\n",
              "      fill: #FFFFFF;\n",
              "    }\n",
              "  </style>\n",
              "\n",
              "    <script>\n",
              "      const buttonEl =\n",
              "        document.querySelector('#df-60ee572b-d35a-4aaf-9c15-921af9a4d533 button.colab-df-convert');\n",
              "      buttonEl.style.display =\n",
              "        google.colab.kernel.accessAllowed ? 'block' : 'none';\n",
              "\n",
              "      async function convertToInteractive(key) {\n",
              "        const element = document.querySelector('#df-60ee572b-d35a-4aaf-9c15-921af9a4d533');\n",
              "        const dataTable =\n",
              "          await google.colab.kernel.invokeFunction('convertToInteractive',\n",
              "                                                    [key], {});\n",
              "        if (!dataTable) return;\n",
              "\n",
              "        const docLinkHtml = 'Like what you see? Visit the ' +\n",
              "          '<a target=\"_blank\" href=https://colab.research.google.com/notebooks/data_table.ipynb>data table notebook</a>'\n",
              "          + ' to learn more about interactive tables.';\n",
              "        element.innerHTML = '';\n",
              "        dataTable['output_type'] = 'display_data';\n",
              "        await google.colab.output.renderOutput(dataTable, element);\n",
              "        const docLink = document.createElement('div');\n",
              "        docLink.innerHTML = docLinkHtml;\n",
              "        element.appendChild(docLink);\n",
              "      }\n",
              "    </script>\n",
              "  </div>\n",
              "\n",
              "\n",
              "<div id=\"df-f1a8cf6e-8275-4035-be1a-74dd52c2db15\">\n",
              "  <button class=\"colab-df-quickchart\" onclick=\"quickchart('df-f1a8cf6e-8275-4035-be1a-74dd52c2db15')\"\n",
              "            title=\"Suggest charts\"\n",
              "            style=\"display:none;\">\n",
              "\n",
              "<svg xmlns=\"http://www.w3.org/2000/svg\" height=\"24px\"viewBox=\"0 0 24 24\"\n",
              "     width=\"24px\">\n",
              "    <g>\n",
              "        <path d=\"M19 3H5c-1.1 0-2 .9-2 2v14c0 1.1.9 2 2 2h14c1.1 0 2-.9 2-2V5c0-1.1-.9-2-2-2zM9 17H7v-7h2v7zm4 0h-2V7h2v10zm4 0h-2v-4h2v4z\"/>\n",
              "    </g>\n",
              "</svg>\n",
              "  </button>\n",
              "\n",
              "<style>\n",
              "  .colab-df-quickchart {\n",
              "      --bg-color: #E8F0FE;\n",
              "      --fill-color: #1967D2;\n",
              "      --hover-bg-color: #E2EBFA;\n",
              "      --hover-fill-color: #174EA6;\n",
              "      --disabled-fill-color: #AAA;\n",
              "      --disabled-bg-color: #DDD;\n",
              "  }\n",
              "\n",
              "  [theme=dark] .colab-df-quickchart {\n",
              "      --bg-color: #3B4455;\n",
              "      --fill-color: #D2E3FC;\n",
              "      --hover-bg-color: #434B5C;\n",
              "      --hover-fill-color: #FFFFFF;\n",
              "      --disabled-bg-color: #3B4455;\n",
              "      --disabled-fill-color: #666;\n",
              "  }\n",
              "\n",
              "  .colab-df-quickchart {\n",
              "    background-color: var(--bg-color);\n",
              "    border: none;\n",
              "    border-radius: 50%;\n",
              "    cursor: pointer;\n",
              "    display: none;\n",
              "    fill: var(--fill-color);\n",
              "    height: 32px;\n",
              "    padding: 0;\n",
              "    width: 32px;\n",
              "  }\n",
              "\n",
              "  .colab-df-quickchart:hover {\n",
              "    background-color: var(--hover-bg-color);\n",
              "    box-shadow: 0 1px 2px rgba(60, 64, 67, 0.3), 0 1px 3px 1px rgba(60, 64, 67, 0.15);\n",
              "    fill: var(--button-hover-fill-color);\n",
              "  }\n",
              "\n",
              "  .colab-df-quickchart-complete:disabled,\n",
              "  .colab-df-quickchart-complete:disabled:hover {\n",
              "    background-color: var(--disabled-bg-color);\n",
              "    fill: var(--disabled-fill-color);\n",
              "    box-shadow: none;\n",
              "  }\n",
              "\n",
              "  .colab-df-spinner {\n",
              "    border: 2px solid var(--fill-color);\n",
              "    border-color: transparent;\n",
              "    border-bottom-color: var(--fill-color);\n",
              "    animation:\n",
              "      spin 1s steps(1) infinite;\n",
              "  }\n",
              "\n",
              "  @keyframes spin {\n",
              "    0% {\n",
              "      border-color: transparent;\n",
              "      border-bottom-color: var(--fill-color);\n",
              "      border-left-color: var(--fill-color);\n",
              "    }\n",
              "    20% {\n",
              "      border-color: transparent;\n",
              "      border-left-color: var(--fill-color);\n",
              "      border-top-color: var(--fill-color);\n",
              "    }\n",
              "    30% {\n",
              "      border-color: transparent;\n",
              "      border-left-color: var(--fill-color);\n",
              "      border-top-color: var(--fill-color);\n",
              "      border-right-color: var(--fill-color);\n",
              "    }\n",
              "    40% {\n",
              "      border-color: transparent;\n",
              "      border-right-color: var(--fill-color);\n",
              "      border-top-color: var(--fill-color);\n",
              "    }\n",
              "    60% {\n",
              "      border-color: transparent;\n",
              "      border-right-color: var(--fill-color);\n",
              "    }\n",
              "    80% {\n",
              "      border-color: transparent;\n",
              "      border-right-color: var(--fill-color);\n",
              "      border-bottom-color: var(--fill-color);\n",
              "    }\n",
              "    90% {\n",
              "      border-color: transparent;\n",
              "      border-bottom-color: var(--fill-color);\n",
              "    }\n",
              "  }\n",
              "</style>\n",
              "\n",
              "  <script>\n",
              "    async function quickchart(key) {\n",
              "      const quickchartButtonEl =\n",
              "        document.querySelector('#' + key + ' button');\n",
              "      quickchartButtonEl.disabled = true;  // To prevent multiple clicks.\n",
              "      quickchartButtonEl.classList.add('colab-df-spinner');\n",
              "      try {\n",
              "        const charts = await google.colab.kernel.invokeFunction(\n",
              "            'suggestCharts', [key], {});\n",
              "      } catch (error) {\n",
              "        console.error('Error during call to suggestCharts:', error);\n",
              "      }\n",
              "      quickchartButtonEl.classList.remove('colab-df-spinner');\n",
              "      quickchartButtonEl.classList.add('colab-df-quickchart-complete');\n",
              "    }\n",
              "    (() => {\n",
              "      let quickchartButtonEl =\n",
              "        document.querySelector('#df-f1a8cf6e-8275-4035-be1a-74dd52c2db15 button');\n",
              "      quickchartButtonEl.style.display =\n",
              "        google.colab.kernel.accessAllowed ? 'block' : 'none';\n",
              "    })();\n",
              "  </script>\n",
              "</div>\n",
              "    </div>\n",
              "  </div>\n"
            ],
            "text/plain": [
              "     complex_name                                       protein_path  \\\n",
              "0               0  /content/gdrive/MyDrive/Protein_data/inference...   \n",
              "1               1  /content/gdrive/MyDrive/Protein_data/inference...   \n",
              "2               2  /content/gdrive/MyDrive/Protein_data/inference...   \n",
              "3               3  /content/gdrive/MyDrive/Protein_data/inference...   \n",
              "4               4  /content/gdrive/MyDrive/Protein_data/inference...   \n",
              "..            ...                                                ...   \n",
              "358           358  /content/gdrive/MyDrive/Protein_data/inference...   \n",
              "359           359  /content/gdrive/MyDrive/Protein_data/inference...   \n",
              "360           360  /content/gdrive/MyDrive/Protein_data/inference...   \n",
              "361           361  /content/gdrive/MyDrive/Protein_data/inference...   \n",
              "362           362  /content/gdrive/MyDrive/Protein_data/inference...   \n",
              "\n",
              "                               ligand_description  \\\n",
              "0    data/PDBBind_processed/6qqw/6qqw_ligand.mol2   \n",
              "1     data/PDBBind_processed/6d08/6d08_ligand.sdf   \n",
              "2     data/PDBBind_processed/6jap/6jap_ligand.sdf   \n",
              "3     data/PDBBind_processed/6np2/6np2_ligand.sdf   \n",
              "4     data/PDBBind_processed/6uvp/6uvp_ligand.sdf   \n",
              "..                                            ...   \n",
              "358  data/PDBBind_processed/6pya/6pya_ligand.mol2   \n",
              "359   data/PDBBind_processed/6ffe/6ffe_ligand.sdf   \n",
              "360   data/PDBBind_processed/6d3x/6d3x_ligand.sdf   \n",
              "361  data/PDBBind_processed/6gj8/6gj8_ligand.mol2   \n",
              "362  data/PDBBind_processed/6mo2/6mo2_ligand.mol2   \n",
              "\n",
              "                                    Predicted_Mol_path  1  2  3  4  5  6  7  \\\n",
              "0    /content/gdrive/MyDrive/Protein_data/user_pred...  1  1  1  1  1  1  1   \n",
              "1    /content/gdrive/MyDrive/Protein_data/user_pred...  1  1  1  1  1  1  1   \n",
              "2    /content/gdrive/MyDrive/Protein_data/user_pred...  1  1  1  1  1  1  1   \n",
              "3    /content/gdrive/MyDrive/Protein_data/user_pred...  1  1  1  1  1  1  1   \n",
              "4    /content/gdrive/MyDrive/Protein_data/user_pred...  1  1  1  1  1  1  1   \n",
              "..                                                 ... .. .. .. .. .. .. ..   \n",
              "358  /content/gdrive/MyDrive/Protein_data/user_pred...  1  1  1  1  1  1  1   \n",
              "359  /content/gdrive/MyDrive/Protein_data/user_pred...  1  1  1  1  1  1  1   \n",
              "360  /content/gdrive/MyDrive/Protein_data/user_pred...  1  1  1  1  1  1  1   \n",
              "361  /content/gdrive/MyDrive/Protein_data/user_pred...  1  1  1  1  1  1  1   \n",
              "362  /content/gdrive/MyDrive/Protein_data/user_pred...  1  1  1  1  1  1  1   \n",
              "\n",
              "     8  9 10  \n",
              "0    1  1  1  \n",
              "1    1  1  1  \n",
              "2    1  1  1  \n",
              "3    1  1  1  \n",
              "4    1  1  1  \n",
              "..  .. .. ..  \n",
              "358  1  1  1  \n",
              "359  1  1  1  \n",
              "360  1  1  1  \n",
              "361  1  1  1  \n",
              "362  1  1  1  \n",
              "\n",
              "[363 rows x 14 columns]"
            ]
          },
          "execution_count": 52,
          "metadata": {},
          "output_type": "execute_result"
        }
      ],
      "source": [
        "df"
      ]
    },
    {
      "cell_type": "markdown",
      "metadata": {
        "id": "QH5oNTlmSqE8"
      },
      "source": [
        "## Analysis of energy and clashes"
      ]
    },
    {
      "cell_type": "code",
      "execution_count": null,
      "metadata": {
        "id": "4KKVhVTyr-XH"
      },
      "outputs": [],
      "source": [
        "pc = PoseCheck()\n",
        "\n",
        "values = []\n",
        "\n",
        "for i in range(363):\n",
        "  protein = df['ligand_description'].iloc[i].split('/')[2]\n",
        "  if df['protein_path'].iloc[i] != \"NA\":\n",
        "    pc.load_protein_from_pdb(df['protein_path'].iloc[i])\n",
        "\n",
        "    pc.load_ligands_from_sdf(df['Predicted_Mol_path'].iloc[i])\n",
        "    # Check for clashes\n",
        "    clashes = pc.calculate_clashes()\n",
        "    #print(f\"Number of clashes in example molecule: {clashes[0]}\")\n",
        "\n",
        "    # Check for strain\n",
        "    strain = pc.calculate_strain_energy()\n",
        "    #print(f\"Strain energ of example moleculey: {strain[0]}\")\n",
        "\n",
        "    # Check for interactions\n",
        "    interactions = pc.calculate_interactions()\n",
        "    #print(f\"Interactions of example molecule: {interactions}\")\n",
        "    values.append([protein,clashes[0],strain[0],interactions])"
      ]
    },
    {
      "cell_type": "code",
      "execution_count": null,
      "metadata": {
        "id": "zpqB9ZQPwwDx"
      },
      "outputs": [],
      "source": [
        "#proteins that don;t work\n",
        "#pc.load_protein_from_pdb(df['protein_path'].iloc[171])\n",
        "#pc.load_protein_from_pdb(df['protein_path'].iloc[210])\n",
        "#pc.load_protein_from_pdb(df['protein_path'].iloc[287])"
      ]
    },
    {
      "cell_type": "code",
      "execution_count": null,
      "metadata": {
        "id": "zHw0f6V6i4qi"
      },
      "outputs": [],
      "source": [
        "pc = PoseCheck()\n",
        "\n",
        "values = []\n",
        "\n",
        "for i in range(363):\n",
        "  protein = df['ligand_description'].iloc[i].split('/')[2]\n",
        "  if df['protein_path'].iloc[i] != \"NA\":\n",
        "    pc.load_protein_from_pdb(df['protein_path'].iloc[i])\n",
        "\n",
        "    pc.load_ligands_from_sdf(df['Predicted_Mol_path'].iloc[i])\n",
        "    # Check for clashes\n",
        "    clashes = pc.calculate_clashes()\n",
        "    #print(f\"Number of clashes in example molecule: {clashes[0]}\")\n",
        "\n",
        "    # Check for strain\n",
        "    strain = pc.calculate_strain_energy()\n",
        "    #print(f\"Strain energ of example moleculey: {strain[0]}\")\n",
        "\n",
        "    # Check for interactions\n",
        "    #interactions = pc.calculate_interactions()\n",
        "    #print(f\"Interactions of example molecule: {interactions}\")\n",
        "    values.append([protein,clashes[0],strain[0]])"
      ]
    },
    {
      "cell_type": "code",
      "execution_count": null,
      "metadata": {
        "id": "yS2MHkHax-O7"
      },
      "outputs": [],
      "source": [
        "for i in range(172,363):\n",
        "  protein = df['ligand_description'].iloc[i].split('/')[2]\n",
        "  if df['protein_path'].iloc[i] != \"NA\":\n",
        "    pc.load_protein_from_pdb(df['protein_path'].iloc[i])\n",
        "\n",
        "    pc.load_ligands_from_sdf(df['Predicted_Mol_path'].iloc[i])\n",
        "    # Check for clashes\n",
        "    clashes = pc.calculate_clashes()\n",
        "    #print(f\"Number of clashes in example molecule: {clashes[0]}\")\n",
        "\n",
        "    # Check for strain\n",
        "    strain = pc.calculate_strain_energy()\n",
        "    #print(f\"Strain energ of example moleculey: {strain[0]}\")\n",
        "\n",
        "    # Check for interactions\n",
        "    #interactions = pc.calculate_interactions()\n",
        "    #print(f\"Interactions of example molecule: {interactions}\")\n",
        "    values.append([protein,clashes[0],strain[0]])"
      ]
    },
    {
      "cell_type": "code",
      "execution_count": null,
      "metadata": {
        "id": "ys3jAtkA4dTM"
      },
      "outputs": [],
      "source": [
        "for i in range(211,363):\n",
        "  protein = df['ligand_description'].iloc[i].split('/')[2]\n",
        "  if df['protein_path'].iloc[i] != \"NA\":\n",
        "    pc.load_protein_from_pdb(df['protein_path'].iloc[i])\n",
        "\n",
        "    pc.load_ligands_from_sdf(df['Predicted_Mol_path'].iloc[i])\n",
        "    # Check for clashes\n",
        "    clashes = pc.calculate_clashes()\n",
        "    #print(f\"Number of clashes in example molecule: {clashes[0]}\")\n",
        "\n",
        "    # Check for strain\n",
        "    strain = pc.calculate_strain_energy()\n",
        "    #print(f\"Strain energ of example moleculey: {strain[0]}\")\n",
        "\n",
        "    # Check for interactions\n",
        "    #interactions = pc.calculate_interactions()\n",
        "    #print(f\"Interactions of example molecule: {interactions}\")\n",
        "    values.append([protein,clashes[0],strain[0]])"
      ]
    },
    {
      "cell_type": "code",
      "execution_count": null,
      "metadata": {
        "id": "8ii3P2ryXtGC"
      },
      "outputs": [],
      "source": [
        "for i in range(288,363):\n",
        "  protein = df['ligand_description'].iloc[i].split('/')[2]\n",
        "  if df['protein_path'].iloc[i] != \"NA\":\n",
        "    pc.load_protein_from_pdb(df['protein_path'].iloc[i])\n",
        "\n",
        "    pc.load_ligands_from_sdf(df['Predicted_Mol_path'].iloc[i])\n",
        "    # Check for clashes\n",
        "    clashes = pc.calculate_clashes()\n",
        "    #print(f\"Number of clashes in example molecule: {clashes[0]}\")\n",
        "\n",
        "    # Check for strain\n",
        "    strain = pc.calculate_strain_energy()\n",
        "    #print(f\"Strain energ of example moleculey: {strain[0]}\")\n",
        "\n",
        "    # Check for interactions\n",
        "    #interactions = pc.calculate_interactions()\n",
        "    #print(f\"Interactions of example molecule: {interactions}\")\n",
        "    values.append([protein,clashes[0],strain[0]])"
      ]
    },
    {
      "cell_type": "code",
      "execution_count": null,
      "metadata": {
        "colab": {
          "base_uri": "https://localhost:8080/"
        },
        "id": "3Tgipz_BW9gG",
        "outputId": "9d39455f-65bc-46de-f24c-03a57d94a573"
      },
      "outputs": [
        {
          "name": "stdout",
          "output_type": "stream",
          "text": [
            "[['6qqw' '11' '30.680000000000007']\n",
            " ['6d08' '97' '298.32']\n",
            " ['6jap' '31' '192.77']\n",
            " ...\n",
            " ['6d3x' '202' '292687336.5']\n",
            " ['6gj8' '22' '51.01000000000002']\n",
            " ['6mo2' '25' '169.95999999999998']]\n"
          ]
        }
      ],
      "source": [
        "import numpy as np\n",
        "values2 = np.array(values)\n",
        "print(values2)"
      ]
    },
    {
      "cell_type": "code",
      "execution_count": null,
      "metadata": {
        "id": "7g5e0lmiisoJ"
      },
      "outputs": [],
      "source": [
        "df2a= pd.DataFrame(values2)\n",
        "df2a.to_csv(\"file.csv\")"
      ]
    },
    {
      "cell_type": "code",
      "execution_count": null,
      "metadata": {
        "id": "GckQ7O13mGg4"
      },
      "outputs": [],
      "source": [
        "values2.T[1]\n",
        "y = np.array([int(i) for i in values2.T[1]])"
      ]
    },
    {
      "cell_type": "code",
      "execution_count": null,
      "metadata": {
        "id": "fxe2lZO5mpSH"
      },
      "outputs": [],
      "source": [
        "values2.T[1]\n",
        "z = np.array([float(i) for i in values2.T[2]])\n",
        "values2.T[2] = z"
      ]
    },
    {
      "cell_type": "code",
      "execution_count": null,
      "metadata": {
        "colab": {
          "base_uri": "https://localhost:8080/"
        },
        "id": "cPY3opbYqwwr",
        "outputId": "d42578e8-a2d3-4c7e-e618-39227e56679f"
      },
      "outputs": [
        {
          "data": {
            "text/plain": [
              "245"
            ]
          },
          "execution_count": 138,
          "metadata": {},
          "output_type": "execute_result"
        }
      ],
      "source": [
        "np.argmax(z[~np.isnan(z)])"
      ]
    },
    {
      "cell_type": "code",
      "execution_count": null,
      "metadata": {
        "colab": {
          "base_uri": "https://localhost:8080/",
          "height": 616
        },
        "id": "Yy-fK-dcm1yO",
        "outputId": "244f5cc7-6ca3-43de-db63-e23fd1a035fc"
      },
      "outputs": [
        {
          "data": {
            "image/png": "[encoded data removed]",
            "text/plain": [
              "<Figure size 1000x700 with 1 Axes>"
            ]
          },
          "metadata": {},
          "output_type": "display_data"
        },
        {
          "data": {
            "text/plain": [
              "<Figure size 640x480 with 0 Axes>"
            ]
          },
          "metadata": {},
          "output_type": "display_data"
        }
      ],
      "source": [
        "import matplotlib.pyplot as plt\n",
        "fig = plt.figure(figsize =(10, 7))\n",
        "plt.yscale(\"log\")\n",
        "plt.boxplot(y)\n",
        "plt.show()\n",
        "plt.savefig('Diffdock Clashes.png')"
      ]
    },
    {
      "cell_type": "code",
      "execution_count": null,
      "metadata": {
        "colab": {
          "base_uri": "https://localhost:8080/",
          "height": 455
        },
        "id": "avSCYD-wooYX",
        "outputId": "e179375f-86ae-45a9-ebfd-7b29e2f309d8"
      },
      "outputs": [
        {
          "data": {
            "image/png": "[encoded data removed]",
            "text/plain": [
              "<Figure size 640x480 with 1 Axes>"
            ]
          },
          "metadata": {},
          "output_type": "display_data"
        },
        {
          "data": {
            "text/plain": [
              "<Figure size 640x480 with 0 Axes>"
            ]
          },
          "metadata": {},
          "output_type": "display_data"
        }
      ],
      "source": [
        "%matplotlib inline\n",
        "data = z[~np.isnan(z)]\n",
        "count, bins_count = np.histogram(data[~245], bins=100)\n",
        "pdf = count / sum(count)\n",
        "cdf = np.cumsum(pdf)\n",
        "plt.plot(bins_count[1:], cdf, label=\"CDF\")\n",
        "plt.xscale('log')\n",
        "plt.ylim(0, 1)\n",
        "plt.legend()\n",
        "plt.show()\n",
        "plt.savefig('Strain .png')"
      ]
    },
    {
      "cell_type": "code",
      "execution_count": null,
      "metadata": {
        "colab": {
          "base_uri": "https://localhost:8080/",
          "height": 498
        },
        "id": "LiFF5Mv3qfa1",
        "outputId": "6598f17f-6be2-47ce-ad1a-29370d37e141"
      },
      "outputs": [
        {
          "data": {
            "text/plain": [
              "(array([0., 0., 0., 0., 0., 1., 0., 0., 0., 0.]),\n",
              " array([1097.78, 1097.88, 1097.98, 1098.08, 1098.18, 1098.28, 1098.38,\n",
              "        1098.48, 1098.58, 1098.68, 1098.78]),\n",
              " <BarContainer object of 10 artists>)"
            ]
          },
          "execution_count": 146,
          "metadata": {},
          "output_type": "execute_result"
        },
        {
          "data": {
            "image/png": "[encoded data removed]",
            "text/plain": [
              "<Figure size 640x480 with 1 Axes>"
            ]
          },
          "metadata": {},
          "output_type": "display_data"
        }
      ],
      "source": [
        "plt.hist(data[~245])"
      ]
    },
    {
      "cell_type": "code",
      "execution_count": null,
      "metadata": {
        "colab": {
          "base_uri": "https://localhost:8080/"
        },
        "id": "GWSGIHZ1pHsn",
        "outputId": "1876a74c-3172-452f-ab9f-d07b53fc0afa"
      },
      "outputs": [
        {
          "data": {
            "text/plain": [
              "1098.2800000000002"
            ]
          },
          "execution_count": 147,
          "metadata": {},
          "output_type": "execute_result"
        }
      ],
      "source": [
        "np.median(data[~245])"
      ]
    },
    {
      "cell_type": "code",
      "execution_count": null,
      "metadata": {
        "id": "k-ysLGH8lCzS"
      },
      "outputs": [],
      "source": [
        "with open('/content/gdrive/MyDrive/Protein_data/user_predictions_testset/complex_names.npy', 'rb') as f:\n",
        "    complex_names = np.load(f)"
      ]
    },
    {
      "cell_type": "code",
      "execution_count": null,
      "metadata": {
        "id": "aH4NolnE8mpG"
      },
      "outputs": [],
      "source": [
        "with open('/content/gdrive/MyDrive/Protein_data/user_predictions_testset/rmsds.npy', 'rb') as f:\n",
        "    rmsd = np.load(f)"
      ]
    },
    {
      "cell_type": "code",
      "execution_count": null,
      "metadata": {
        "id": "WPsDYeo39xIz"
      },
      "outputs": [],
      "source": [
        "what = []\n",
        "for i in range(363):\n",
        "  what.append([complex_names[i].split('/')[2], float(rmsd[i][0])])\n",
        "\n",
        "what = np.array(what)\n",
        "what"
      ]
    },
    {
      "cell_type": "code",
      "execution_count": null,
      "metadata": {
        "id": "b4iPobGA-ipf"
      },
      "outputs": [],
      "source": [
        "y_1 = []\n",
        "for item in values2.T[0]:\n",
        "  for i in range(what.shape[0]):\n",
        "    if item == what[i,0]:\n",
        "      y_1.append(float(what[i,1]))\n",
        "\n",
        "y_1 = np.array(y_1)\n"
      ]
    },
    {
      "cell_type": "code",
      "execution_count": null,
      "metadata": {
        "colab": {
          "base_uri": "https://localhost:8080/"
        },
        "id": "bYQ45-pdAVem",
        "outputId": "ccad86cf-0b29-4cc8-89ed-62ec5b4f463a"
      },
      "outputs": [
        {
          "data": {
            "text/plain": [
              "array([[1.        , 0.27004545],\n",
              "       [0.27004545, 1.        ]])"
            ]
          },
          "execution_count": 173,
          "metadata": {},
          "output_type": "execute_result"
        }
      ],
      "source": [
        "np.corrcoef(y_1, y)"
      ]
    }
  ],
  "metadata": {
    "colab": {
      "provenance": []
    },
    "kernelspec": {
      "display_name": "Python 3",
      "name": "python3"
    },
    "language_info": {
      "name": "python"
    }
  },
  "nbformat": 4,
  "nbformat_minor": 0
}
