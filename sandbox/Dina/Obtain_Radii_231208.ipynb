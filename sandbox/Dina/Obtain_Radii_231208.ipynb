{
 "cells": [
  {
   "cell_type": "code",
   "execution_count": 2,
   "id": "dfc505c6",
   "metadata": {},
   "outputs": [],
   "source": [
    "#Code from https://github.com/cch1999/posecheck/blob/main/posecheck/utils/clashes.py\n",
    "#Thank you Mo for sending the posecheck github!\n",
    "import rdkit.Chem as Chem\n",
    "from rdkit import Chem"
   ]
  },
  {
   "cell_type": "code",
   "execution_count": 4,
   "id": "3f8fec77",
   "metadata": {},
   "outputs": [
    {
     "name": "stdout",
     "output_type": "stream",
     "text": [
      "1 1.2\n",
      "6 1.7\n",
      "7 1.6\n",
      "8 1.55\n",
      "9 1.5\n",
      "16 1.8\n",
      "17 1.8\n"
     ]
    }
   ],
   "source": [
    "#Ref https://ptable.com/#Properties\n",
    "pt = Chem.GetPeriodicTable()\n",
    "for atnum in [1, 6, 7, 8, 9, 16, 17]:\n",
    "    print(f\"{atnum} {pt.GetRvdw(atnum)}\")"
   ]
  },
  {
   "cell_type": "code",
   "execution_count": null,
   "id": "e8feba30",
   "metadata": {},
   "outputs": [],
   "source": []
  }
 ],
 "metadata": {
  "kernelspec": {
   "display_name": "docking_analyze",
   "language": "python",
   "name": "docking_analyze"
  },
  "language_info": {
   "codemirror_mode": {
    "name": "ipython",
    "version": 3
   },
   "file_extension": ".py",
   "mimetype": "text/x-python",
   "name": "python",
   "nbconvert_exporter": "python",
   "pygments_lexer": "ipython3",
   "version": "3.10.13"
  }
 },
 "nbformat": 4,
 "nbformat_minor": 5
}
