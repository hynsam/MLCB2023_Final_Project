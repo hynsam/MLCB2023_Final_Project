{
 "cells": [
  {
   "cell_type": "code",
   "execution_count": 1,
   "id": "10b58ce0",
   "metadata": {},
   "outputs": [],
   "source": [
    "import numpy as np\n",
    "import scipy\n",
    "from scipy import stats"
   ]
  },
  {
   "cell_type": "code",
   "execution_count": 19,
   "id": "8106eef1",
   "metadata": {},
   "outputs": [],
   "source": [
    "#Input:\n",
    "#(a) clash_dict data from clashes run\n",
    "def analyze_res_clashes(clash_dict):\n",
    "    clash_d = np.load(clash_dict, allow_pickle = True).item()\n",
    "    print(clash_d.keys())\n",
    "    #Create overall dictionary\n",
    "    aa_list = sorted([\"ASP\",\n",
    "            \"ALA\",\n",
    "            \"ARG\",\n",
    "            \"CYS\",\n",
    "            \"GLU\",\n",
    "            \"PHE\",\n",
    "            \"GLY\",\n",
    "            \"HIS\",\n",
    "            \"ILE\",\n",
    "            \"LYS\",\n",
    "            \"LEU\",\n",
    "            \"MET\",\n",
    "            \"ASN\",\n",
    "            \"PRO\",\n",
    "            \"GLN\",\n",
    "            \"SER\",\n",
    "            \"THR\",\n",
    "            \"VAL\",\n",
    "            \"TRP\",\n",
    "            \"TYR\"])\n",
    "    \n",
    "    overall_clash_dict = {}\n",
    "    overall_clash_dict[\"clashes\"] = {}\n",
    "    overall_clash_dict[\"binding_site_res\"] = {}\n",
    "    for aa in aa_list:\n",
    "        overall_clash_dict[\"clashes\"][aa] = 0\n",
    "        overall_clash_dict[\"binding_site_res\"][aa] = 0\n",
    "        \n",
    "    print(overall_clash_dict)\n",
    "    #Iterate over pdbs\n",
    "    for pdb_a in clash_d.keys():\n",
    "    \n",
    "        #iterate over amino acids\n",
    "        #Clash and binding site update\n",
    "        for aa_add_info in overall_clash_dict[\"clashes\"].keys():\n",
    "            overall_clash_dict[\"clashes\"][aa_add_info] += clash_d[pdb_a][\"clashes\"][aa_add_info]\n",
    "            overall_clash_dict[\"binding_site_res\"][aa_add_info] += clash_d[pdb_a][\"binding_site_comp\"][aa_add_info]\n",
    "\n",
    "    #Analyze amino acids\n",
    "    #Total clash count\n",
    "    all_clashes = 0\n",
    "    for aa_c in overall_clash_dict[\"clashes\"].keys():\n",
    "        all_clashes += overall_clash_dict[\"clashes\"][aa_c]\n",
    "        \n",
    "    #Number of residues in all binding sites\n",
    "    all_binding_site_particip = 0\n",
    "    for aa_b in overall_clash_dict[\"binding_site_res\"].keys():\n",
    "        all_binding_site_particip += overall_clash_dict[\"binding_site_res\"][aa_b]\n",
    "    \n",
    "    max_clash_per_binding = -1\n",
    "    \n",
    "    #max ratio for reporting\n",
    "    for aa_report in overall_clash_dict[\"clashes\"].keys():\n",
    "        clash_per_binding_check = overall_clash_dict[\"clashes\"][aa_report] / overall_clash_dict[\"binding_site_res\"][aa_report]\n",
    "        if clash_per_binding_check > max_clash_per_binding:\n",
    "            max_clash_per_binding = clash_per_binding_check\n",
    "            \n",
    "    print(\"amino acid percent clashes percent binding site c/b ratio c/b ratio norm.\")\n",
    "    #print percent of each residue in clashes and in binding sites   \n",
    "    for aa_report in overall_clash_dict[\"clashes\"].keys():\n",
    "        \n",
    "        #Counts and percents of total - clashes and binding sites\n",
    "        num_clashes = overall_clash_dict[\"clashes\"][aa_report]\n",
    "        pct_clashes = overall_clash_dict[\"clashes\"][aa_report] / all_clashes\n",
    "        num_binding = overall_clash_dict[\"binding_site_res\"][aa_report]\n",
    "        pct_binding = overall_clash_dict[\"binding_site_res\"][aa_report] / all_binding_site_particip\n",
    "        \n",
    "        #Clashes relative to binding site prevalence\n",
    "        clash_bind_ratio = overall_clash_dict[\"clashes\"][aa_report] / overall_clash_dict[\"binding_site_res\"][aa_report]\n",
    "        clash_bind_ratio_norm = clash_bind_ratio / max_clash_per_binding\n",
    "        print(f\"{aa_report}  {pct_clashes} {pct_binding} {clash_bind_ratio} {clash_bind_ratio_norm}\")"
   ]
  },
  {
   "cell_type": "code",
   "execution_count": 20,
   "id": "bb03244d",
   "metadata": {},
   "outputs": [
    {
     "name": "stdout",
     "output_type": "stream",
     "text": [
      "dict_keys(['6jt3', '6jbb', '6ufo', '6os6', '6jbe', '6qra', '6qsz', '6jam', '6a87', '6oie', '6n4b', '6dyz', '6hhh', '6i5p', '6e6v', '6o9c', '6c85', '6e13', '6cjj', '6nri', '6mja', '6qr7', '6o0h', '6qmt', '6ibz', '6d3y', '6qr0', '6s9w', '6p8x', '6s07', '6fe5', '6oxp', '5zlf', '6n8x', '6qtw', '6mhd', '6jut', '6uhu', '6i8m', '6ckl', '6e6j', '5zjz', '6qts', '6h12', '6pno', '6mo2', '6oxv', '5zxk', '6cjs', '6mjq', '6mo0', '6ahs', '6gj7', '6cyh', '6gzy', '6oxy', '6oxr', '6qlr', '6i8t', '6qtr', '6i62', '6qqu', '6rnu', '6pyb', '6oiq', '6ggf', '6qrd', '6npi', '6rr0', '6mji', '6qqw', '6k2n', '6qto', '6mo8', '6hzd', '6efk', '6oin', '6jsf', '6k04', '6oxw', '6pya', '6qqt', '6ooz', '6ny0', '6izq', '6oir', '6ic0', '6a73', '6j06', '6qr4', '6g9f', '6os5', '6q36', '6qr9', '5zcu', '6e3z', '6jid', '6fff', '6te6', '6o5u', '6gge', '6uvv', '5zk9', '6pnn', '6d07', '6oy0', '6e3m', '6cyg', '6i41', '6qmr', '6hbn', '6qlp', '6h9v', '6qw8', '6e3p', '6n93', '6g5u', '6uil', '6hld', '6pnm', '6k05', '6qr3', '6qlq', '6ibx', '6oxx', '6eeb', '6h7d', '6p8y', '6md6', '6n53', '6hhj', '6n92', '6n0m', '6d40', '6nt2', '6i78', '6i61', '6kjd', '6h14', '6hop', '5zk7', '5ze6', '6i7a', '6op0', '6uwp', '6hmy', '6jwa', '6sen', '6s9x', '6g27', '6dz0', '6n55', '6o5g', '6o3y', '6i64', '5zjy', '6s56', '6hhr', '6jsn', '6nd3', '6gj5', '6n4e', '6e4v', '6qls', '6nrg', '6jad', '6jb0', '6inz', '6qr1', '6qqz', '6npm', '6hhp', '6gj6', '6n96', '6gwe', '6mhc', '6n97', '6ooy', '6pgo', '6h13', '6i76', '6nv7', '6qlo', '6qxa', '6nrf', '6oxt', '6qwi', '6od6', '6s57', '6mjj', '6gga', '6nlj', '6qtq', '6e6w', '6mj4', '6oi8', '6ott', '6dql', '6o9b', '6k3l', '6jb4', '6hle', '6seo', '6dz2', '5zml', '6tel', '6olx', '6rot', '6j9w', '6bqd', '6e3o', '6ggd', '6i75', '6nsv', '6jaq', '6g25', '6k1s', '6hhi', '6e5s', '6j9y', '6qxd', '6np4', '6qrf', '6e7m', '6cf7', '6qqv', '6cjp', '6np5', '6r4k', '6kjf', '6jao', '6hhg', '6nv9', '6npp', '6quw', '6jmf', '6q4q', '6qgf', '6np2', '6s55', '6pz4', '6ggb', '6miv', '6qi7', '6oy1', '6py0', '6uwv', '6g2b', '6i63', '6jib', '6quv', '6jap', '6moa', '6oim', '6i67', '6jan', '6n94', '6jag', '6hou', '6hot', '6qtx', '6qlt', '6i9a', '6oio', '6qqq', '6mo7', '6e3n', '6g3c', '6t6a', '6rtn', '6jse', '6oip', '6agt', '6r7d', '5zr3', '6uim', '6g2f', '6e4c', '6iby', '6nxz', '6q38', '6ovz', '6uvy', '6ffe', '6uii', '6cjr', '6ten', '6qrc', '6nrj', '6g2c', '6nw3', '6i66', '6oxu', '6p8z', '6g2o', '6d3x', '6ufn', '6op9', '6pgp', '6gj8', '6uvp', '6a1c', '6hoq', '6jon', '6qrg', '6d3z', '6m7h', '6ueg', '6hza', '6d08', '6qtm', '6oxq', '6ffg', '6hmt', '6hv2', '6v5l', '6i68', '6qre', '6fcj', '6st3', '6nrh', '6i74', '6ftf', '6np3', '6gbw', '6rpg', '6jsz', '6mhb', '6i65', '6hor', '6pka', '6i77', '6hlb', '6sfc', '6jsg', '6n9l', '6oy2', '6qge', '6oxs', '6gdy', '6o3x', '5zk5', '6qfe', '6mo9', '6g2e', '6miy', '6om4', '6g29', '6hzc', '6hzb', '6oxz', '6uhv', '6d5w', '6qr2', '6dz3', '6qln', '6qlu', '6a6k', '6g24'])\n",
      "{'clashes': {'ALA': 0, 'ARG': 0, 'ASN': 0, 'ASP': 0, 'CYS': 0, 'GLN': 0, 'GLU': 0, 'GLY': 0, 'HIS': 0, 'ILE': 0, 'LEU': 0, 'LYS': 0, 'MET': 0, 'PHE': 0, 'PRO': 0, 'SER': 0, 'THR': 0, 'TRP': 0, 'TYR': 0, 'VAL': 0}, 'binding_site_res': {'ALA': 0, 'ARG': 0, 'ASN': 0, 'ASP': 0, 'CYS': 0, 'GLN': 0, 'GLU': 0, 'GLY': 0, 'HIS': 0, 'ILE': 0, 'LEU': 0, 'LYS': 0, 'MET': 0, 'PHE': 0, 'PRO': 0, 'SER': 0, 'THR': 0, 'TRP': 0, 'TYR': 0, 'VAL': 0}}\n",
      "amino acid percent clashes percent binding site c/b ratio c/b ratio norm.\n",
      "ALA  0.006905812392096681 0.033164128595600674 0.3673469387755102 0.08281231567771617\n",
      "ARG  0.07289468636102052 0.05549915397631134 2.317073170731707 0.5223459749048357\n",
      "ASN  0.03568003069249952 0.03824027072758037 1.6460176991150441 0.37106757378894056\n",
      "ASP  0.051601764818722425 0.09813874788494077 0.9275862068965517 0.2091090293003787\n",
      "CYS  0.015346249760214847 0.018612521150592216 1.4545454545454546 0.32790331056227007\n",
      "GLN  0.031076155764435065 0.02707275803722504 2.025 0.45650289017341034\n",
      "GLU  0.023786687128333015 0.06125211505922166 0.6850828729281768 0.15444064765432888\n",
      "GLY  0.028582390178400155 0.10964467005076142 0.45987654320987653 0.10367159066581032\n",
      "HIS  0.024553999616343757 0.04094754653130288 1.0578512396694215 0.23847513495437825\n",
      "ILE  0.038173796278534435 0.05313028764805414 1.267515923566879 0.28574058392548135\n",
      "LEU  0.07903318626510647 0.05854483925549915 2.3815028901734103 0.5368705937385144\n",
      "LYS  0.05486284289276808 0.03519458544839255 2.75 0.6199421965317918\n",
      "MET  0.03874928064454249 0.020642978003384094 3.3114754098360657 0.7465175779399222\n",
      "PHE  0.13274506042585843 0.05279187817258883 4.435897435897436 1.0\n",
      "PRO  0.02052560905428736 0.03282571912013536 1.1030927835051547 0.24867409570347418\n",
      "SER  0.026472280836370612 0.04433164128595601 1.0534351145038168 0.2374795922869876\n",
      "THR  0.020717437176290043 0.04128595600676819 0.8852459016393442 0.1995641049938406\n",
      "TRP  0.11298676385958181 0.05177664974619289 3.849673202614379 0.8678454040575768\n",
      "TYR  0.15883368501822367 0.08189509306260576 3.4214876033057853 0.7713180146180671\n",
      "VAL  0.026472280836370612 0.045008460236886635 1.037593984962406 0.23390847059846148\n"
     ]
    }
   ],
   "source": [
    "analyze_res_clashes(\"/Users/dsharon/Documents/MIT/6.8701/Project/Analysis/RMSD_and_Chem_Feats/Clash_Check_231208_1210/Clash_dictionary_HF_Test_1_m_0.87.npy\")"
   ]
  },
  {
   "cell_type": "code",
   "execution_count": 22,
   "id": "7e56aaf9",
   "metadata": {},
   "outputs": [
    {
     "name": "stdout",
     "output_type": "stream",
     "text": [
      "dict_keys(['6jt3', '6jbb', '6ufo', '6os6', '6jbe', '6qra', '6qsz', '6jam', '6a87', '6oie', '6n4b', '6dyz', '6hhh', '6i5p', '6e6v', '6o9c', '6c85', '6e13', '6cjj', '6nri', '6mja', '6qr7', '6o0h', '6qmt', '6ibz', '6d3y', '6qr0', '6s9w', '6p8x', '6s07', '6fe5', '6oxp', '5zlf', '6n8x', '6qtw', '6mhd', '6jut', '6uhu', '6i8m', '6ckl', '6e6j', '5zjz', '6qts', '6h12', '6pno', '6mo2', '6oxv', '5zxk', '6cjs', '6mjq', '6mo0', '6ahs', '6gj7', '6cyh', '6gzy', '6oxy', '6oxr', '6qlr', '6i8t', '6qtr', '6i62', '6qqu', '6rnu', '6pyb', '6oiq', '6ggf', '6qrd', '6npi', '6rr0', '6mji', '6qqw', '6k2n', '6qto', '6mo8', '6hzd', '6efk', '6oin', '6jsf', '6k04', '6oxw', '6pya', '6qqt', '6ooz', '6ny0', '6izq', '6oir', '6ic0', '6a73', '6j06', '6qr4', '6g9f', '6os5', '6q36', '6qr9', '5zcu', '6e3z', '6jid', '6fff', '6te6', '6o5u', '6gge', '6uvv', '5zk9', '6pnn', '6d07', '6oy0', '6e3m', '6cyg', '6i41', '6qmr', '6hbn', '6qlp', '6h9v', '6qw8', '6e3p', '6n93', '6g5u', '6uil', '6hld', '6pnm', '6k05', '6qr3', '6qlq', '6ibx', '6oxx', '6eeb', '6h7d', '6p8y', '6md6', '6n53', '6hhj', '6n92', '6n0m', '6d40', '6nt2', '6i78', '6i61', '6kjd', '6h14', '6hop', '5zk7', '5ze6', '6i7a', '6op0', '6uwp', '6hmy', '6jwa', '6sen', '6s9x', '6g27', '6dz0', '6n55', '6o5g', '6o3y', '6i64', '5zjy', '6s56', '6hhr', '6jsn', '6nd3', '6gj5', '6n4e', '6e4v', '6qls', '6nrg', '6jad', '6jb0', '6inz', '6qr1', '6qqz', '6npm', '6hhp', '6gj6', '6n96', '6gwe', '6mhc', '6n97', '6ooy', '6pgo', '6h13', '6i76', '6nv7', '6qlo', '6qxa', '6nrf', '6oxt', '6qwi', '6od6', '6s57', '6mjj', '6gga', '6nlj', '6qtq', '6e6w', '6mj4', '6oi8', '6ott', '6dql', '6o9b', '6k3l', '6jb4', '6hle', '6seo', '6dz2', '5zml', '6tel', '6olx', '6rot', '6j9w', '6bqd', '6e3o', '6ggd', '6i75', '6nsv', '6jaq', '6g25', '6k1s', '6hhi', '6e5s', '6j9y', '6qxd', '6np4', '6qrf', '6e7m', '6cf7', '6qqv', '6cjp', '6np5', '6r4k', '6kjf', '6jao', '6hhg', '6nv9', '6npp', '6quw', '6jmf', '6q4q', '6qgf', '6np2', '6s55', '6pz4', '6ggb', '6miv', '6qi7', '6oy1', '6py0', '6uwv', '6g2b', '6i63', '6jib', '6quv', '6jap', '6moa', '6oim', '6i67', '6jan', '6n94', '6jag', '6hou', '6hot', '6qtx', '6qlt', '6i9a', '6oio', '6qqq', '6mo7', '6e3n', '6g3c', '6t6a', '6rtn', '6jse', '6oip', '6agt', '6r7d', '5zr3', '6uim', '6g2f', '6e4c', '6iby', '6nxz', '6q38', '6ovz', '6uvy', '6ffe', '6uii', '6cjr', '6ten', '6qrc', '6nrj', '6g2c', '6nw3', '6i66', '6oxu', '6p8z', '6g2o', '6d3x', '6ufn', '6op9', '6pgp', '6gj8', '6uvp', '6a1c', '6hoq', '6jon', '6qrg', '6d3z', '6m7h', '6ueg', '6hza', '6d08', '6qtm', '6oxq', '6ffg', '6hmt', '6hv2', '6v5l', '6i68', '6qre', '6fcj', '6st3', '6nrh', '6i74', '6ftf', '6np3', '6gbw', '6rpg', '6jsz', '6mhb', '6i65', '6hor', '6pka', '6i77', '6hlb', '6sfc', '6jsg', '6n9l', '6oy2', '6qge', '6oxs', '6gdy', '6o3x', '5zk5', '6qfe', '6mo9', '6g2e', '6miy', '6om4', '6g29', '6hzc', '6hzb', '6oxz', '6uhv', '6d5w', '6qr2', '6dz3', '6qln', '6qlu', '6a6k', '6g24'])\n",
      "{'clashes': {'ALA': 0, 'ARG': 0, 'ASN': 0, 'ASP': 0, 'CYS': 0, 'GLN': 0, 'GLU': 0, 'GLY': 0, 'HIS': 0, 'ILE': 0, 'LEU': 0, 'LYS': 0, 'MET': 0, 'PHE': 0, 'PRO': 0, 'SER': 0, 'THR': 0, 'TRP': 0, 'TYR': 0, 'VAL': 0}, 'binding_site_res': {'ALA': 0, 'ARG': 0, 'ASN': 0, 'ASP': 0, 'CYS': 0, 'GLN': 0, 'GLU': 0, 'GLY': 0, 'HIS': 0, 'ILE': 0, 'LEU': 0, 'LYS': 0, 'MET': 0, 'PHE': 0, 'PRO': 0, 'SER': 0, 'THR': 0, 'TRP': 0, 'TYR': 0, 'VAL': 0}}\n",
      "amino acid percent clashes percent binding site c/b ratio c/b ratio norm.\n",
      "ALA  0.011423055265063148 0.033164128595600674 1.4489795918367347 0.16356064857201924\n",
      "ARG  0.07843294988335613 0.05549915397631134 5.945121951219512 0.6710846775616816\n",
      "ASN  0.03443005389751428 0.03824027072758037 3.7876106194690267 0.42754504821792194\n",
      "ASP  0.05655216796717883 0.09813874788494077 2.424137931034483 0.27363640900244524\n",
      "CYS  0.013353712492961146 0.018612521150592216 3.018181818181818 0.34069201420865675\n",
      "GLN  0.028557638162657873 0.02707275803722504 4.4375 0.500904486251809\n",
      "GLU  0.027753197651033706 0.06125211505922166 1.9060773480662982 0.21515779037506694\n",
      "GLY  0.0437615638323546 0.10964467005076142 1.6790123456790123 0.18952671919386824\n",
      "HIS  0.03475183010216395 0.04094754653130288 3.5702479338842976 0.4030091734341175\n",
      "ILE  0.040704689888182766 0.05313028764805414 3.2229299363057327 0.36380395807792637\n",
      "LEU  0.07473252352988496 0.05854483925549915 5.369942196531792 0.6061584534435307\n",
      "LYS  0.053414849971844584 0.03519458544839255 6.384615384615385 0.7206946454413893\n",
      "MET  0.03040785133939345 0.020642978003384094 6.19672131147541 0.6994851842186425\n",
      "PHE  0.11117367870645965 0.05279187817258883 8.85897435897436 1.0\n",
      "PRO  0.027350977395221625 0.03282571912013536 3.5051546391752577 0.39566144986348784\n",
      "SER  0.02912074652079479 0.04433164128595601 2.763358778625954 0.3119276190055346\n",
      "THR  0.024294103451049796 0.04128595600676819 2.4754098360655736 0.2794239757063889\n",
      "TRP  0.10465771056230391 0.05177664974619289 8.50326797385621 0.9598479044294996\n",
      "TYR  0.14166197409701553 0.08189509306260576 7.276859504132231 0.8214110583535659\n",
      "VAL  0.03346472528356528 0.045008460236886635 3.1278195488721803 0.3530679085557598\n"
     ]
    }
   ],
   "source": [
    "analyze_res_clashes(\"/Users/dsharon/Documents/MIT/6.8701/Project/Analysis/RMSD_and_Chem_Feats/Clash_Check_231208_1210/Clash_dictionary_HF_Test_1_m_1.0.npy\")"
   ]
  },
  {
   "cell_type": "code",
   "execution_count": 26,
   "id": "d738023e",
   "metadata": {},
   "outputs": [],
   "source": [
    "test_d = {\"pdb1\" : \n",
    "          { \n",
    "              \"clashes\" : {\"ALA\" : 1,\n",
    "                                \"CYS\" : 1,\n",
    "                                \"ASP\" : 1,\n",
    "                                \"GLU\" : 1,\n",
    "                                \"PHE\" : 0,\n",
    "                                \"GLY\" : 0,\n",
    "                                \"HIS\" : 0,\n",
    "                                \"ILE\" : 0,\n",
    "                                \"LYS\" : 0,\n",
    "                                \"LEU\" : 0,\n",
    "                                \"MET\" : 0,\n",
    "                                \"ASN\" : 0,\n",
    "                                \"PRO\" : 0,\n",
    "                                \"GLN\" : 0,\n",
    "                                \"ARG\" : 0,\n",
    "                                \"SER\" : 0,\n",
    "                                \"THR\" : 0,\n",
    "                                \"VAL\" : 0,\n",
    "                                \"TRP\" : 0,\n",
    "                                \"TYR\" : 0},\n",
    "                     \"binding_site_comp\" : {\"ALA\" : 1,\n",
    "                                \"CYS\" : 1,\n",
    "                                \"ASP\" : 1,\n",
    "                                \"GLU\" : 1,\n",
    "                                \"PHE\" : 1,\n",
    "                                \"GLY\" : 1,\n",
    "                                \"HIS\" : 1,\n",
    "                                \"ILE\" : 1,\n",
    "                                \"LYS\" : 1,\n",
    "                                \"LEU\" : 1,\n",
    "                                \"MET\" : 1,\n",
    "                                \"ASN\" : 1,\n",
    "                                \"PRO\" : 1,\n",
    "                                \"GLN\" : 1,\n",
    "                                \"ARG\" : 1,\n",
    "                                \"SER\" : 1,\n",
    "                                \"THR\" : 1,\n",
    "                                \"VAL\" : 1,\n",
    "                                \"TRP\" : 1,\n",
    "                                \"TYR\" : 1}\n",
    "              },\n",
    "            \"pdb2\" : \n",
    "          { \n",
    "              \"clashes\" : {\"ALA\" : 1,\n",
    "                                \"CYS\" : 3,\n",
    "                                \"ASP\" : 3,\n",
    "                                \"GLU\" : 10,\n",
    "                                \"PHE\" : 0,\n",
    "                                \"GLY\" : 0,\n",
    "                                \"HIS\" : 0,\n",
    "                                \"ILE\" : 0,\n",
    "                                \"LYS\" : 0,\n",
    "                                \"LEU\" : 0,\n",
    "                                \"MET\" : 0,\n",
    "                                \"ASN\" : 0,\n",
    "                                \"PRO\" : 0,\n",
    "                                \"GLN\" : 0,\n",
    "                                \"ARG\" : 0,\n",
    "                                \"SER\" : 0,\n",
    "                                \"THR\" : 0,\n",
    "                                \"VAL\" : 0,\n",
    "                                \"TRP\" : 5,\n",
    "                                \"TYR\" : 0},\n",
    "                     \"binding_site_comp\" : {\"ALA\" : 1,\n",
    "                                \"CYS\" : 1,\n",
    "                                \"ASP\" : 1,\n",
    "                                \"GLU\" : 1,\n",
    "                                \"PHE\" : 1,\n",
    "                                \"GLY\" : 1,\n",
    "                                \"HIS\" : 1,\n",
    "                                \"ILE\" : 1,\n",
    "                                \"LYS\" : 1,\n",
    "                                \"LEU\" : 1,\n",
    "                                \"MET\" : 1,\n",
    "                                \"ASN\" : 1,\n",
    "                                \"PRO\" : 1,\n",
    "                                \"GLN\" : 1,\n",
    "                                \"ARG\" : 1,\n",
    "                                \"SER\" : 1,\n",
    "                                \"THR\" : 2,\n",
    "                                \"VAL\" : 2,\n",
    "                                \"TRP\" : 2,\n",
    "                                \"TYR\" : 2}\n",
    "          }\n",
    "         }\n",
    "              \n",
    "np.save(\"/Users/dsharon/Documents/MIT/6.8701/Project/Analysis/RMSD_and_Chem_Feats/Clash_check_sample.npy\", test_d)"
   ]
  },
  {
   "cell_type": "code",
   "execution_count": 27,
   "id": "bf5cdf5f",
   "metadata": {},
   "outputs": [
    {
     "name": "stdout",
     "output_type": "stream",
     "text": [
      "dict_keys(['pdb1', 'pdb2'])\n",
      "{'clashes': {'ALA': 0, 'ARG': 0, 'ASN': 0, 'ASP': 0, 'CYS': 0, 'GLN': 0, 'GLU': 0, 'GLY': 0, 'HIS': 0, 'ILE': 0, 'LEU': 0, 'LYS': 0, 'MET': 0, 'PHE': 0, 'PRO': 0, 'SER': 0, 'THR': 0, 'TRP': 0, 'TYR': 0, 'VAL': 0}, 'binding_site_res': {'ALA': 0, 'ARG': 0, 'ASN': 0, 'ASP': 0, 'CYS': 0, 'GLN': 0, 'GLU': 0, 'GLY': 0, 'HIS': 0, 'ILE': 0, 'LEU': 0, 'LYS': 0, 'MET': 0, 'PHE': 0, 'PRO': 0, 'SER': 0, 'THR': 0, 'TRP': 0, 'TYR': 0, 'VAL': 0}}\n",
      "amino acid percent clashes percent binding site c/b ratio c/b ratio norm.\n",
      "ALA  0.07692307692307693 0.045454545454545456 1.0 0.18181818181818182\n",
      "ARG  0.0 0.045454545454545456 0.0 0.0\n",
      "ASN  0.0 0.045454545454545456 0.0 0.0\n",
      "ASP  0.15384615384615385 0.045454545454545456 2.0 0.36363636363636365\n",
      "CYS  0.15384615384615385 0.045454545454545456 2.0 0.36363636363636365\n",
      "GLN  0.0 0.045454545454545456 0.0 0.0\n",
      "GLU  0.4230769230769231 0.045454545454545456 5.5 1.0\n",
      "GLY  0.0 0.045454545454545456 0.0 0.0\n",
      "HIS  0.0 0.045454545454545456 0.0 0.0\n",
      "ILE  0.0 0.045454545454545456 0.0 0.0\n",
      "LEU  0.0 0.045454545454545456 0.0 0.0\n",
      "LYS  0.0 0.045454545454545456 0.0 0.0\n",
      "MET  0.0 0.045454545454545456 0.0 0.0\n",
      "PHE  0.0 0.045454545454545456 0.0 0.0\n",
      "PRO  0.0 0.045454545454545456 0.0 0.0\n",
      "SER  0.0 0.045454545454545456 0.0 0.0\n",
      "THR  0.0 0.06818181818181818 0.0 0.0\n",
      "TRP  0.19230769230769232 0.06818181818181818 1.6666666666666667 0.30303030303030304\n",
      "TYR  0.0 0.06818181818181818 0.0 0.0\n",
      "VAL  0.0 0.06818181818181818 0.0 0.0\n"
     ]
    }
   ],
   "source": [
    "analyze_res_clashes(\"/Users/dsharon/Documents/MIT/6.8701/Project/Analysis/RMSD_and_Chem_Feats/Clash_check_sample.npy\")"
   ]
  },
  {
   "cell_type": "code",
   "execution_count": 30,
   "id": "e094a695",
   "metadata": {},
   "outputs": [
    {
     "name": "stdout",
     "output_type": "stream",
     "text": [
      "0.045454545454545456\n",
      "0.06818181818181818\n"
     ]
    }
   ],
   "source": [
    "#expect 44 binding site entries\n",
    "print(2/44)\n",
    "print(3/44)"
   ]
  },
  {
   "cell_type": "code",
   "execution_count": 31,
   "id": "317a23c4",
   "metadata": {},
   "outputs": [
    {
     "name": "stdout",
     "output_type": "stream",
     "text": [
      "0.07692307692307693 0.15384615384615385 0.4230769230769231 0.19230769230769232\n"
     ]
    }
   ],
   "source": [
    "#good binding sites match\n",
    "#26 clashes\n",
    "#ala 2 cys and asp 4 each glu 11 trp 5\n",
    "print(f\"{2/26} {4/26} {11/26} {5/26}\")"
   ]
  },
  {
   "cell_type": "code",
   "execution_count": 34,
   "id": "6740b9bb",
   "metadata": {},
   "outputs": [
    {
     "name": "stdout",
     "output_type": "stream",
     "text": [
      "5.5\n"
     ]
    }
   ],
   "source": [
    "#match good\n",
    "#glu should have max ratio\n",
    "print(f\"{11 /2}\")"
   ]
  },
  {
   "cell_type": "code",
   "execution_count": 35,
   "id": "28f58bea",
   "metadata": {},
   "outputs": [
    {
     "name": "stdout",
     "output_type": "stream",
     "text": [
      "0.18181818181818182\n",
      "0.3029090909090909\n",
      "0.36363636363636365\n"
     ]
    }
   ],
   "source": [
    "#ala - 2 clashes 2 entries 1 good, asp and cys 2 entries 4 clashes 2 good, trp 5 clashes 3 entries 1.66 good\n",
    "print(1/5.5)\n",
    "print(1.666/5.5)\n",
    "print(2/5.5)"
   ]
  },
  {
   "cell_type": "code",
   "execution_count": null,
   "id": "d084a41b",
   "metadata": {},
   "outputs": [],
   "source": [
    "#great, code works as expected on this example"
   ]
  }
 ],
 "metadata": {
  "kernelspec": {
   "display_name": "docking_analyze",
   "language": "python",
   "name": "docking_analyze"
  },
  "language_info": {
   "codemirror_mode": {
    "name": "ipython",
    "version": 3
   },
   "file_extension": ".py",
   "mimetype": "text/x-python",
   "name": "python",
   "nbconvert_exporter": "python",
   "pygments_lexer": "ipython3",
   "version": "3.10.13"
  }
 },
 "nbformat": 4,
 "nbformat_minor": 5
}
