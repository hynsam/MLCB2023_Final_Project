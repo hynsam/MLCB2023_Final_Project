{
 "cells": [
  {
   "cell_type": "code",
   "execution_count": 1,
   "id": "dbc66bdd",
   "metadata": {},
   "outputs": [],
   "source": [
    "#Process docking results and correlate RMSD with chemical features of molecules\n",
    "#11/13/23 added an update- Spearman correlation\n",
    "#Hoping to obtain a file of protein features/P-L complex features, which can also be correlated with RMSD\n",
    "#12/11/23 higher throughput\n",
    "import pandas as pd\n",
    "import rdkit\n",
    "from rdkit import Chem\n",
    "from rdkit.Chem.rdchem import BondType as BT\n",
    "from rdkit.Chem import AllChem, GetPeriodicTable, RemoveHs\n",
    "from rdkit.Chem import Descriptors\n",
    "from rdkit.Chem import rdDistGeom\n",
    "import numpy as np\n",
    "import matplotlib.pyplot as plt\n",
    "import os\n",
    "import scipy\n",
    "from scipy import stats\n",
    "import copy"
   ]
  },
  {
   "cell_type": "code",
   "execution_count": 2,
   "id": "0c9518ec",
   "metadata": {},
   "outputs": [],
   "source": [
    "pdbpath = \"/Users/dsharon/Documents/MIT/6.8701/Project/Code/HarmonicFlow/FlowSite/data/PDBBind_processed/\"\n",
    "\n",
    "pdb_list = \"/Users/dsharon/Documents/MIT/6.8701/Project/Data/From_Hannes/HarmonicFlow_complex_names.npy\"\n",
    "\n",
    "\n",
    "#From Hannes\n",
    "with open(pdb_list, 'rb') as f:\n",
    "    complex_names = np.load(pdb_list)"
   ]
  },
  {
   "cell_type": "code",
   "execution_count": 3,
   "id": "1ec3df7c",
   "metadata": {},
   "outputs": [],
   "source": [
    "#Copied from https://github.com/gcorso/DiffDock/blob/main/datasets/process_mols.py\n",
    "def read_molecule(molecule_file, sanitize=False, calc_charges=False, remove_hs=False):\n",
    "    if molecule_file.endswith('.mol2'):\n",
    "        mol = Chem.MolFromMol2File(molecule_file, sanitize=False, removeHs=False)\n",
    "    elif molecule_file.endswith('.sdf'):\n",
    "        supplier = Chem.SDMolSupplier(molecule_file, sanitize=False, removeHs=False)\n",
    "        mol = supplier[0]\n",
    "    elif molecule_file.endswith('.pdbqt'):\n",
    "        with open(molecule_file) as file:\n",
    "            pdbqt_data = file.readlines()\n",
    "        pdb_block = ''\n",
    "        for line in pdbqt_data:\n",
    "            pdb_block += '{}\\n'.format(line[:66])\n",
    "        mol = Chem.MolFromPDBBlock(pdb_block, sanitize=False, removeHs=False)\n",
    "    elif molecule_file.endswith('.pdb'):\n",
    "        mol = Chem.MolFromPDBFile(molecule_file, sanitize=False, removeHs=False)\n",
    "    else:\n",
    "        raise ValueError('Expect the format of the molecule_file to be '\n",
    "                         'one of .mol2, .sdf, .pdbqt and .pdb, got {}'.format(molecule_file))\n",
    "\n",
    "    try:\n",
    "        if sanitize or calc_charges:\n",
    "            Chem.SanitizeMol(mol)\n",
    "\n",
    "        if calc_charges:\n",
    "            # Compute Gasteiger charges on the molecule.\n",
    "            try:\n",
    "                AllChem.ComputeGasteigerCharges(mol)\n",
    "            except:\n",
    "                warnings.warn('Unable to compute charges for the molecule.')\n",
    "\n",
    "        if remove_hs:\n",
    "            mol = Chem.RemoveHs(mol, sanitize=sanitize)\n",
    "    except Exception as e:\n",
    "        print(e)\n",
    "        print(\"RDKit was unable to read the molecule.\")\n",
    "        return None\n",
    "\n",
    "    return mol"
   ]
  },
  {
   "cell_type": "code",
   "execution_count": 4,
   "id": "32a3dd60",
   "metadata": {},
   "outputs": [],
   "source": [
    "##########\n",
    "#Check consensus distances\n",
    "#Input:\n",
    "#(a) conf_for_c conformers' coordinates\n",
    "#(b) atom_pair_dict pairs of atoms for distance analysis across conformers\n",
    "#(c) analysis_label string describing analysis\n",
    "#(d) sd_cutoff_for_lower standard deviation ceiling\n",
    "#Output\n",
    "#(a) count_lower_sd count of SDs below the ceiling\n",
    "#(b) max_sd maximum SD\n",
    "#(c) sd_list list of SDs\n",
    "##########\n",
    "def consensus_check(conf_for_c,\n",
    "                    atom_pair_dict,\n",
    "                    analysis_label,\n",
    "                    sd_cutoff_for_lower):\n",
    "\n",
    "    #holds all pairwise dists\n",
    "    pair_dists = []\n",
    "    \n",
    "    #pairwise dists for each pair\n",
    "    pair_dist_dict = {}\n",
    "\n",
    "    #keys atom pairs\n",
    "    #values distance list- one distance/conformer\n",
    "    for a1add in atom_pair_dict.keys():\n",
    "        for a1addpair in atom_pair_dict[a1add]:\n",
    "            pair_dist_dict[tuple(sorted([a1add, a1addpair]))] = []\n",
    "\n",
    "    #print(away_1_dist_dict)\n",
    "\n",
    "    #Iterate over conformers\n",
    "    for conf in conf_for_c:\n",
    "        #for each conformer refresh so do not duplicate e.g. (1,2) and then (2,1)\n",
    "        already_checked = []\n",
    "        #print(\"new conf\")\n",
    "\n",
    "        #Each heavy atom\n",
    "        for away1 in atom_pair_dict.keys():\n",
    "\n",
    "            #Each heavy atom partner of interest\n",
    "            for away1pair in atom_pair_dict[away1]:\n",
    "\n",
    "                #Make sure not already found\n",
    "                if sorted([away1, away1pair]) not in already_checked:\n",
    "                    already_checked.append([away1, away1pair])\n",
    "\n",
    "                    #Coordinate find, distance find\n",
    "                    #print(f\"{away1} {away1pair}\")\n",
    "                    away1coords = conf[away1]\n",
    "                    away2coords = conf[away1pair]\n",
    "                    #Ref https://stackoverflow.com/questions/1401712/how-can-the-euclidean-distance-be-calculated-with-numpy\n",
    "                    dist = np.linalg.norm(away1coords - away2coords)\n",
    "\n",
    "                    #Add to list and dictionary\n",
    "                    pair_dists.append(dist)\n",
    "                    #print(away_1_dist_dict[tuple(sorted([away1, away1pair]))])\n",
    "                    key_update = tuple(sorted([away1, away1pair]))\n",
    "                    pair_dist_dict[key_update].append(dist)\n",
    "\n",
    "    avg_list = []\n",
    "    sd_list = []\n",
    "    for paircalc in pair_dist_dict.keys():\n",
    "        dist_analyze = pair_dist_dict[paircalc]\n",
    "        avg_list.append(np.average(dist_analyze))\n",
    "        sd_list.append(np.std(dist_analyze, ddof = 1))\n",
    "        \n",
    "    #10:16 find max SD to help pick cutoff\n",
    "    max_sd = max(sd_list)\n",
    "\n",
    "    #SD histogram\n",
    "    '''\n",
    "    plt.hist(sd_list)\n",
    "    plt.title(f\"SD Histogram for {analysis_label}\")\n",
    "    plt.xlabel(\"Distance SD Across Conformers (Å)\")\n",
    "    plt.ylabel(\"Frequency\")\n",
    "    plt.show()\n",
    "    plt.cla()\n",
    "    plt.clf()\n",
    "    '''\n",
    "    #SD histogram\n",
    "    #Low values only\n",
    "    sd_list_lower = [s for s in sd_list if s < sd_cutoff_for_lower]\n",
    "    count_lower_sd = len(sd_list_lower)\n",
    "    #print(sd_list_lower)\n",
    "    lower_bins = np.linspace(0, sd_cutoff_for_lower, 21)\n",
    "    #print(\"lower bins\")\n",
    "    #print(lower_bins)\n",
    "    \n",
    "    '''\n",
    "    plt.hist(sd_list_lower, bins = lower_bins)\n",
    "    plt.title(f\"SD Histogram Low Values for {analysis_label}\")\n",
    "    plt.xlabel(\"Distance SD Across Conformers (Å)\")\n",
    "    plt.ylabel(\"Frequency\")\n",
    "    plt.show()\n",
    "    plt.cla()\n",
    "    plt.clf()\n",
    "    \n",
    "    #Average histogram\n",
    "    plt.hist(avg_list)\n",
    "    plt.title(f\"Average Histogram for {analysis_label}\")\n",
    "    plt.xlabel(\"Distance Average Across Conformers (Å)\")\n",
    "    plt.ylabel(\"Frequency\")\n",
    "    plt.show()\n",
    "    plt.cla()\n",
    "    plt.clf()\n",
    "    \n",
    "    #Scatterplot\n",
    "    plt.scatter(avg_list, sd_list)\n",
    "    plt.title(f\"Scatterplot for {analysis_label}\")\n",
    "    plt.xlabel(\"Distance Average Across Conformers (Å)\")\n",
    "    plt.ylabel(\"Distance SD Across Conformers (Å)\")\n",
    "    plt.show()\n",
    "    plt.cla()\n",
    "    plt.clf()\n",
    "    '''\n",
    "    \n",
    "    return count_lower_sd, max_sd, sd_list"
   ]
  },
  {
   "cell_type": "code",
   "execution_count": 5,
   "id": "0e506b29",
   "metadata": {},
   "outputs": [],
   "source": [
    "##########\n",
    "#Launch conformer consensus distance analysis\n",
    "#Input:\n",
    "#(a) l_analyze ligand analyzing\n",
    "#(b) cutoff_sd cutoff for sd further away\n",
    "#Output:\n",
    "#(a) below_2_away count of distances (2 bonds away) below cutoff\n",
    "#(b) below_further_away count of distances (further than 2 bonds away) below cutoff\n",
    "#(c) a2maxsd max sd of 2 away distances\n",
    "#(d) afurthersdlist list of all distances' over 2 bonds away. sds across conformers\n",
    "#(e) boolean for whether there was an error\n",
    "##########\n",
    "def run_consensus_analysis(l_analyze, cutoff_sd):\n",
    "    \n",
    "    ##########\n",
    "    #(a) conformer generation\n",
    "    ##########\n",
    "    num_conf = 10\n",
    "    #Copied from https://github.com/HannesStark/EquiBind/blob/41bd00fd6801b95d2cf6c4d300cd76ae5e6dab5e/commons/process_mols.py#L447\n",
    "    #Thank you Jeremy!\n",
    "    #copied from ps down to conformers.append\n",
    "    ps = AllChem.ETKDGv2()\n",
    "    ids = rdDistGeom.EmbedMultipleConfs(l_analyze, num_conf, ps)\n",
    "    \n",
    "    #To protect against bad conformer error\n",
    "    #Ref https://www.w3schools.com/python/python_try_except.asp\n",
    "    try:\n",
    "        if -1 in ids:\n",
    "            print('rdkit coords could not be generated without using random coords. using random coords now.')\n",
    "            ps.useRandomCoords = True\n",
    "            ids = rdDistGeom.EmbedMultipleConfs(l_analyze, num_conf, ps)\n",
    "            AllChem.MMFFOptimizeMoleculeConfs(l_analyze)\n",
    "        else:\n",
    "            #print(\"ids\")\n",
    "            #print(ids)\n",
    "            AllChem.MMFFOptimizeMoleculeConfs(l_analyze)\n",
    "        conformers = []\n",
    "        for i in range(num_conf):\n",
    "            conformers.append(l_analyze.GetConformer(i).GetPositions())\n",
    "        #print(conformers[0])\n",
    "        #print(len(conformers))\n",
    "\n",
    "        ##########\n",
    "        #(b) connectivity info parsing\n",
    "        ##########\n",
    "        #Ref https://www.rdkit.org/docs/GettingStartedInPython.html\n",
    "        heavy_atom_list = []\n",
    "        heavy_atom_bonds = []\n",
    "\n",
    "        #Record all heavy atoms\n",
    "        for a in lig.GetAtoms():\n",
    "            if a.GetAtomicNum() > 1:\n",
    "                #print(f\"found atom {a.GetSymbol()}\")\n",
    "                heavy_atom_list.append(a.GetIdx())\n",
    "            #else:\n",
    "                #print(\"found H\")\n",
    "\n",
    "        #Find each bond, record\n",
    "        for b in lig.GetBonds():\n",
    "            at1 = b.GetBeginAtomIdx()\n",
    "            at2 = b.GetEndAtomIdx()\n",
    "            at1_an = lig.GetAtomWithIdx(at1).GetAtomicNum()\n",
    "            at2_an = lig.GetAtomWithIdx(at2).GetAtomicNum()\n",
    "            if at1_an == 1 or at2_an == 1:\n",
    "                continue\n",
    "            else:\n",
    "                #print(\"heavy atom bond\")\n",
    "                #print(f\"{at1} element {at1_an}\")\n",
    "                #print(f\"{at2} element {at2_an}\")\n",
    "                #print(\"----\")\n",
    "                heavy_atom_bonds.append([at1, at2])\n",
    "            #print([x.GetAtomicNum() for x in at.GetNeighbors()])\n",
    "\n",
    "        ##########\n",
    "        #(c) collect 1 and 2 and more away info\n",
    "        ##########\n",
    "\n",
    "        #keys- atoms, values- neighbors 1 and 2 away\n",
    "        atom_neighbor_dict_12_away = {}\n",
    "        atom_neighbor_dict_1_away = {}\n",
    "        atom_neighbor_dict_2_away = {}\n",
    "        atom_neighbor_dict_further_away = {}\n",
    "\n",
    "        #Initialize and 1st shell neighbors\n",
    "        for a in heavy_atom_list:\n",
    "            atom_neighbor_dict_1_away[a] = []\n",
    "\n",
    "            #Add all 1 away\n",
    "            for b in heavy_atom_bonds:\n",
    "                #print(b)\n",
    "                if b[0] == a:\n",
    "                    atom_neighbor_dict_1_away[a].append(b[1])\n",
    "                if b[1] == a:\n",
    "                    atom_neighbor_dict_1_away[a].append(b[0])\n",
    "        #print(\"1 away\")\n",
    "        #print(atom_neighbor_dict_1_away)\n",
    "\n",
    "        #2 away neighbors\n",
    "        for a2 in heavy_atom_list:\n",
    "            atom_neighbor_dict_2_away[a2] = []\n",
    "\n",
    "            #Now add in the neighbor's neighbors\n",
    "            #All 1 away from the neighbor\n",
    "            #Filter for a2 though\n",
    "            for b2 in heavy_atom_bonds:\n",
    "                #print(b2)\n",
    "                if b2[0] == a2:\n",
    "                    neighbor_neighbor_not_a2 = [i for i in atom_neighbor_dict_1_away[b2[1]] if i is not a2]\n",
    "                    atom_neighbor_dict_2_away[a2] += neighbor_neighbor_not_a2\n",
    "                if b2[1] == a2:\n",
    "                    neighbor_neighbor_not_a2 = [i for i in atom_neighbor_dict_1_away[b2[0]] if i is not a2]\n",
    "                    atom_neighbor_dict_2_away[a2] += neighbor_neighbor_not_a2\n",
    "\n",
    "        #print(\"2 away\")\n",
    "        #print(atom_neighbor_dict_2_away)\n",
    "\n",
    "        #Combine 1 and 2 away\n",
    "        for a12 in heavy_atom_list:\n",
    "            atom_neighbor_dict_12_away[a12] = list(set(atom_neighbor_dict_1_away[a12] + atom_neighbor_dict_2_away[a12]))\n",
    "\n",
    "        #print(\"1 and 2 away\")\n",
    "        #print(atom_neighbor_dict_12_away)\n",
    "\n",
    "        #More than 2 away\n",
    "        for afurther in heavy_atom_list:\n",
    "            further_list = []\n",
    "\n",
    "            #Add to further list if not atom itself or a 1/2 away neighbor\n",
    "            for a_add in heavy_atom_list:\n",
    "                if ((a_add != afurther) and (a_add not in atom_neighbor_dict_12_away[afurther])):\n",
    "                    further_list.append(a_add)\n",
    "            atom_neighbor_dict_further_away[afurther] = further_list\n",
    "        #print(\"further\")\n",
    "        #print(atom_neighbor_dict_further_away)\n",
    "\n",
    "        below_1_away, a1maxsd, a1sdlist = consensus_check(conformers,\n",
    "                                        atom_neighbor_dict_1_away, \n",
    "                                        \"1_away\",\n",
    "                                        cutoff_sd)\n",
    "\n",
    "        below_2_away, a2maxsd, a2sdlist = consensus_check(conformers,\n",
    "                                        atom_neighbor_dict_2_away, \n",
    "                                        \"2_away\",\n",
    "                                        cutoff_sd)\n",
    "\n",
    "        below_12_away, a12maxsd, a12sdlist = consensus_check(conformers,\n",
    "                                        atom_neighbor_dict_12_away, \n",
    "                                        \"12_away\",\n",
    "                                        cutoff_sd)\n",
    "\n",
    "        below_further_away, afurthermaxsd, afurthersdlist = consensus_check(conformers,\n",
    "                                            atom_neighbor_dict_further_away, \n",
    "                                            \"further\",\n",
    "                                            cutoff_sd)\n",
    "\n",
    "        return below_2_away, below_further_away, a2maxsd, afurthersdlist, False\n",
    "    \n",
    "    except:\n",
    "        print(\"Error\")\n",
    "        return None, None, None, None, True"
   ]
  },
  {
   "cell_type": "code",
   "execution_count": 7,
   "id": "3dd0127b",
   "metadata": {},
   "outputs": [
    {
     "name": "stdout",
     "output_type": "stream",
     "text": [
      "On 0 6jt3\n",
      "On 1 6jbb\n",
      "On 2 6ufo\n",
      "On 3 6os6\n",
      "Can't kekulize mol.  Unkekulized atoms: 5 6 7 8 9 10 11 12 13\n",
      "RDKit was unable to read the molecule.\n",
      "Using the .sdf file failed. We found a .mol2 file instead and are trying to use that.\n",
      "On 4 6jbe\n"
     ]
    },
    {
     "name": "stderr",
     "output_type": "stream",
     "text": [
      "[12:44:15] Can't kekulize mol.  Unkekulized atoms: 5 6 7 8 9 10 11 12 13\n"
     ]
    },
    {
     "name": "stdout",
     "output_type": "stream",
     "text": [
      "On 5 6qra\n",
      "Can't kekulize mol.  Unkekulized atoms: 10 11 12 13 28\n",
      "RDKit was unable to read the molecule.\n",
      "Using the .sdf file failed. We found a .mol2 file instead and are trying to use that.\n"
     ]
    },
    {
     "name": "stderr",
     "output_type": "stream",
     "text": [
      "[12:44:16] Can't kekulize mol.  Unkekulized atoms: 10 11 12 13 28\n"
     ]
    },
    {
     "name": "stdout",
     "output_type": "stream",
     "text": [
      "On 6 6qsz\n",
      "On 7 6jam\n",
      "On 8 6a87\n",
      "On 9 6oie\n",
      "Error\n",
      "On 10 6n4b\n",
      "On 11 6dyz\n",
      "Can't kekulize mol.  Unkekulized atoms: 12 13 14 15 16 17 18 20 21\n",
      "RDKit was unable to read the molecule.\n",
      "Using the .sdf file failed. We found a .mol2 file instead and are trying to use that.\n"
     ]
    },
    {
     "name": "stderr",
     "output_type": "stream",
     "text": [
      "[12:44:52] Can't kekulize mol.  Unkekulized atoms: 12 13 14 15 16 17 18 20 21\n"
     ]
    },
    {
     "name": "stdout",
     "output_type": "stream",
     "text": [
      "On 12 6hhh\n",
      "On 13 6i5p\n",
      "On 14 6e6v\n",
      "On 15 6o9c\n",
      "On 16 6c85\n",
      "On 17 6e13\n",
      "On 18 6cjj\n",
      "On 19 6nri\n",
      "On 20 6mja\n",
      "Error\n",
      "On 21 6qr7\n",
      "Can't kekulize mol.  Unkekulized atoms: 10 11 12 13 28\n",
      "RDKit was unable to read the molecule.\n",
      "Using the .sdf file failed. We found a .mol2 file instead and are trying to use that.\n"
     ]
    },
    {
     "name": "stderr",
     "output_type": "stream",
     "text": [
      "[12:45:24] Can't kekulize mol.  Unkekulized atoms: 10 11 12 13 28\n"
     ]
    },
    {
     "name": "stdout",
     "output_type": "stream",
     "text": [
      "On 22 6o0h\n",
      "On 23 6qmt\n",
      "On 24 6ibz\n",
      "On 25 6d3y\n",
      "On 26 6qr0\n",
      "Can't kekulize mol.  Unkekulized atoms: 7 8 9 10 11\n",
      "RDKit was unable to read the molecule.\n",
      "Using the .sdf file failed. We found a .mol2 file instead and are trying to use that.\n"
     ]
    },
    {
     "name": "stderr",
     "output_type": "stream",
     "text": [
      "[12:46:13] Can't kekulize mol.  Unkekulized atoms: 7 8 9 10 11\n"
     ]
    },
    {
     "name": "stdout",
     "output_type": "stream",
     "text": [
      "On 27 6s9w\n",
      "On 28 6p8x\n",
      "On 29 6s07\n",
      "Error\n",
      "On 30 6fe5\n",
      "On 31 6oxp\n",
      "On 32 5zlf\n",
      "On 33 6n8x\n",
      "On 34 6qtw\n",
      "On 35 6mhd\n",
      "On 36 6jut\n",
      "Can't kekulize mol.  Unkekulized atoms: 2 3 5 19 20 21 22 23 25\n",
      "RDKit was unable to read the molecule.\n",
      "Using the .sdf file failed. We found a .mol2 file instead and are trying to use that.\n"
     ]
    },
    {
     "name": "stderr",
     "output_type": "stream",
     "text": [
      "[12:46:56] Can't kekulize mol.  Unkekulized atoms: 2 3 5 19 20 21 22 23 25\n"
     ]
    },
    {
     "name": "stdout",
     "output_type": "stream",
     "text": [
      "On 37 6uhu\n",
      "Explicit valence for atom # 0 C, 5, is greater than permitted\n",
      "RDKit was unable to read the molecule.\n",
      "Using the .sdf file failed. We found a .mol2 file instead and are trying to use that.\n"
     ]
    },
    {
     "name": "stderr",
     "output_type": "stream",
     "text": [
      "[12:46:58] Explicit valence for atom # 0 C, 5, is greater than permitted\n"
     ]
    },
    {
     "name": "stdout",
     "output_type": "stream",
     "text": [
      "On 38 6i8m\n",
      "On 39 6ckl\n",
      "On 40 6e6j\n",
      "Can't kekulize mol.  Unkekulized atoms: 1 2 6 29 32\n",
      "RDKit was unable to read the molecule.\n",
      "Using the .sdf file failed. We found a .mol2 file instead and are trying to use that.\n"
     ]
    },
    {
     "name": "stderr",
     "output_type": "stream",
     "text": [
      "[12:47:00] Can't kekulize mol.  Unkekulized atoms: 1 2 6 29 32\n"
     ]
    },
    {
     "name": "stdout",
     "output_type": "stream",
     "text": [
      "On 41 5zjz\n",
      "Can't kekulize mol.  Unkekulized atoms: 120 121 122 123 124 125 126 127 128\n",
      "RDKit was unable to read the molecule.\n",
      "Using the .sdf file failed. We found a .mol2 file instead and are trying to use that.\n"
     ]
    },
    {
     "name": "stderr",
     "output_type": "stream",
     "text": [
      "[12:47:02] Can't kekulize mol.  Unkekulized atoms: 120 121 122 123 124 125 126 127 128\n"
     ]
    },
    {
     "name": "stdout",
     "output_type": "stream",
     "text": [
      "Error\n",
      "On 42 6qts\n",
      "On 43 6h12\n",
      "On 44 6pno\n",
      "On 45 6mo2\n",
      "Can't kekulize mol.  Unkekulized atoms: 28 29 30 31 32\n",
      "RDKit was unable to read the molecule.\n",
      "Using the .sdf file failed. We found a .mol2 file instead and are trying to use that.\n"
     ]
    },
    {
     "name": "stderr",
     "output_type": "stream",
     "text": [
      "[12:47:42] Can't kekulize mol.  Unkekulized atoms: 28 29 30 31 32\n"
     ]
    },
    {
     "name": "stdout",
     "output_type": "stream",
     "text": [
      "On 46 6oxv\n",
      "On 47 5zxk\n",
      "On 48 6cjs\n",
      "On 49 6mjq\n",
      "Error\n",
      "On 50 6mo0\n",
      "On 51 6ahs\n",
      "On 52 6gj7\n",
      "Can't kekulize mol.  Unkekulized atoms: 5 6 7 8 14 15 16 17 33\n",
      "RDKit was unable to read the molecule.\n",
      "Using the .sdf file failed. We found a .mol2 file instead and are trying to use that.\n"
     ]
    },
    {
     "name": "stderr",
     "output_type": "stream",
     "text": [
      "[12:47:56] Can't kekulize mol.  Unkekulized atoms: 5 6 7 8 14 15 16 17 33\n"
     ]
    },
    {
     "name": "stdout",
     "output_type": "stream",
     "text": [
      "On 53 6cyh\n",
      "On 54 6gzy\n",
      "On 55 6oxy\n",
      "On 56 6oxr\n",
      "On 57 6qlr\n",
      "On 58 6i8t\n",
      "On 59 6qtr\n",
      "Error\n",
      "On 60 6i62\n",
      "On 61 6qqu\n",
      "Can't kekulize mol.  Unkekulized atoms: 0 1 8 9 10 11 12 13 14\n",
      "RDKit was unable to read the molecule.\n",
      "Using the .sdf file failed. We found a .mol2 file instead and are trying to use that.\n",
      "On 62 6rnu\n"
     ]
    },
    {
     "name": "stderr",
     "output_type": "stream",
     "text": [
      "[12:48:27] Can't kekulize mol.  Unkekulized atoms: 0 1 8 9 10 11 12 13 14\n"
     ]
    },
    {
     "name": "stdout",
     "output_type": "stream",
     "text": [
      "On 63 6pyb\n",
      "On 64 6oiq\n",
      "On 65 6ggf\n",
      "On 66 6qrd\n",
      "Can't kekulize mol.  Unkekulized atoms: 9 10 11 12 13\n",
      "RDKit was unable to read the molecule.\n",
      "Using the .sdf file failed. We found a .mol2 file instead and are trying to use that.\n"
     ]
    },
    {
     "name": "stderr",
     "output_type": "stream",
     "text": [
      "[12:48:30] Can't kekulize mol.  Unkekulized atoms: 9 10 11 12 13\n"
     ]
    },
    {
     "name": "stdout",
     "output_type": "stream",
     "text": [
      "On 67 6npi\n",
      "On 68 6rr0\n",
      "On 69 6mji\n",
      "Error\n",
      "On 70 6qqw\n",
      "Can't kekulize mol.  Unkekulized atoms: 7 8 9 10 11\n",
      "RDKit was unable to read the molecule.\n",
      "Using the .sdf file failed. We found a .mol2 file instead and are trying to use that.\n"
     ]
    },
    {
     "name": "stderr",
     "output_type": "stream",
     "text": [
      "[12:48:59] Can't kekulize mol.  Unkekulized atoms: 7 8 9 10 11\n"
     ]
    },
    {
     "name": "stdout",
     "output_type": "stream",
     "text": [
      "On 71 6k2n\n",
      "On 72 6qto\n",
      "Error\n",
      "On 73 6mo8\n",
      "On 74 6hzd\n",
      "On 75 6efk\n",
      "On 76 6oin\n",
      "On 77 6jsf\n",
      "On 78 6k04\n",
      "On 79 6oxw\n",
      "On 80 6pya\n",
      "Can't kekulize mol.  Unkekulized atoms: 0 1 2 3 4 5 6 7 18\n",
      "RDKit was unable to read the molecule.\n",
      "Using the .sdf file failed. We found a .mol2 file instead and are trying to use that.\n"
     ]
    },
    {
     "name": "stderr",
     "output_type": "stream",
     "text": [
      "[12:49:36] Can't kekulize mol.  Unkekulized atoms: 0 1 2 3 4 5 6 7 18\n"
     ]
    },
    {
     "name": "stdout",
     "output_type": "stream",
     "text": [
      "On 81 6qqt\n",
      "Can't kekulize mol.  Unkekulized atoms: 6 8 9 10 11\n",
      "RDKit was unable to read the molecule.\n",
      "Using the .sdf file failed. We found a .mol2 file instead and are trying to use that.\n"
     ]
    },
    {
     "name": "stderr",
     "output_type": "stream",
     "text": [
      "[12:49:36] Can't kekulize mol.  Unkekulized atoms: 6 8 9 10 11\n"
     ]
    },
    {
     "name": "stdout",
     "output_type": "stream",
     "text": [
      "On 82 6ooz\n",
      "On 83 6ny0\n",
      "On 84 6izq\n",
      "On 85 6oir\n",
      "On 86 6ic0\n",
      "On 87 6a73\n",
      "On 88 6j06\n",
      "On 89 6qr4\n",
      "Can't kekulize mol.  Unkekulized atoms: 8 9 10 11 23\n",
      "RDKit was unable to read the molecule.\n",
      "Using the .sdf file failed. We found a .mol2 file instead and are trying to use that.\n"
     ]
    },
    {
     "name": "stderr",
     "output_type": "stream",
     "text": [
      "[12:49:42] Can't kekulize mol.  Unkekulized atoms: 8 9 10 11 23\n"
     ]
    },
    {
     "name": "stdout",
     "output_type": "stream",
     "text": [
      "On 90 6g9f\n",
      "On 91 6os5\n",
      "Can't kekulize mol.  Unkekulized atoms: 5 6 7 8 9 10 11 12 13\n",
      "RDKit was unable to read the molecule.\n",
      "Using the .sdf file failed. We found a .mol2 file instead and are trying to use that.\n"
     ]
    },
    {
     "name": "stderr",
     "output_type": "stream",
     "text": [
      "[12:49:44] Can't kekulize mol.  Unkekulized atoms: 5 6 7 8 9 10 11 12 13\n"
     ]
    },
    {
     "name": "stdout",
     "output_type": "stream",
     "text": [
      "On 92 6q36\n",
      "Can't kekulize mol.  Unkekulized atoms: 13 14 15 16 17 18 19 20 22\n",
      "RDKit was unable to read the molecule.\n",
      "Using the .sdf file failed. We found a .mol2 file instead and are trying to use that.\n"
     ]
    },
    {
     "name": "stderr",
     "output_type": "stream",
     "text": [
      "[12:49:44] Can't kekulize mol.  Unkekulized atoms: 13 14 15 16 17 18 19 20 22\n"
     ]
    },
    {
     "name": "stdout",
     "output_type": "stream",
     "text": [
      "Error\n",
      "On 93 6qr9\n",
      "Can't kekulize mol.  Unkekulized atoms: 9 10 11 12 28\n",
      "RDKit was unable to read the molecule.\n",
      "Using the .sdf file failed. We found a .mol2 file instead and are trying to use that.\n"
     ]
    },
    {
     "name": "stderr",
     "output_type": "stream",
     "text": [
      "[12:50:21] Can't kekulize mol.  Unkekulized atoms: 9 10 11 12 28\n"
     ]
    },
    {
     "name": "stdout",
     "output_type": "stream",
     "text": [
      "On 94 5zcu\n",
      "On 95 6e3z\n",
      "On 96 6jid\n",
      "On 97 6fff\n",
      "On 98 6te6\n",
      "On 99 6o5u\n",
      "On 100 6gge\n",
      "On 101 6uvv\n",
      "On 102 5zk9\n",
      "Error\n",
      "On 103 6pnn\n",
      "On 104 6d07\n",
      "Error\n",
      "On 105 6oy0\n",
      "On 106 6e3m\n",
      "On 107 6cyg\n",
      "On 108 6i41\n",
      "On 109 6qmr\n",
      "On 110 6hbn\n",
      "On 111 6qlp\n",
      "On 112 6h9v\n",
      "On 113 6qw8\n",
      "On 114 6e3p\n",
      "Can't kekulize mol.  Unkekulized atoms: 17 18 19 20 21\n",
      "RDKit was unable to read the molecule.\n",
      "Using the .sdf file failed. We found a .mol2 file instead and are trying to use that.\n"
     ]
    },
    {
     "name": "stderr",
     "output_type": "stream",
     "text": [
      "[12:51:32] Can't kekulize mol.  Unkekulized atoms: 17 18 19 20 21\n"
     ]
    },
    {
     "name": "stdout",
     "output_type": "stream",
     "text": [
      "On 115 6n93\n",
      "On 116 6g5u\n",
      "On 117 6uil\n",
      "On 118 6hld\n",
      "Error\n",
      "On 119 6pnm\n",
      "On 120 6k05\n",
      "On 121 6qr3\n",
      "Can't kekulize mol.  Unkekulized atoms: 1 3 18 21 22\n",
      "RDKit was unable to read the molecule.\n",
      "Using the .sdf file failed. We found a .mol2 file instead and are trying to use that.\n"
     ]
    },
    {
     "name": "stderr",
     "output_type": "stream",
     "text": [
      "[12:51:44] Can't kekulize mol.  Unkekulized atoms: 1 3 18 21 22\n"
     ]
    },
    {
     "name": "stdout",
     "output_type": "stream",
     "text": [
      "On 122 6qlq\n",
      "On 123 6ibx\n",
      "On 124 6oxx\n",
      "On 125 6eeb\n",
      "Can't kekulize mol.  Unkekulized atoms: 0 1 2 3 4 18 19 20 21\n",
      "RDKit was unable to read the molecule.\n",
      "Using the .sdf file failed. We found a .mol2 file instead and are trying to use that.\n"
     ]
    },
    {
     "name": "stderr",
     "output_type": "stream",
     "text": [
      "[12:51:52] Can't kekulize mol.  Unkekulized atoms: 0 1 2 3 4 18 19 20 21\n"
     ]
    },
    {
     "name": "stdout",
     "output_type": "stream",
     "text": [
      "On 126 6h7d\n",
      "On 127 6p8y\n",
      "On 128 6md6\n",
      "On 129 6n53\n",
      "On 130 6hhj\n",
      "On 131 6n92\n",
      "On 132 6n0m\n",
      "On 133 6d40\n",
      "On 134 6nt2\n",
      "Can't kekulize mol.  Unkekulized atoms: 14 15 16 17 18\n",
      "RDKit was unable to read the molecule.\n",
      "Using the .sdf file failed. We found a .mol2 file instead and are trying to use that.\n"
     ]
    },
    {
     "name": "stderr",
     "output_type": "stream",
     "text": [
      "[12:52:51] Can't kekulize mol.  Unkekulized atoms: 14 15 16 17 18\n"
     ]
    },
    {
     "name": "stdout",
     "output_type": "stream",
     "text": [
      "On 135 6i78\n",
      "On 136 6i61\n",
      "On 137 6kjd\n",
      "On 138 6h14\n",
      "On 139 6hop\n",
      "On 140 5zk7\n",
      "On 141 5ze6\n",
      "On 142 6i7a\n",
      "On 143 6op0\n",
      "On 144 6uwp\n",
      "On 145 6hmy\n",
      "Error\n",
      "On 146 6jwa\n",
      "On 147 6sen\n",
      "Can't kekulize mol.  Unkekulized atoms: 103 104 105 106 107 108 109 110 111\n",
      "RDKit was unable to read the molecule.\n",
      "Using the .sdf file failed. We found a .mol2 file instead and are trying to use that.\n"
     ]
    },
    {
     "name": "stderr",
     "output_type": "stream",
     "text": [
      "[12:53:28] Can't kekulize mol.  Unkekulized atoms: 103 104 105 106 107 108 109 110 111\n"
     ]
    },
    {
     "name": "stdout",
     "output_type": "stream",
     "text": [
      "Error\n",
      "On 148 6s9x\n",
      "On 149 6g27\n",
      "On 150 6dz0\n",
      "Can't kekulize mol.  Unkekulized atoms: 1 2 3 4 5 6 7 8 9\n",
      "RDKit was unable to read the molecule.\n",
      "Using the .sdf file failed. We found a .mol2 file instead and are trying to use that.\n"
     ]
    },
    {
     "name": "stderr",
     "output_type": "stream",
     "text": [
      "[12:53:54] Can't kekulize mol.  Unkekulized atoms: 1 2 3 4 5 6 7 8 9\n"
     ]
    },
    {
     "name": "stdout",
     "output_type": "stream",
     "text": [
      "On 151 6n55\n",
      "On 152 6o5g\n",
      "Can't kekulize mol.  Unkekulized atoms: 12 13 14 15 16 17 18 19 23\n",
      "RDKit was unable to read the molecule.\n",
      "Using the .sdf file failed. We found a .mol2 file instead and are trying to use that.\n"
     ]
    },
    {
     "name": "stderr",
     "output_type": "stream",
     "text": [
      "[12:53:56] Can't kekulize mol.  Unkekulized atoms: 12 13 14 15 16 17 18 19 23\n"
     ]
    },
    {
     "name": "stdout",
     "output_type": "stream",
     "text": [
      "On 153 6o3y\n",
      "On 154 6i64\n",
      "On 155 5zjy\n",
      "Error\n",
      "On 156 6s56\n",
      "On 157 6hhr\n",
      "On 158 6jsn\n",
      "On 159 6nd3\n",
      "On 160 6gj5\n",
      "Can't kekulize mol.  Unkekulized atoms: 0 5 6 7 8 14 15 16 22\n",
      "RDKit was unable to read the molecule.\n",
      "Using the .sdf file failed. We found a .mol2 file instead and are trying to use that.\n"
     ]
    },
    {
     "name": "stderr",
     "output_type": "stream",
     "text": [
      "[12:54:24] Can't kekulize mol.  Unkekulized atoms: 0 5 6 7 8 14 15 16 22\n"
     ]
    },
    {
     "name": "stdout",
     "output_type": "stream",
     "text": [
      "On 161 6n4e\n",
      "On 162 6e4v\n"
     ]
    },
    {
     "name": "stderr",
     "output_type": "stream",
     "text": [
      "[12:54:26] UFFTYPER: Unrecognized hybridization for atom: 53\n",
      "[12:54:26] UFFTYPER: Unrecognized atom type: Fe (53)\n"
     ]
    },
    {
     "name": "stdout",
     "output_type": "stream",
     "text": [
      "On 163 6qls\n",
      "On 164 6nrg\n",
      "Can't kekulize mol.  Unkekulized atoms: 13 14 15 16 17\n",
      "RDKit was unable to read the molecule.\n",
      "Using the .sdf file failed. We found a .mol2 file instead and are trying to use that.\n"
     ]
    },
    {
     "name": "stderr",
     "output_type": "stream",
     "text": [
      "[12:54:32] Can't kekulize mol.  Unkekulized atoms: 13 14 15 16 17\n"
     ]
    },
    {
     "name": "stdout",
     "output_type": "stream",
     "text": [
      "On 165 6jad\n",
      "On 166 6jb0\n",
      "On 167 6inz\n",
      "On 168 6qr1\n",
      "Can't kekulize mol.  Unkekulized atoms: 1 2 15 20 21\n",
      "RDKit was unable to read the molecule.\n",
      "Using the .sdf file failed. We found a .mol2 file instead and are trying to use that.\n"
     ]
    },
    {
     "name": "stderr",
     "output_type": "stream",
     "text": [
      "[12:54:36] Can't kekulize mol.  Unkekulized atoms: 1 2 15 20 21\n"
     ]
    },
    {
     "name": "stdout",
     "output_type": "stream",
     "text": [
      "On 169 6qqz\n",
      "Can't kekulize mol.  Unkekulized atoms: 8 9 10 11 12\n",
      "RDKit was unable to read the molecule.\n",
      "Using the .sdf file failed. We found a .mol2 file instead and are trying to use that.\n"
     ]
    },
    {
     "name": "stderr",
     "output_type": "stream",
     "text": [
      "[12:54:37] Can't kekulize mol.  Unkekulized atoms: 8 9 10 11 12\n"
     ]
    },
    {
     "name": "stdout",
     "output_type": "stream",
     "text": [
      "On 170 6npm\n",
      "On 171 6hhp\n",
      "On 172 6gj6\n",
      "Can't kekulize mol.  Unkekulized atoms: 4 5 9 10 11 12 13 14 19\n",
      "RDKit was unable to read the molecule.\n",
      "Using the .sdf file failed. We found a .mol2 file instead and are trying to use that.\n"
     ]
    },
    {
     "name": "stderr",
     "output_type": "stream",
     "text": [
      "[12:54:41] Can't kekulize mol.  Unkekulized atoms: 4 5 9 10 11 12 13 14 19\n"
     ]
    },
    {
     "name": "stdout",
     "output_type": "stream",
     "text": [
      "On 173 6n96\n",
      "On 174 6gwe\n",
      "Explicit valence for atom # 0 C greater than permitted\n",
      "RDKit was unable to read the molecule.\n",
      "Using the .sdf file failed. We found a .mol2 file instead and are trying to use that.\n"
     ]
    },
    {
     "name": "stderr",
     "output_type": "stream",
     "text": [
      "[12:54:43] Explicit valence for atom # 0 C greater than permitted\n"
     ]
    },
    {
     "name": "stdout",
     "output_type": "stream",
     "text": [
      "On 175 6mhc\n",
      "On 176 6n97\n",
      "On 177 6ooy\n",
      "On 178 6pgo\n",
      "On 179 6h13\n",
      "On 180 6i76\n",
      "On 181 6nv7\n",
      "On 182 6qlo\n",
      "On 183 6qxa\n",
      "Can't kekulize mol.  Unkekulized atoms: 1 3 4 5 6 7 8 9 17\n",
      "RDKit was unable to read the molecule.\n",
      "Using the .sdf file failed. We found a .mol2 file instead and are trying to use that.\n"
     ]
    },
    {
     "name": "stderr",
     "output_type": "stream",
     "text": [
      "[12:55:05] Can't kekulize mol.  Unkekulized atoms: 1 3 4 5 6 7 8 9 17\n"
     ]
    },
    {
     "name": "stdout",
     "output_type": "stream",
     "text": [
      "On 184 6nrf\n",
      "Can't kekulize mol.  Unkekulized atoms: 1 3 21 22 23 24 25 26 27\n",
      "RDKit was unable to read the molecule.\n",
      "Using the .sdf file failed. We found a .mol2 file instead and are trying to use that.\n"
     ]
    },
    {
     "name": "stderr",
     "output_type": "stream",
     "text": [
      "[12:55:06] Can't kekulize mol.  Unkekulized atoms: 1 3 21 22 23 24 25 26 27\n"
     ]
    },
    {
     "name": "stdout",
     "output_type": "stream",
     "text": [
      "On 185 6oxt\n",
      "On 186 6qwi\n",
      "On 187 6od6\n",
      "On 188 6s57\n",
      "On 189 6mjj\n",
      "Error\n",
      "On 190 6gga\n",
      "On 191 6nlj\n",
      "On 192 6qtq\n",
      "On 193 6e6w\n",
      "Can't kekulize mol.  Unkekulized atoms: 18 19 20 21 22\n",
      "RDKit was unable to read the molecule.\n",
      "Using the .sdf file failed. We found a .mol2 file instead and are trying to use that.\n"
     ]
    },
    {
     "name": "stderr",
     "output_type": "stream",
     "text": [
      "[12:55:27] Can't kekulize mol.  Unkekulized atoms: 18 19 20 21 22\n"
     ]
    },
    {
     "name": "stdout",
     "output_type": "stream",
     "text": [
      "On 194 6mj4\n",
      "Error\n",
      "On 195 6oi8\n",
      "On 196 6ott\n",
      "On 197 6dql\n",
      "Can't kekulize mol.  Unkekulized atoms: 13 14 15 16 17 18 19 20 21\n",
      "RDKit was unable to read the molecule.\n",
      "Using the .sdf file failed. We found a .mol2 file instead and are trying to use that.\n"
     ]
    },
    {
     "name": "stderr",
     "output_type": "stream",
     "text": [
      "[12:55:34] Can't kekulize mol.  Unkekulized atoms: 13 14 15 16 17 18 19 20 21\n"
     ]
    },
    {
     "name": "stdout",
     "output_type": "stream",
     "text": [
      "On 198 6o9b\n",
      "On 199 6k3l\n",
      "On 200 6jb4\n",
      "On 201 6hle\n",
      "On 202 6seo\n",
      "Error\n",
      "On 203 6dz2\n",
      "Can't kekulize mol.  Unkekulized atoms: 5 6 7 8 9 10 12 13 14\n",
      "RDKit was unable to read the molecule.\n",
      "Using the .sdf file failed. We found a .mol2 file instead and are trying to use that.\n"
     ]
    },
    {
     "name": "stderr",
     "output_type": "stream",
     "text": [
      "[12:56:42] Can't kekulize mol.  Unkekulized atoms: 5 6 7 8 9 10 12 13 14\n"
     ]
    },
    {
     "name": "stdout",
     "output_type": "stream",
     "text": [
      "On 204 5zml\n",
      "Error\n",
      "On 205 6tel\n",
      "On 206 6olx\n",
      "On 207 6rot\n",
      "On 208 6j9w\n",
      "On 209 6bqd\n",
      "Can't kekulize mol.  Unkekulized atoms: 4 5 6 7 12\n",
      "RDKit was unable to read the molecule.\n",
      "Using the .sdf file failed. We found a .mol2 file instead and are trying to use that.\n"
     ]
    },
    {
     "name": "stderr",
     "output_type": "stream",
     "text": [
      "[12:57:11] Can't kekulize mol.  Unkekulized atoms: 4 5 6 7 12\n"
     ]
    },
    {
     "name": "stdout",
     "output_type": "stream",
     "text": [
      "On 210 6e3o\n",
      "On 211 6ggd\n",
      "On 212 6i75\n",
      "On 213 6nsv\n",
      "Can't kekulize mol.  Unkekulized atoms: 16 17 18 19 20 21 22 23 24\n",
      "RDKit was unable to read the molecule.\n",
      "Using the .sdf file failed. We found a .mol2 file instead and are trying to use that.\n"
     ]
    },
    {
     "name": "stderr",
     "output_type": "stream",
     "text": [
      "[12:57:14] Can't kekulize mol.  Unkekulized atoms: 16 17 18 19 20 21 22 23 24\n"
     ]
    },
    {
     "name": "stdout",
     "output_type": "stream",
     "text": [
      "On 214 6jaq\n",
      "On 215 6g25\n",
      "Can't kekulize mol.  Unkekulized atoms: 2 7 10 14 15\n",
      "RDKit was unable to read the molecule.\n",
      "Using the .sdf file failed. We found a .mol2 file instead and are trying to use that.\n"
     ]
    },
    {
     "name": "stderr",
     "output_type": "stream",
     "text": [
      "[12:57:19] Can't kekulize mol.  Unkekulized atoms: 2 7 10 14 15\n"
     ]
    },
    {
     "name": "stdout",
     "output_type": "stream",
     "text": [
      "On 216 6k1s\n",
      "On 217 6hhi\n",
      "On 218 6e5s\n",
      "On 219 6j9y\n",
      "On 220 6qxd\n",
      "On 221 6np4\n",
      "On 222 6qrf\n",
      "Can't kekulize mol.  Unkekulized atoms: 5 6 7 8 9\n",
      "RDKit was unable to read the molecule.\n",
      "Using the .sdf file failed. We found a .mol2 file instead and are trying to use that.\n",
      "On 223 6e7m\n"
     ]
    },
    {
     "name": "stderr",
     "output_type": "stream",
     "text": [
      "[12:57:30] Can't kekulize mol.  Unkekulized atoms: 5 6 7 8 9\n"
     ]
    },
    {
     "name": "stdout",
     "output_type": "stream",
     "text": [
      "On 224 6cf7\n",
      "On 225 6qqv\n",
      "Can't kekulize mol.  Unkekulized atoms: 3 4 20 21 22\n",
      "RDKit was unable to read the molecule.\n",
      "Using the .sdf file failed. We found a .mol2 file instead and are trying to use that.\n"
     ]
    },
    {
     "name": "stderr",
     "output_type": "stream",
     "text": [
      "[12:57:34] Can't kekulize mol.  Unkekulized atoms: 3 4 20 21 22\n"
     ]
    },
    {
     "name": "stdout",
     "output_type": "stream",
     "text": [
      "On 226 6cjp\n",
      "On 227 6np5\n",
      "On 228 6r4k\n",
      "On 229 6kjf\n",
      "On 230 6jao\n",
      "On 231 6hhg\n",
      "On 232 6nv9\n",
      "On 233 6npp\n",
      "On 234 6quw\n",
      "On 235 6jmf\n",
      "On 236 6q4q\n",
      "Can't kekulize mol.  Unkekulized atoms: 60 61 62 63 64 65 66 67 68\n",
      "RDKit was unable to read the molecule.\n",
      "Using the .sdf file failed. We found a .mol2 file instead and are trying to use that.\n"
     ]
    },
    {
     "name": "stderr",
     "output_type": "stream",
     "text": [
      "[12:57:55] Can't kekulize mol.  Unkekulized atoms: 60 61 62 63 64 65 66 67 68\n"
     ]
    },
    {
     "name": "stdout",
     "output_type": "stream",
     "text": [
      "On 237 6qgf\n",
      "On 238 6np2\n",
      "On 239 6s55\n",
      "On 240 6pz4\n"
     ]
    },
    {
     "name": "stderr",
     "output_type": "stream",
     "text": [
      "[12:59:17] Molecule does not have explicit Hs. Consider calling AddHs()\n",
      "[12:59:18] Molecule does not have explicit Hs. Consider calling AddHs()\n"
     ]
    },
    {
     "name": "stdout",
     "output_type": "stream",
     "text": [
      "On 241 6ggb\n",
      "On 242 6miv\n",
      "Error\n",
      "On 243 6qi7\n",
      "On 244 6oy1\n",
      "On 245 6py0\n",
      "On 246 6uwv\n",
      "On 247 6g2b\n",
      "On 248 6i63\n",
      "On 249 6jib\n",
      "On 250 6quv\n",
      "On 251 6jap\n",
      "On 252 6moa\n",
      "Can't kekulize mol.  Unkekulized atoms: 0 1 2 3 4 5 14 15 16\n",
      "RDKit was unable to read the molecule.\n",
      "Using the .sdf file failed. We found a .mol2 file instead and are trying to use that.\n"
     ]
    },
    {
     "name": "stderr",
     "output_type": "stream",
     "text": [
      "[12:59:39] Can't kekulize mol.  Unkekulized atoms: 0 1 2 3 4 5 14 15 16\n"
     ]
    },
    {
     "name": "stdout",
     "output_type": "stream",
     "text": [
      "On 253 6oim\n",
      "On 254 6i67\n",
      "On 255 6jan\n",
      "On 256 6n94\n",
      "On 257 6jag\n",
      "On 258 6hou\n",
      "On 259 6hot\n",
      "On 260 6qtx\n",
      "On 261 6qlt\n",
      "On 262 6i9a\n",
      "On 263 6oio\n",
      "On 264 6qqq\n",
      "Can't kekulize mol.  Unkekulized atoms: 0 1 2 16 17\n",
      "RDKit was unable to read the molecule.\n",
      "Using the .sdf file failed. We found a .mol2 file instead and are trying to use that.\n"
     ]
    },
    {
     "name": "stderr",
     "output_type": "stream",
     "text": [
      "[13:00:06] Can't kekulize mol.  Unkekulized atoms: 0 1 2 16 17\n"
     ]
    },
    {
     "name": "stdout",
     "output_type": "stream",
     "text": [
      "On 265 6mo7\n",
      "On 266 6e3n\n",
      "On 267 6g3c\n",
      "On 268 6t6a\n",
      "Can't kekulize mol.  Unkekulized atoms: 0 3 4 5 6 7 8 13 14\n",
      "RDKit was unable to read the molecule.\n",
      "Using the .sdf file failed. We found a .mol2 file instead and are trying to use that.\n",
      "On 269 6rtn\n",
      "Explicit valence for atom # 3 C, 6, is greater than permitted\n",
      "RDKit was unable to read the molecule.\n",
      "Using the .sdf file failed. We found a .mol2 file instead and are trying to use that.\n"
     ]
    },
    {
     "name": "stderr",
     "output_type": "stream",
     "text": [
      "[13:00:09] Can't kekulize mol.  Unkekulized atoms: 0 3 4 5 6 7 8 13 14\n",
      "[13:00:09] Explicit valence for atom # 3 C, 6, is greater than permitted\n"
     ]
    },
    {
     "name": "stdout",
     "output_type": "stream",
     "text": [
      "On 270 6jse\n",
      "On 271 6oip\n",
      "On 272 6agt\n",
      "On 273 6r7d\n",
      "On 274 5zr3\n",
      "On 275 6uim\n",
      "On 276 6g2f\n",
      "On 277 6e4c\n",
      "On 278 6iby\n",
      "On 279 6nxz\n",
      "On 280 6q38\n",
      "Can't kekulize mol.  Unkekulized atoms: 113 114 115 116 117\n",
      "RDKit was unable to read the molecule.\n",
      "Using the .sdf file failed. We found a .mol2 file instead and are trying to use that.\n"
     ]
    },
    {
     "name": "stderr",
     "output_type": "stream",
     "text": [
      "[13:00:19] Can't kekulize mol.  Unkekulized atoms: 113 114 115 116 117\n"
     ]
    },
    {
     "name": "stdout",
     "output_type": "stream",
     "text": [
      "On 281 6ovz\n",
      "On 282 6uvy\n",
      "On 283 6ffe\n",
      "On 284 6uii\n",
      "On 285 6cjr\n",
      "On 286 6ten\n",
      "On 287 6qrc\n",
      "Can't kekulize mol.  Unkekulized atoms: 7 8 9 10 11\n",
      "RDKit was unable to read the molecule.\n",
      "Using the .sdf file failed. We found a .mol2 file instead and are trying to use that.\n"
     ]
    },
    {
     "name": "stderr",
     "output_type": "stream",
     "text": [
      "[13:01:23] Can't kekulize mol.  Unkekulized atoms: 7 8 9 10 11\n"
     ]
    },
    {
     "name": "stdout",
     "output_type": "stream",
     "text": [
      "On 288 6nrj\n",
      "Can't kekulize mol.  Unkekulized atoms: 21 22 23 24 25 26 27 28 29\n",
      "RDKit was unable to read the molecule.\n",
      "Using the .sdf file failed. We found a .mol2 file instead and are trying to use that.\n"
     ]
    },
    {
     "name": "stderr",
     "output_type": "stream",
     "text": [
      "[13:01:24] Can't kekulize mol.  Unkekulized atoms: 21 22 23 24 25 26 27 28 29\n"
     ]
    },
    {
     "name": "stdout",
     "output_type": "stream",
     "text": [
      "On 289 6g2c\n",
      "On 290 6nw3\n",
      "On 291 6i66\n",
      "On 292 6oxu\n",
      "On 293 6p8z\n",
      "On 294 6g2o\n",
      "On 295 6d3x\n",
      "On 296 6ufn\n",
      "On 297 6op9\n",
      "On 298 6pgp\n",
      "On 299 6gj8\n",
      "Can't kekulize mol.  Unkekulized atoms: 5 6 7 8 19 20 21 22 23\n",
      "RDKit was unable to read the molecule.\n",
      "Using the .sdf file failed. We found a .mol2 file instead and are trying to use that.\n"
     ]
    },
    {
     "name": "stderr",
     "output_type": "stream",
     "text": [
      "[13:02:28] Can't kekulize mol.  Unkekulized atoms: 5 6 7 8 19 20 21 22 23\n"
     ]
    },
    {
     "name": "stdout",
     "output_type": "stream",
     "text": [
      "On 300 6uvp\n",
      "On 301 6a1c\n",
      "On 302 6hoq\n",
      "On 303 6jon\n",
      "On 304 6qrg\n",
      "Can't kekulize mol.  Unkekulized atoms: 0 1 18 19 20\n",
      "RDKit was unable to read the molecule.\n",
      "Using the .sdf file failed. We found a .mol2 file instead and are trying to use that.\n"
     ]
    },
    {
     "name": "stderr",
     "output_type": "stream",
     "text": [
      "[13:02:33] Can't kekulize mol.  Unkekulized atoms: 0 1 18 19 20\n"
     ]
    },
    {
     "name": "stdout",
     "output_type": "stream",
     "text": [
      "On 305 6d3z\n",
      "On 306 6m7h\n",
      "On 307 6ueg\n",
      "On 308 6hza\n",
      "On 309 6d08\n",
      "On 310 6qtm\n",
      "On 311 6oxq\n",
      "On 312 6ffg\n",
      "On 313 6hmt\n",
      "On 314 6hv2\n",
      "On 315 6v5l\n",
      "Can't kekulize mol.  Unkekulized atoms: 0 5 6 7 9 10 13 18 19\n",
      "RDKit was unable to read the molecule.\n",
      "Using the .sdf file failed. We found a .mol2 file instead and are trying to use that.\n"
     ]
    },
    {
     "name": "stderr",
     "output_type": "stream",
     "text": [
      "[13:04:09] Can't kekulize mol.  Unkekulized atoms: 0 5 6 7 9 10 13 18 19\n"
     ]
    },
    {
     "name": "stdout",
     "output_type": "stream",
     "text": [
      "On 316 6i68\n",
      "On 317 6qre\n",
      "Can't kekulize mol.  Unkekulized atoms: 0 1 2 13 14\n",
      "RDKit was unable to read the molecule.\n",
      "Using the .sdf file failed. We found a .mol2 file instead and are trying to use that.\n"
     ]
    },
    {
     "name": "stderr",
     "output_type": "stream",
     "text": [
      "[13:04:15] Can't kekulize mol.  Unkekulized atoms: 0 1 2 13 14\n"
     ]
    },
    {
     "name": "stdout",
     "output_type": "stream",
     "text": [
      "On 318 6fcj\n",
      "On 319 6st3\n",
      "On 320 6nrh\n",
      "On 321 6i74\n",
      "On 322 6ftf\n",
      "On 323 6np3\n",
      "On 324 6gbw\n",
      "On 325 6rpg\n",
      "On 326 6jsz\n",
      "On 327 6mhb\n",
      "On 328 6i65\n",
      "On 329 6hor\n",
      "On 330 6pka\n",
      "On 331 6i77\n",
      "On 332 6hlb\n",
      "Error\n",
      "On 333 6sfc\n",
      "On 334 6jsg\n",
      "On 335 6n9l\n",
      "On 336 6oy2\n",
      "On 337 6qge\n",
      "On 338 6oxs\n",
      "On 339 6gdy\n",
      "On 340 6o3x\n",
      "On 341 5zk5\n",
      "Error\n",
      "On 342 6qfe\n",
      "Can't kekulize mol.  Unkekulized atoms: 0 1 19 20 21\n",
      "RDKit was unable to read the molecule.\n",
      "Using the .sdf file failed. We found a .mol2 file instead and are trying to use that.\n"
     ]
    },
    {
     "name": "stderr",
     "output_type": "stream",
     "text": [
      "[13:05:27] Can't kekulize mol.  Unkekulized atoms: 0 1 19 20 21\n"
     ]
    },
    {
     "name": "stdout",
     "output_type": "stream",
     "text": [
      "On 343 6mo9\n",
      "On 344 6g2e\n",
      "On 345 6miy\n",
      "Error\n",
      "On 346 6om4\n",
      "On 347 6g29\n",
      "On 348 6hzc\n",
      "On 349 6hzb\n",
      "On 350 6oxz\n",
      "On 351 6uhv\n",
      "On 352 6d5w\n",
      "On 353 6qr2\n",
      "Can't kekulize mol.  Unkekulized atoms: 5 19 20 22 23\n",
      "RDKit was unable to read the molecule.\n",
      "Using the .sdf file failed. We found a .mol2 file instead and are trying to use that.\n"
     ]
    },
    {
     "name": "stderr",
     "output_type": "stream",
     "text": [
      "[13:06:18] Can't kekulize mol.  Unkekulized atoms: 5 19 20 22 23\n"
     ]
    },
    {
     "name": "stdout",
     "output_type": "stream",
     "text": [
      "On 354 6dz3\n",
      "Can't kekulize mol.  Unkekulized atoms: 5 6 7 8 9 10 12 13 14\n",
      "RDKit was unable to read the molecule.\n",
      "Using the .sdf file failed. We found a .mol2 file instead and are trying to use that.\n"
     ]
    },
    {
     "name": "stderr",
     "output_type": "stream",
     "text": [
      "[13:06:18] Can't kekulize mol.  Unkekulized atoms: 5 6 7 8 9 10 12 13 14\n"
     ]
    },
    {
     "name": "stdout",
     "output_type": "stream",
     "text": [
      "On 355 6qln\n",
      "On 356 6qlu\n",
      "On 357 6a6k\n",
      "On 358 6g24\n"
     ]
    }
   ],
   "source": [
    "#Pull sdf/mol2 and then smiles\n",
    "count_of_d_2_below_cutoff = [] #how many 2 away distances have sd below cutoff\n",
    "count_of_d_further_below_cutoff = [] #how many 3+ away distances have sd below cutoff\n",
    "sd_2a_max_list = [] #for each complex the max 2 away sd to help with cutoff selection\n",
    "all_further_sd_list = []  #each entry is a. list of the further sds for one pdb, for ease of multiple cutoff analysis\n",
    "sd_cutoff = 0.10\n",
    "\n",
    "#Hold pdb errors\n",
    "pdb_error_list = []\n",
    "\n",
    "#pdbs which gave errors\n",
    "#Ref for errors https://github.com/rdkit/rdkit/issues/1433\n",
    "'''\n",
    "pdbs_not_using = [\"6oie\", \n",
    "                  \"6mja\", \n",
    "                  \"6s07\", \n",
    "                  \"5zjz\", \n",
    "                  \"6mjq\", \n",
    "                  \"6qtr\", \n",
    "                  \"6mji\", \n",
    "                  \"6qto\", \n",
    "                  \"6q36\", \n",
    "                  \"5zk9\", \n",
    "                  \"6d07\", \n",
    "                  \"6hld\", \n",
    "                  \"6hmy\", \n",
    "                  \"6sen\",\n",
    "                  \"5zjy\",\n",
    "                  \"6mjj\",\n",
    "                  \"6mj4\",\n",
    "                  \"6seo\",\n",
    "                  \"5zml\",\n",
    "                  \"6miv\",\n",
    "                  \"6hlb\",\n",
    "                  \"5zk5\",\n",
    "                  \"6miy\"]\n",
    "'''\n",
    "\n",
    "for pi, pdb_name in enumerate(complex_names):\n",
    "    \n",
    "    print(f\"On {pi} {pdb_name}\")\n",
    "    #if pdb_name not in pdbs_not_using:\n",
    "\n",
    "\n",
    "    #Copied below from https://github.com/gcorso/DiffDock/blob/main/datasets/pdbbind.py\n",
    "    for file in os.listdir(os.path.join(pdbpath, pdb_name)):\n",
    "        if file.endswith(\".sdf\") and 'rdkit' not in file:\n",
    "            lig = read_molecule(os.path.join(pdbpath, pdb_name, file), remove_hs=False, sanitize=True)\n",
    "            if lig is None and os.path.exists(os.path.join(pdbpath, pdb_name, file[:-4] + \".mol2\")):  # read mol2 file if sdf file cannot be sanitized\n",
    "                print('Using the .sdf file failed. We found a .mol2 file instead and are trying to use that.')\n",
    "                lig = read_molecule(os.path.join(pdbpath, pdb_name, file[:-4] + \".mol2\"), remove_hs=False, sanitize=True)\n",
    "\n",
    "    count_d_2, count_d_over_2, sd2awaymax, sd_over_2_list, had_error = run_consensus_analysis(lig, sd_cutoff)\n",
    "    if not had_error:\n",
    "        count_of_d_2_below_cutoff.append(count_d_2)\n",
    "        count_of_d_further_below_cutoff.append(count_d_over_2)\n",
    "        sd_2a_max_list.append(sd2awaymax)\n",
    "        all_further_sd_list.append(sd_over_2_list)\n",
    "    else:\n",
    "        pdb_error_list.append(pdb_name)"
   ]
  },
  {
   "cell_type": "code",
   "execution_count": 8,
   "id": "cccccac6",
   "metadata": {},
   "outputs": [
    {
     "name": "stdout",
     "output_type": "stream",
     "text": [
      "distances 2 bonds away with sd < 0.1\n",
      "[45, 36, 17, 22, 17, 46, 101, 35, 39, 45, 33, 64, 67, 17, 89, 10, 29, 45, 58, 49, 47, 39, 62, 159, 38, 67, 48, 26, 60, 52, 40, 74, 34, 58, 15, 42, 28, 59, 81, 79, 26, 50, 63, 20, 52, 50, 44, 65, 36, 27, 62, 61, 49, 42, 29, 27, 28, 37, 39, 39, 54, 20, 112, 35, 61, 40, 92, 59, 37, 51, 48, 63, 33, 38, 41, 7, 23, 39, 58, 60, 31, 40, 24, 22, 49, 34, 49, 51, 55, 49, 52, 39, 32, 28, 63, 30, 36, 66, 40, 42, 51, 17, 33, 34, 75, 27, 21, 30, 48, 40, 47, 60, 62, 55, 17, 56, 36, 35, 75, 85, 16, 164, 35, 56, 27, 43, 76, 18, 55, 29, 66, 52, 47, 33, 78, 30, 35, 28, 55, 85, 23, 55, 33, 56, 8, 41, 42, 83, 52, 42, 36, 35, 39, 40, 38, 23, 61, 40, 52, 67, 22, 88, 31, 56, 81, 57, 61, 49, 37, 61, 62, 36, 47, 48, 30, 31, 70, 36, 54, 59, 103, 81, 40, 35, 99, 52, 74, 40, 47, 35, 38, 28, 37, 55, 83, 17, 28, 45, 68, 27, 35, 42, 50, 20, 27, 64, 38, 51, 52, 39, 46, 36, 71, 63, 32, 31, 40, 186, 61, 49, 44, 54, 37, 17, 64, 28, 50, 27, 26, 42, 47, 36, 53, 67, 16, 35, 85, 36, 14, 16, 81, 47, 61, 37, 33, 42, 27, 47, 26, 41, 51, 39, 31, 51, 55, 13, 40, 38, 59, 7, 174, 16, 37, 42, 9, 56, 66, 38, 54, 30, 61, 14, 62, 65, 44, 164, 15, 54, 63, 66, 39, 37, 18, 50, 28, 167, 49, 31, 78, 89, 105, 61, 50, 61, 55, 34, 69, 23, 31, 43, 54, 55, 34, 49, 56, 98, 56, 24, 13, 18, 93, 55, 37, 39, 45, 64, 61, 61, 11, 69, 44, 43, 34, 108, 30, 104, 75, 63, 13, 34, 40, 46, 47, 49, 50, 22]\n",
      "distances 3+ bonds away with sd < 0.1\n",
      "[97, 7, 0, 28, 8, 58, 17, 6, 15, 84, 30, 157, 12, 29, 26, 10, 25, 37, 77, 78, 83, 102, 115, 14, 68, 144, 41, 5, 40, 85, 108, 12, 24, 97, 1, 52, 12, 174, 30, 158, 28, 139, 34, 2, 92, 133, 59, 117, 43, 30, 34, 41, 51, 52, 32, 52, 91, 51, 80, 150, 78, 18, 23, 68, 26, 131, 34, 10, 74, 104, 96, 18, 70, 84, 54, 0, 17, 83, 171, 5, 14, 56, 6, 26, 77, 48, 87, 90, 93, 78, 12, 133, 9, 27, 26, 53, 35, 19, 53, 146, 60, 6, 10, 46, 38, 36, 0, 32, 77, 58, 46, 126, 35, 264, 5, 80, 5, 26, 190, 44, 0, 28, 13, 77, 29, 19, 184, 27, 22, 19, 17, 76, 18, 45, 173, 56, 31, 39, 264, 25, 32, 89, 61, 95, 0, 69, 50, 30, 29, 72, 4, 6, 15, 83, 73, 68, 14, 70, 30, 32, 25, 37, 46, 228, 157, 87, 34, 54, 61, 77, 18, 41, 102, 52, 100, 45, 24, 90, 167, 35, 49, 16, 131, 6, 23, 52, 108, 101, 42, 4, 98, 84, 125, 71, 55, 4, 36, 59, 155, 15, 5, 43, 11, 15, 6, 90, 73, 49, 22, 35, 18, 9, 175, 36, 67, 49, 55, 88, 49, 29, 44, 94, 132, 0, 39, 3, 16, 50, 28, 87, 110, 11, 205, 185, 27, 7, 42, 15, 24, 24, 32, 43, 44, 46, 40, 52, 76, 134, 76, 51, 103, 83, 48, 80, 114, 2, 87, 128, 126, 0, 70, 25, 16, 43, 0, 87, 103, 65, 83, 46, 43, 14, 35, 109, 141, 28, 0, 112, 253, 108, 47, 88, 24, 39, 20, 29, 46, 29, 30, 24, 15, 36, 85, 20, 20, 35, 11, 18, 54, 66, 75, 75, 72, 22, 37, 163, 94, 58, 14, 24, 51, 71, 38, 77, 58, 38, 50, 36, 0, 27, 52, 70, 100, 46, 67, 42, 22, 35, 6, 34, 83, 40, 39, 53, 57, 37]\n"
     ]
    }
   ],
   "source": [
    "print(f\"distances 2 bonds away with sd < {sd_cutoff}\")\n",
    "print(count_of_d_2_below_cutoff)\n",
    "print(f\"distances 3+ bonds away with sd < {sd_cutoff}\")\n",
    "print(count_of_d_further_below_cutoff)"
   ]
  },
  {
   "cell_type": "code",
   "execution_count": 24,
   "id": "69935a0e",
   "metadata": {},
   "outputs": [
    {
     "name": "stdout",
     "output_type": "stream",
     "text": [
      "average 2 away. max sd\n",
      "0.04109802847326435\n",
      "[  0.   5.  10.  15.  20.  25.  30.  35.  40.  45.  50.  55.  60.  65.\n",
      "  70.  75.  80.  85.  90.  95. 100. 105. 110. 115. 120. 125. 130. 135.\n",
      " 140. 145. 150. 155. 160. 165. 170. 175. 180. 185. 190. 195. 200. 205.\n",
      " 210. 215. 220. 225. 230. 235. 240. 245. 250. 255. 260. 265. 270. 275.\n",
      " 280. 285. 290. 295. 300.]\n",
      "How many entries?\n",
      "336\n",
      "How many removed?\n",
      "23\n"
     ]
    },
    {
     "data": {
      "image/png": "[encoded data removed]",
      "text/plain": [
       "<Figure size 640x480 with 1 Axes>"
      ]
     },
     "metadata": {},
     "output_type": "display_data"
    }
   ],
   "source": [
    "#Define cutoff relative to 2 away\n",
    "average_2_away_max_sd = np.average(sd_2a_max_list)\n",
    "print(\"average 2 away. max sd\")\n",
    "print(average_2_away_max_sd)\n",
    "\n",
    "mult = 1.0\n",
    "sd_threshold = average_2_away_max_sd * mult\n",
    "\n",
    "#for each molecule how many distances have sd across conformers below cutoff?\n",
    "count_further_away_sds_below_mult_max = []\n",
    "for sd_further_l in all_further_sd_list:\n",
    "    sd_within_cutoff = len([s for s in sd_further_l if s < sd_threshold])\n",
    "    count_further_away_sds_below_mult_max.append(sd_within_cutoff)\n",
    "    \n",
    "#plot\n",
    "print(np.linspace(0, 300, 61))\n",
    "bins_pl = list(np.linspace(0, 300, 61))\n",
    "plt.hist(count_further_away_sds_below_mult_max, bins = bins_pl, color = [0.9, 0.9, 0.6])\n",
    "plt.xlabel(f\"Count of distances with SD below cutoff\", fontsize = 18)\n",
    "plt.xticks(fontsize = 16)\n",
    "plt.yticks(fontsize = 16)\n",
    "plt.ylabel(\"Frequency\", fontsize = 18)\n",
    "\n",
    "print(\"How many entries?\")\n",
    "print(len(count_further_away_sds_below_mult_max))\n",
    "print(\"How many removed?\")\n",
    "print(len(pdb_error_list))"
   ]
  },
  {
   "cell_type": "code",
   "execution_count": null,
   "id": "7fd96461",
   "metadata": {},
   "outputs": [],
   "source": [
    "lig"
   ]
  },
  {
   "cell_type": "code",
   "execution_count": null,
   "id": "6473e61e",
   "metadata": {},
   "outputs": [],
   "source": [
    "#Ref https://www.rdkit.org/docs/GettingStartedInPython.html\n",
    "heavy_atom_list = []\n",
    "heavy_atom_bonds = []\n",
    "\n",
    "#Record all heavy atoms\n",
    "for a in lig.GetAtoms():\n",
    "    if a.GetAtomicNum() > 1:\n",
    "        print(f\"found atom {a.GetSymbol()}\")\n",
    "        heavy_atom_list.append(a.GetIdx())\n",
    "    else:\n",
    "        print(\"found H\")\n",
    "\n",
    "#Find each bond, record\n",
    "for b in lig.GetBonds():\n",
    "    at1 = b.GetBeginAtomIdx()\n",
    "    at2 = b.GetEndAtomIdx()\n",
    "    at1_an = lig.GetAtomWithIdx(at1).GetAtomicNum()\n",
    "    at2_an = lig.GetAtomWithIdx(at2).GetAtomicNum()\n",
    "    if at1_an == 1 or at2_an == 1:\n",
    "        continue\n",
    "    else:\n",
    "        print(\"heavy atom bond\")\n",
    "        print(f\"{at1} element {at1_an}\")\n",
    "        print(f\"{at2} element {at2_an}\")\n",
    "        print(\"----\")\n",
    "        heavy_atom_bonds.append([at1, at2])\n",
    "    #print([x.GetAtomicNum() for x in at.GetNeighbors()])"
   ]
  },
  {
   "cell_type": "code",
   "execution_count": null,
   "id": "ac41543e",
   "metadata": {},
   "outputs": [],
   "source": [
    "#keys- atoms, values- neighbors 1 and 2 away\n",
    "atom_neighbor_dict_12_away = {}\n",
    "atom_neighbor_dict_1_away = {}\n",
    "atom_neighbor_dict_2_away = {}\n",
    "\n",
    "#Initialize and 1st shell neighbors\n",
    "for a in heavy_atom_list:\n",
    "    atom_neighbor_dict_1_away[a] = []\n",
    "    \n",
    "    #Add all 1 away\n",
    "    for b in heavy_atom_bonds:\n",
    "        print(b)\n",
    "        if b[0] == a:\n",
    "            atom_neighbor_dict_1_away[a].append(b[1])\n",
    "        if b[1] == a:\n",
    "            atom_neighbor_dict_1_away[a].append(b[0])\n",
    "print(\"1 away\")\n",
    "print(atom_neighbor_dict)\n",
    "\n",
    "#2 away neighbors\n",
    "for a2 in heavy_atom_list:\n",
    "    atom_neighbor_dict_2_away[a2] = []\n",
    "    \n",
    "    #Now add in the neighbor's neighbors\n",
    "    #All 1 away from the neighbor\n",
    "    #Filter for a2 though\n",
    "    for b2 in heavy_atom_bonds:\n",
    "        #print(b2)\n",
    "        if b2[0] == a2:\n",
    "            neighbor_neighbor_not_a2 = [i for i in atom_neighbor_dict_1_away[b2[1]] if i is not a2]\n",
    "            atom_neighbor_dict_2_away[a2] += neighbor_neighbor_not_a2\n",
    "        if b2[1] == a2:\n",
    "            neighbor_neighbor_not_a2 = [i for i in atom_neighbor_dict_1_away[b2[0]] if i is not a2]\n",
    "            atom_neighbor_dict_2_away[a2] += neighbor_neighbor_not_a2\n",
    "\n",
    "print(\"2 away\")\n",
    "print(atom_neighbor_dict_2_away)\n",
    "\n",
    "#Combine 1 and 2 away\n",
    "for a12 in heavy_atom_list:\n",
    "    atom_neighbor_dict_12_away[a12] = list(set(atom_neighbor_dict_1_away[a12] + atom_neighbor_dict_2_away[a12]))\n",
    "    \n",
    "print(\"1 and 2 away\")\n",
    "print(atom_neighbor_dict_12_away)"
   ]
  },
  {
   "cell_type": "code",
   "execution_count": null,
   "id": "c2bfadf6",
   "metadata": {},
   "outputs": [],
   "source": [
    "away_1_dists = []\n",
    "away_1_dist_dict = {}\n",
    "\n",
    "#keys atom pairs\n",
    "#values distance list- one distance/conformer\n",
    "for a1add in atom_neighbor_dict_1_away.keys():\n",
    "    for a1addpair in atom_neighbor_dict_1_away[a1add]:\n",
    "        away_1_dist_dict[tuple(sorted([a1add, a1addpair]))] = []\n",
    "        \n",
    "#print(away_1_dist_dict)\n",
    "\n",
    "#Iterate over conformers\n",
    "for conf in conformers:\n",
    "    #for each conformer refresh so do not duplicate e.g. (1,2) and then (2,1)\n",
    "    already_checked = []\n",
    "    print(\"new conf\")\n",
    "    \n",
    "    #Each heavy atom\n",
    "    for away1 in atom_neighbor_dict_1_away.keys():\n",
    "        \n",
    "        #Each heavy atom partner of interest\n",
    "        for away1pair in atom_neighbor_dict_1_away[away1]:\n",
    "            \n",
    "            #Make sure not already found\n",
    "            if sorted([away1, away1pair]) not in already_checked:\n",
    "                already_checked.append([away1, away1pair])\n",
    "                \n",
    "                #Coordinate find, distance find\n",
    "                print(f\"{away1} {away1pair}\")\n",
    "                away1coords = conf[away1]\n",
    "                away2coords = conf[away1pair]\n",
    "                #Ref https://stackoverflow.com/questions/1401712/how-can-the-euclidean-distance-be-calculated-with-numpy\n",
    "                dist = np.linalg.norm(away1coords - away2coords)\n",
    "                \n",
    "                #Add to list and dictionary\n",
    "                away_1_dists.append(dist)\n",
    "                print(away_1_dist_dict[tuple(sorted([away1, away1pair]))])\n",
    "                key_update = tuple(sorted([away1, away1pair]))\n",
    "                away_1_dist_dict[key_update].append(dist)\n",
    "\n",
    "avg_list = []\n",
    "sd_list = []\n",
    "for paircalc in away_1_dist_dict.keys():\n",
    "    dist_analyze = away_1_dist_dict[paircalc]\n",
    "    avg_list.append(np.average(dist_analyze))\n",
    "    sd_list.append(np.std(dist_analyze, ddof = 1))\n",
    "    \n",
    "plt.hist(sd_list)\n",
    "plt.show()\n",
    "plt.cla()\n",
    "plt.clf()\n",
    "plt.hist(avg_list)\n",
    "plt.show()\n",
    "plt.cla()\n",
    "plt.clf()\n",
    "plt.scatter(avg_list, sd_list)\n",
    "plt.show()\n",
    "plt.cla()\n",
    "plt.clf()"
   ]
  },
  {
   "cell_type": "code",
   "execution_count": null,
   "id": "42c7a937",
   "metadata": {},
   "outputs": [],
   "source": [
    "num_conf = 10\n",
    "#Copied from https://github.com/HannesStark/EquiBind/blob/41bd00fd6801b95d2cf6c4d300cd76ae5e6dab5e/commons/process_mols.py#L447\n",
    "ps = AllChem.ETKDGv2()\n",
    "ids = rdDistGeom.EmbedMultipleConfs(lig, num_conf, ps)\n",
    "AllChem.MMFFOptimizeMoleculeConfs(lig)\n",
    "conformers = []\n",
    "for i in range(num_conf):\n",
    "    conformers.append(lig.GetConformer(i).GetPositions())\n",
    "print(conformers[0])\n",
    "print(len(conformers))"
   ]
  },
  {
   "cell_type": "code",
   "execution_count": null,
   "id": "1e43a248",
   "metadata": {},
   "outputs": [],
   "source": [
    "#ref https://iwatobipen.wordpress.com/2021/01/31/generate-conformers-script-with-rdkit-rdkit-chemoinformatics/\n",
    "param = rdDistGeom.ETKDGv2()\n",
    "#param.pruneRmsThresh = prunermsthresh\n",
    "cids = rdDistGeom.EmbedMultipleConfs(lig, 20, param)\n",
    "mp = AllChem.MMFFGetMoleculeProperties(lig, mmffVariant='MMFF94s')\n",
    "AllChem.MMFFOptimizeMoleculeConfs(lig, numThreads=0, mmffVariant='MMFF94s')"
   ]
  },
  {
   "cell_type": "code",
   "execution_count": null,
   "id": "58f85d30",
   "metadata": {},
   "outputs": [],
   "source": [
    "cids[1]"
   ]
  },
  {
   "cell_type": "code",
   "execution_count": null,
   "id": "2d84d310",
   "metadata": {},
   "outputs": [],
   "source": [
    "#Ref https://github.com/gcorso/DiffDock/blob/main/datasets/process_mols.py copied\n",
    "#Ref https://greglandrum.github.io/rdkit-blog/posts/2023-02-04-working-with-conformers.html copied\n",
    "for i in range(20):\n",
    "    #mol_rdkit = copy.deepcopy(lig)\n",
    "\n",
    "    #mol_rdkit.RemoveAllConformers()\n",
    "    #mol_rdkit = AllChem.AddHs(mol_rdkit)\n",
    "    #generate_conformer(mol_rdkit)\n",
    "    #if remove_hs:\n",
    "    #    mol_rdkit = RemoveHs(mol_rdkit, sanitize=True)\n",
    "    #mol = copy.deepcopy(mol_maybe_noh)\n",
    "    #if rotable_bonds:\n",
    "    #    optimize_rotatable_bonds(mol_rdkit, mol, rotable_bonds, popsize=popsize, maxiter=maxiter)\n",
    "    #mol.AddConformer(mol_rdkit.GetConformer())\n",
    "    #rms_list = []\n",
    "    #AllChem.AlignMolConformers(mol, RMSlist=rms_list)\n",
    "    #mol_rdkit.RemoveAllConformers()\n",
    "    #mol_rdkit.AddConformer(lig.GetConformers()[i])\n",
    "    print(lig.GetConformers()[i].GetPositions())\n",
    "    print(\"--------\")"
   ]
  },
  {
   "cell_type": "code",
   "execution_count": null,
   "id": "2079c3f9",
   "metadata": {},
   "outputs": [],
   "source": []
  },
  {
   "cell_type": "code",
   "execution_count": null,
   "id": "f26eb295",
   "metadata": {},
   "outputs": [],
   "source": [
    "np.linspace(0,2,11)"
   ]
  },
  {
   "cell_type": "code",
   "execution_count": null,
   "id": "3278e030",
   "metadata": {},
   "outputs": [],
   "source": []
  }
 ],
 "metadata": {
  "kernelspec": {
   "display_name": "docking_analyze",
   "language": "python",
   "name": "docking_analyze"
  },
  "language_info": {
   "codemirror_mode": {
    "name": "ipython",
    "version": 3
   },
   "file_extension": ".py",
   "mimetype": "text/x-python",
   "name": "python",
   "nbconvert_exporter": "python",
   "pygments_lexer": "ipython3",
   "version": "3.10.13"
  }
 },
 "nbformat": 4,
 "nbformat_minor": 5
}
