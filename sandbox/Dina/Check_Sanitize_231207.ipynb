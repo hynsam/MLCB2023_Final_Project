{
 "cells": [
  {
   "cell_type": "code",
   "execution_count": 14,
   "id": "1e655aeb",
   "metadata": {},
   "outputs": [],
   "source": [
    "#try reading with true and false sanitize, does it change rg?\n",
    "import rdkit\n",
    "from rdkit import Chem\n",
    "from rdkit.Chem.rdchem import BondType as BT\n",
    "from rdkit.Chem import AllChem, GetPeriodicTable, RemoveHs\n",
    "from rdkit.Chem import Descriptors"
   ]
  },
  {
   "cell_type": "code",
   "execution_count": 15,
   "id": "7c400bcd",
   "metadata": {},
   "outputs": [],
   "source": [
    "#Copied from https://github.com/gcorso/DiffDock/blob/main/datasets/process_mols.py\n",
    "def read_molecule(molecule_file, sanitize=False, calc_charges=False, remove_hs=False):\n",
    "    if molecule_file.endswith('.mol2'):\n",
    "        mol = Chem.MolFromMol2File(molecule_file, sanitize=False, removeHs=False)\n",
    "    elif molecule_file.endswith('.sdf'):\n",
    "        supplier = Chem.SDMolSupplier(molecule_file, sanitize=False, removeHs=False)\n",
    "        mol = supplier[0]\n",
    "    elif molecule_file.endswith('.pdbqt'):\n",
    "        with open(molecule_file) as file:\n",
    "            pdbqt_data = file.readlines()\n",
    "        pdb_block = ''\n",
    "        for line in pdbqt_data:\n",
    "            pdb_block += '{}\\n'.format(line[:66])\n",
    "        mol = Chem.MolFromPDBBlock(pdb_block, sanitize=False, removeHs=False)\n",
    "    elif molecule_file.endswith('.pdb'):\n",
    "        mol = Chem.MolFromPDBFile(molecule_file, sanitize=False, removeHs=False)\n",
    "    else:\n",
    "        raise ValueError('Expect the format of the molecule_file to be '\n",
    "                         'one of .mol2, .sdf, .pdbqt and .pdb, got {}'.format(molecule_file))\n",
    "\n",
    "    try:\n",
    "        if sanitize or calc_charges:\n",
    "            Chem.SanitizeMol(mol)\n",
    "\n",
    "        if calc_charges:\n",
    "            # Compute Gasteiger charges on the molecule.\n",
    "            try:\n",
    "                AllChem.ComputeGasteigerCharges(mol)\n",
    "            except:\n",
    "                warnings.warn('Unable to compute charges for the molecule.')\n",
    "\n",
    "        if remove_hs:\n",
    "            mol = Chem.RemoveHs(mol, sanitize=sanitize)\n",
    "    except Exception as e:\n",
    "        print(e)\n",
    "        print(\"RDKit was unable to read the molecule.\")\n",
    "        return None\n",
    "\n",
    "    return mol"
   ]
  },
  {
   "cell_type": "code",
   "execution_count": 17,
   "id": "5672435f",
   "metadata": {},
   "outputs": [
    {
     "name": "stdout",
     "output_type": "stream",
     "text": [
      "rg true 6.133548920773422 false 6.133548920773422 diff 0.0\n",
      "rg true 0.924842342900612 false 0.924842342900612 diff 0.0\n",
      "rings true 0 false 0 diff 0\n",
      "rg true 3.7566257772545804 false 3.7566257772545804 diff 0.0\n",
      "rg true 0.033251438443999484 false 0.033251438443999484 diff 0.0\n",
      "rings true 1 false 0 diff 1\n",
      "rg true 4.3735794370618155 false 4.3735794370618155 diff 0.0\n",
      "rg true 0.33783610281277276 false 0.33783610281277276 diff 0.0\n",
      "rings true 0 false 0 diff 0\n",
      "rg true 5.332831986390477 false 5.332831986390477 diff 0.0\n",
      "rg true 0.6130870205969303 false 0.6130870205969303 diff 0.0\n",
      "rings true 2 false 0 diff 2\n",
      "rg true 6.170484502853873 false 6.170484502853873 diff 0.0\n",
      "rg true 0.6311586573389485 false 0.6311586573389485 diff 0.0\n",
      "rings true 1 false 3 diff -2\n",
      "rg true 6.1702327689411955 false 6.1702327689411955 diff 0.0\n",
      "rg true 0.6312639502597474 false 0.6312639502597474 diff 0.0\n",
      "rings true 1 false 0 diff 1\n",
      "rg true 3.7194849265621874 false 3.7194849265621874 diff 0.0\n",
      "rg true 0.5188469944990629 false 0.5188469944990629 diff 0.0\n",
      "rings true 1 false 1 diff 0\n",
      "rg true 3.718512560469943 false 3.718512560469943 diff 0.0\n",
      "rg true 0.5163746224568159 false 0.5163746224568159 diff 0.0\n",
      "rings true 1 false 0 diff 1\n"
     ]
    }
   ],
   "source": [
    "for mtry in [\"/Users/dsharon/Documents/MIT/6.8701/Project/Data/From_Hannes/user_predictions_testset/index261_data-PDBBind_processed-6qi7-6qi7_protein_processed.pdb____data-PDBBind_processed-6qi7-6qi7_ligand.sdf/rank1.sdf\",\n",
    "             \"/Users/dsharon/Documents/MIT/6.8701/Project/Data/From_Hannes/user_predictions_testset/index249_data-PDBBind_processed-6a73-6a73_protein_processed.pdb____data-PDBBind_processed-6a73-6a73_ligand.sdf/rank1.sdf\",\n",
    "             \"/Users/dsharon/Documents/MIT/6.8701/Project/Data/From_Hannes/user_predictions_testset/index241_data-PDBBind_processed-6n4b-6n4b_protein_processed.pdb____data-PDBBind_processed-6n4b-6n4b_ligand.sdf/rank1.sdf\",\n",
    "             \"/Users/dsharon/Documents/MIT/6.8701/Project/Data/From_Hannes/user_predictions_testset/index232_data-PDBBind_processed-6oxr-6oxr_protein_processed.pdb____data-PDBBind_processed-6oxr-6oxr_ligand.sdf/rank1.sdf\",\n",
    "             \"/Users/dsharon/Documents/MIT/6.8701/Project/Code/HarmonicFlow/FlowSite/data/PDBBind_processed/6kzc/6kzc_ligand.mol2\",\n",
    "             \"/Users/dsharon/Documents/MIT/6.8701/Project/Code/HarmonicFlow/FlowSite/data/PDBBind_processed/6kzc/6kzc_ligand.sdf\",\n",
    "             \"/Users/dsharon/Documents/MIT/6.8701/Project/Code/HarmonicFlow/FlowSite/data/PDBBind_processed/5ayt/5ayt_ligand.mol2\",\n",
    "             \"/Users/dsharon/Documents/MIT/6.8701/Project/Code/HarmonicFlow/FlowSite/data/PDBBind_processed/5ayt/5ayt_ligand.sdf\"]:\n",
    "    \n",
    "    #true and false sanitize\n",
    "    s_true = read_molecule(mtry, remove_hs=False, sanitize=True)\n",
    "    s_false = read_molecule(mtry, remove_hs=False, sanitize=False)\n",
    "    \n",
    "    #Process molecule both ways\n",
    "    #Ref https://www.rdkit.org/docs/GettingStartedInPython.html#list-of-available-descriptors\n",
    "    #Ref https://www.rdkit.org/docs/source/rdkit.Chem.Descriptors.html#module-rdkit.Chem.Descriptors\n",
    "    #Ref https://www.rdkit.org/docs/GettingStartedInPython.html#list-of-available-descriptors\n",
    "    #Ref https://www.rdkit.org/docs/GettingStartedInPython.html\n",
    "    #Ref https://www.rdkit.org/docs/source/rdkit.Chem.rdMolDescriptors.html\n",
    "    #Ref https://www.rdkit.org/docs/source/rdkit.Chem.Descriptors3D.html\n",
    "    rg_s_true = rdkit.Chem.Descriptors3D.RadiusOfGyration(s_true)\n",
    "    rg_s_false = rdkit.Chem.Descriptors3D.RadiusOfGyration(s_false)\n",
    "    as_s_true = rdkit.Chem.Descriptors3D.Asphericity(s_true)\n",
    "    as_s_false = rdkit.Chem.Descriptors3D.Asphericity(s_false)\n",
    "    r_s_true = Descriptors.NumAliphaticRings(s_true)\n",
    "    r_s_false = Descriptors.NumAliphaticRings(s_false)\n",
    "    \n",
    "    print(f\"rg true {rg_s_true} false {rg_s_false} diff {rg_s_true - rg_s_false}\")\n",
    "    print(f\"rg true {as_s_true} false {as_s_false} diff {as_s_true - as_s_false}\")\n",
    "    print(f\"rings true {r_s_true} false {r_s_false} diff {r_s_true - r_s_false}\")"
   ]
  },
  {
   "cell_type": "code",
   "execution_count": null,
   "id": "cc83eb19",
   "metadata": {},
   "outputs": [],
   "source": []
  }
 ],
 "metadata": {
  "kernelspec": {
   "display_name": "docking_analyze",
   "language": "python",
   "name": "docking_analyze"
  },
  "language_info": {
   "codemirror_mode": {
    "name": "ipython",
    "version": 3
   },
   "file_extension": ".py",
   "mimetype": "text/x-python",
   "name": "python",
   "nbconvert_exporter": "python",
   "pygments_lexer": "ipython3",
   "version": "3.10.13"
  }
 },
 "nbformat": 4,
 "nbformat_minor": 5
}
