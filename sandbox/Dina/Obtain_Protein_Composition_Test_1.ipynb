{
 "cells": [
  {
   "cell_type": "code",
   "execution_count": 20,
   "id": "61f8e7da",
   "metadata": {},
   "outputs": [],
   "source": [
    "import MDAnalysis\n",
    "from MDAnalysis.analysis import distances\n",
    "from MDAnalysis.analysis.hydrogenbonds.hbond_analysis import HydrogenBondAnalysis\n",
    "import numpy as np\n",
    "import matplotlib.pyplot as plt\n",
    "import os\n",
    "import scipy\n",
    "from scipy import stats"
   ]
  },
  {
   "cell_type": "code",
   "execution_count": 21,
   "id": "f567c9fb",
   "metadata": {},
   "outputs": [],
   "source": [
    "#Download PDBBind files, make universes\n",
    "protein_file = \"/Users/dsharon/Documents/MIT/6.8701/Project/Code/HarmonicFlow/FlowSite/data/PDBBind_processed/5zxk/5zxk_protein_processed.pdb\"\n",
    "ligand_file = \"/Users/dsharon/Documents/MIT/6.8701/Project/Code/HarmonicFlow/FlowSite/data/PDBBind_processed/5zxk/5zxk_ligand.mol2\"\n",
    "u_prot = MDAnalysis.Universe(protein_file)\n",
    "u_ligand = MDAnalysis.Universe(ligand_file)\n",
    "\n",
    "#Ref https://userguide.mdanalysis.org/stable/universe.html\n",
    "#Ref https://docs.mdanalysis.org/2.6.1/documentation_pages/core/universe.html#MDAnalysis.core.universe.Merge\n",
    "#Merge\n",
    "u_pl = MDAnalysis.core.universe.Merge(u_prot.atoms, u_ligand.atoms)"
   ]
  },
  {
   "cell_type": "code",
   "execution_count": 22,
   "id": "9c3bcb21",
   "metadata": {},
   "outputs": [],
   "source": [
    "#Protein and ligand info\n",
    "psegids = list(set([a.segid for a in u_prot.atoms]))\n",
    "if len(psegids) > 1: print(\"over 1\")\n",
    "psegid = psegids[0]\n",
    "lresnames = list(set([a.resname for a in u_ligand.atoms]))\n",
    "if len(lresnames) > 1: print(\"over 1\")\n",
    "lresname = lresnames[0]"
   ]
  },
  {
   "cell_type": "code",
   "execution_count": 23,
   "id": "301828da",
   "metadata": {},
   "outputs": [],
   "source": [
    "#Which protein atoms are near the ligand?\n",
    "p_near_l = u_pl.select_atoms(f\"protein and segid {psegid} and not element H and around 4 (resname {lresname} and not element H)\")"
   ]
  },
  {
   "cell_type": "code",
   "execution_count": 24,
   "id": "86e266de",
   "metadata": {},
   "outputs": [
    {
     "name": "stdout",
     "output_type": "stream",
     "text": [
      "<Residue HIS, 351>\n",
      "<Residue HIS, 351>\n",
      "<Residue HIS, 351>\n",
      "<Residue HIS, 351>\n",
      "<Residue HIS, 351>\n",
      "<Residue HIS, 351>\n",
      "<Residue TYR, 352>\n",
      "<Residue TRP, 391>\n",
      "<Residue TRP, 391>\n",
      "<Residue ARG, 412>\n",
      "<Residue ARG, 412>\n",
      "<Residue ARG, 412>\n",
      "<Residue ARG, 418>\n",
      "<Residue ARG, 418>\n",
      "<Residue ARG, 418>\n",
      "<Residue ARG, 418>\n",
      "<Residue ARG, 469>\n",
      "<Residue ARG, 469>\n",
      "<Residue ARG, 469>\n",
      "<Residue ARG, 469>\n",
      "<Residue ARG, 469>\n",
      "<Residue LEU, 471>\n",
      "<Residue LEU, 471>\n",
      "unique resids\n",
      "[<Residue ARG, 469>, <Residue LEU, 471>, <Residue ARG, 412>, <Residue HIS, 351>, <Residue TYR, 352>, <Residue ARG, 418>, <Residue TRP, 391>]\n",
      "names of unique resids\n",
      "['ARG', 'LEU', 'ARG', 'HIS', 'TYR', 'ARG', 'TRP']\n"
     ]
    }
   ],
   "source": [
    "#Find resids near the ligand\n",
    "for a in p_near_l: print(a.residue)\n",
    "unique_resids = list(set([a.residue for a in p_near_l]))\n",
    "print(\"unique resids\")\n",
    "print(unique_resids)\n",
    "unique_resid_names = [r.resname for r in unique_resids]\n",
    "print(\"names of unique resids\")\n",
    "print(unique_resid_names)"
   ]
  },
  {
   "cell_type": "code",
   "execution_count": 25,
   "id": "09f63fdc",
   "metadata": {},
   "outputs": [],
   "source": [
    "kd_dict = {\"ALA\" : 1.8,\n",
    "\"CYS\" : 2.5,\n",
    "\"ASP\" : -3.5,\n",
    "\"GLU\" : -3.5,\n",
    "\"PHE\" : 2.8,\n",
    "\"GLY\" : -0.4,\n",
    "\"HIS\" : -3.2,\n",
    "\"ILE\" : 4.5,\n",
    "\"LYS\" : -3.9,\n",
    "\"LEU\" : 3.8,\n",
    "\"MET\" : 1.9,\n",
    "\"ASN\" : -3.5,\n",
    "\"PRO\" : -1.6,\n",
    "\"GLN\" : -3.5,\n",
    "\"ARG\" : -4.5,\n",
    "\"SER\" : -0.8,\n",
    "\"THR\" : -0.7,\n",
    "\"VAL\" : 4.2,\n",
    "\"TRP\" : -0.9,\n",
    "\"TYR\" : -1.3}"
   ]
  },
  {
   "cell_type": "code",
   "execution_count": 26,
   "id": "14644904",
   "metadata": {},
   "outputs": [
    {
     "name": "stdout",
     "output_type": "stream",
     "text": [
      "average -2.1571428571428575\n"
     ]
    }
   ],
   "source": [
    "kd_of_aas = []\n",
    "for aa_add in unique_resid_names:\n",
    "    if aa_add in kd_dict.keys():\n",
    "        kd_of_aas.append(kd_dict[aa_add])\n",
    "    else:\n",
    "        print(f\"PROBELM {aa_add} not in dictionary\")\n",
    "kd_average = np.average(kd_of_aas)\n",
    "print(f\"average {kd_average}\")"
   ]
  },
  {
   "cell_type": "code",
   "execution_count": 27,
   "id": "f5cc4ba9",
   "metadata": {},
   "outputs": [
    {
     "data": {
      "text/plain": [
       "-2.1571428571428575"
      ]
     },
     "execution_count": 27,
     "metadata": {},
     "output_type": "execute_result"
    }
   ],
   "source": [
    "(-4.5 + 3.8 + -4.5 + -3.2 + -1.3 + -4.5 + -0.9) / 7"
   ]
  },
  {
   "cell_type": "code",
   "execution_count": null,
   "id": "4e37e1c0",
   "metadata": {},
   "outputs": [],
   "source": []
  }
 ],
 "metadata": {
  "kernelspec": {
   "display_name": "mda_env_2",
   "language": "python",
   "name": "mda_env_2"
  },
  "language_info": {
   "codemirror_mode": {
    "name": "ipython",
    "version": 3
   },
   "file_extension": ".py",
   "mimetype": "text/x-python",
   "name": "python",
   "nbconvert_exporter": "python",
   "pygments_lexer": "ipython3",
   "version": "3.11.6"
  }
 },
 "nbformat": 4,
 "nbformat_minor": 5
}
