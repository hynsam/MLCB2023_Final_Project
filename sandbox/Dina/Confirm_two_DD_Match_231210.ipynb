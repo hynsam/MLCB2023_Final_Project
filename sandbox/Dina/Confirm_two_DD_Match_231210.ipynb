{
 "cells": [
  {
   "cell_type": "code",
   "execution_count": 18,
   "id": "8c6f07eb",
   "metadata": {},
   "outputs": [],
   "source": [
    "import numpy as np\n",
    "#confirm 3 pdb lists are same\n",
    "#gh_list = np.load(\"/Users/dsharon/Documents/MIT/6.8701/Project/Data/From_Hannes/DiffDock_PDB_Train/timesplit_no_lig_overlap_train.npy\")\n",
    "w_poses_list = np.load(\"/Users/dsharon/Documents/MIT/6.8701/Project/Data/From_Hannes/user_predictions_testset/complex_names.npy\")\n",
    "no_poses_list = np.load(\"/Users/dsharon/Documents/MIT/6.8701/Project/Data/From_Hannes/TEST3_top40_epoch75_FILTER_restart_cacheNewRestart_big_ema_ESM2emb_tr34_WITH_fixedSamples28_id1_FILTERFROM_temp_restart_ema_ESM2emb_tr34/complex_names.npy\")"
   ]
  },
  {
   "cell_type": "code",
   "execution_count": 19,
   "id": "cf6510cd",
   "metadata": {},
   "outputs": [],
   "source": [
    "w_poses_list_cleaned = [pdbi.split(\"/\")[-2] for pdbi in w_poses_list]"
   ]
  },
  {
   "cell_type": "code",
   "execution_count": 20,
   "id": "851f8fb0",
   "metadata": {},
   "outputs": [],
   "source": [
    "sorted_gh_list = sorted(gh_list)\n",
    "sorted_w_poses_list_cleaned = sorted(w_poses_list_cleaned)\n",
    "sorted_no_poses_list = sorted(no_poses_list)"
   ]
  },
  {
   "cell_type": "code",
   "execution_count": 21,
   "id": "6aec659d",
   "metadata": {},
   "outputs": [
    {
     "name": "stdout",
     "output_type": "stream",
     "text": [
      "16379\n",
      "363\n",
      "363\n"
     ]
    }
   ],
   "source": [
    "print(len(sorted_gh_list))\n",
    "print(len(sorted_w_poses_list_cleaned))\n",
    "print(len(sorted_no_poses_list))"
   ]
  },
  {
   "cell_type": "code",
   "execution_count": 22,
   "id": "16be9f3d",
   "metadata": {},
   "outputs": [],
   "source": [
    "for i in range(len(sorted_w_poses_list_cleaned)):\n",
    "    if sorted_w_poses_list_cleaned[i] != sorted_no_poses_list[i]:\n",
    "        print(\"MISMATCH\")"
   ]
  },
  {
   "cell_type": "code",
   "execution_count": null,
   "id": "f579482e",
   "metadata": {},
   "outputs": [],
   "source": []
  }
 ],
 "metadata": {
  "kernelspec": {
   "display_name": "Python 3 (ipykernel)",
   "language": "python",
   "name": "python3"
  },
  "language_info": {
   "codemirror_mode": {
    "name": "ipython",
    "version": 3
   },
   "file_extension": ".py",
   "mimetype": "text/x-python",
   "name": "python",
   "nbconvert_exporter": "python",
   "pygments_lexer": "ipython3",
   "version": "3.11.5"
  }
 },
 "nbformat": 4,
 "nbformat_minor": 5
}
